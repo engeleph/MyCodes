{
 "cells": [
  {
   "cell_type": "code",
   "execution_count": 1,
   "id": "73bf6dca",
   "metadata": {},
   "outputs": [],
   "source": [
    "# import all libraries you need here\n",
    "import os\n",
    "import zipfile\n",
    "\n",
    "import pandas as pd\n",
    "import numpy as np"
   ]
  },
  {
   "cell_type": "code",
   "execution_count": 2,
   "id": "5899ef4d",
   "metadata": {},
   "outputs": [],
   "source": [
    "import scanpy as sc\n",
    "import scanpy.external as sce\n",
    "from scipy.stats import spearmanr\n",
    "from sklearn.cluster import SpectralClustering\n",
    "from sklearn import metrics"
   ]
  },
  {
   "cell_type": "markdown",
   "id": "20e76b52",
   "metadata": {},
   "source": [
    "# Step 0: Download the training data"
   ]
  },
  {
   "cell_type": "code",
   "execution_count": 3,
   "id": "4dc0e1f6",
   "metadata": {},
   "outputs": [],
   "source": [
    "path_data = \".\""
   ]
  },
  {
   "cell_type": "code",
   "execution_count": 4,
   "id": "428ce22e",
   "metadata": {},
   "outputs": [],
   "source": [
    "# bulk_pancreas = pd.read_csv(os.path.join(path_data,\"train_data\",\"pancreas_bulk_train.csv\")).set_index(\"level_0\")\n",
    "bulk_pancreas = sc.read_csv(os.path.join(path_data,\"train_data\",\"pancreas_bulk_train.csv\"))"
   ]
  },
  {
   "cell_type": "code",
   "execution_count": 5,
   "id": "9bd6c906",
   "metadata": {},
   "outputs": [
    {
     "name": "stdout",
     "output_type": "stream",
     "text": [
      "Number of patients in the train dataset 4\n",
      "Number of genes in the dataset 25453\n"
     ]
    }
   ],
   "source": [
    "print(f\"Number of patients in the train dataset {bulk_pancreas.shape[1]}\")\n",
    "print(f\"Number of genes in the dataset {bulk_pancreas.shape[0]}\")"
   ]
  },
  {
   "cell_type": "code",
   "execution_count": 6,
   "id": "1306a4e9",
   "metadata": {},
   "outputs": [],
   "source": [
    "# sc_pancreas = pd.read_csv(os.path.join(path_data,\"train_data\",\"pancreas_sc_train.csv\")).set_index(\"Unnamed: 0\")\n",
    "sc_pancreas = sc.read_csv(os.path.join(path_data,\"train_data\",\"pancreas_sc_train.csv\"))"
   ]
  },
  {
   "cell_type": "code",
   "execution_count": 7,
   "id": "d93b17fc",
   "metadata": {},
   "outputs": [
    {
     "name": "stdout",
     "output_type": "stream",
     "text": [
      "Number of cells in the train dataset 978\n"
     ]
    }
   ],
   "source": [
    "assert bulk_pancreas.shape[0] == sc_pancreas.shape[0]\n",
    "print(f\"Number of cells in the train dataset {sc_pancreas.shape[1]}\")"
   ]
  },
  {
   "cell_type": "code",
   "execution_count": 8,
   "id": "6e35ed87",
   "metadata": {},
   "outputs": [],
   "source": [
    "# sc_pancreas_test = pd.read_csv(os.path.join(path_data,\"test_data\",\"pancreas_sc_test.csv\")).set_index(\"Unnamed: 0\")\n",
    "sc_pancreas_test = sc.read_csv(os.path.join(path_data,\"test_data\",\"pancreas_sc_test.csv\"))"
   ]
  },
  {
   "cell_type": "code",
   "execution_count": 9,
   "id": "6c382b33",
   "metadata": {},
   "outputs": [
    {
     "name": "stdout",
     "output_type": "stream",
     "text": [
      "Number of cells in the test dataset 789\n"
     ]
    }
   ],
   "source": [
    "print(f\"Number of cells in the test dataset {sc_pancreas_test.shape[1]}\")"
   ]
  },
  {
   "cell_type": "code",
   "execution_count": 10,
   "id": "bb28b9f1",
   "metadata": {},
   "outputs": [],
   "source": [
    "sc_pancreas_metadata = pd.read_csv(os.path.join(path_data,\"train_data\",\"pancreas_sc_metadata_train.csv\")).set_index(\"Source Name\")"
   ]
  },
  {
   "cell_type": "code",
   "execution_count": 11,
   "id": "bde772cf",
   "metadata": {},
   "outputs": [
    {
     "name": "stdout",
     "output_type": "stream",
     "text": [
      "Number of cells for patient1 is 249\n",
      "Number of cells for patient3 is 219\n",
      "Number of cells for patient2 is 234\n",
      "Number of cells for patient4 is 276\n"
     ]
    }
   ],
   "source": [
    "for patient in sc_pancreas_metadata.Sample.unique():\n",
    "    print(f\"Number of cells for {patient} is {sc_pancreas_metadata[sc_pancreas_metadata.Sample==patient].shape[0]}\")"
   ]
  },
  {
   "cell_type": "code",
   "execution_count": 12,
   "id": "e2027c27",
   "metadata": {},
   "outputs": [
    {
     "name": "stdout",
     "output_type": "stream",
     "text": [
      "There are 2 train patients with type II diabetes mellitus\n",
      "There are 2 train patients with normal\n"
     ]
    }
   ],
   "source": [
    "for dis in sc_pancreas_metadata.Disease.unique():\n",
    "    df = sc_pancreas_metadata[sc_pancreas_metadata.Disease==dis]\n",
    "    print(f\"There are {df.Sample.nunique()} train patients with {dis}\")"
   ]
  },
  {
   "cell_type": "code",
   "execution_count": 13,
   "id": "806c6c0a",
   "metadata": {},
   "outputs": [
    {
     "name": "stdout",
     "output_type": "stream",
     "text": [
      "There are 11 different cell types in the dataset\n",
      "The different cells types are ['delta cell' 'alpha cell' 'beta cell' 'PSC cell' 'endothelial cell'\n",
      " 'gamma cell' 'co-expression cell' 'ductal cell' 'epsilon cell'\n",
      " 'unclassified endocrine cell' 'acinar cell']\n"
     ]
    }
   ],
   "source": [
    "print(f\"There are {df.Celltype.nunique()} different cell types in the dataset\")\n",
    "print(f\"The different cells types are {df.Celltype.unique()}\")"
   ]
  },
  {
   "cell_type": "code",
   "execution_count": 14,
   "id": "aad9fa2f",
   "metadata": {},
   "outputs": [],
   "source": [
    "sc_pancreas_metadata_test = pd.read_csv(os.path.join(path_data,\"test_data\",\"pancreas_sc_metadata_test_wocelltype.csv\")).set_index(\"Source Name\")"
   ]
  },
  {
   "cell_type": "code",
   "execution_count": 15,
   "id": "2ee0bc2b",
   "metadata": {},
   "outputs": [
    {
     "name": "stdout",
     "output_type": "stream",
     "text": [
      "Number of cells for patient5 is 203\n",
      "Number of cells for patient7 is 284\n",
      "Number of cells for patient6 is 302\n"
     ]
    }
   ],
   "source": [
    "for patient in sc_pancreas_metadata_test.Sample.unique():\n",
    "    print(f\"Number of cells for {patient} is {sc_pancreas_metadata_test[sc_pancreas_metadata_test.Sample==patient].shape[0]}\")"
   ]
  },
  {
   "cell_type": "code",
   "execution_count": 16,
   "id": "ffd5982d",
   "metadata": {},
   "outputs": [
    {
     "name": "stdout",
     "output_type": "stream",
     "text": [
      "There are 1 test patients with normal\n",
      "There are 2 test patients with type II diabetes mellitus\n"
     ]
    }
   ],
   "source": [
    "for dis in sc_pancreas_metadata_test.Disease.unique():\n",
    "    df = sc_pancreas_metadata_test[sc_pancreas_metadata_test.Disease==dis]\n",
    "    print(f\"There are {df.Sample.nunique()} test patients with {dis}\")"
   ]
  },
  {
   "cell_type": "markdown",
   "id": "9d634db5",
   "metadata": {},
   "source": [
    "# Step 1: Perform the imputation"
   ]
  },
  {
   "cell_type": "code",
   "execution_count": 17,
   "id": "d45b51d9",
   "metadata": {},
   "outputs": [
    {
     "data": {
      "text/html": [
       "<div>\n",
       "<style scoped>\n",
       "    .dataframe tbody tr th:only-of-type {\n",
       "        vertical-align: middle;\n",
       "    }\n",
       "\n",
       "    .dataframe tbody tr th {\n",
       "        vertical-align: top;\n",
       "    }\n",
       "\n",
       "    .dataframe thead th {\n",
       "        text-align: right;\n",
       "    }\n",
       "</style>\n",
       "<table border=\"1\" class=\"dataframe\">\n",
       "  <thead>\n",
       "    <tr style=\"text-align: right;\">\n",
       "      <th></th>\n",
       "      <th>Sample</th>\n",
       "      <th>Disease</th>\n",
       "      <th>Celltype</th>\n",
       "    </tr>\n",
       "    <tr>\n",
       "      <th>Source Name</th>\n",
       "      <th></th>\n",
       "      <th></th>\n",
       "      <th></th>\n",
       "    </tr>\n",
       "  </thead>\n",
       "  <tbody>\n",
       "    <tr>\n",
       "      <th>patient1_A10</th>\n",
       "      <td>patient1</td>\n",
       "      <td>type II diabetes mellitus</td>\n",
       "      <td>acinar cell</td>\n",
       "    </tr>\n",
       "    <tr>\n",
       "      <th>patient1_A12</th>\n",
       "      <td>patient1</td>\n",
       "      <td>type II diabetes mellitus</td>\n",
       "      <td>alpha cell</td>\n",
       "    </tr>\n",
       "    <tr>\n",
       "      <th>patient1_A13</th>\n",
       "      <td>patient1</td>\n",
       "      <td>type II diabetes mellitus</td>\n",
       "      <td>gamma cell</td>\n",
       "    </tr>\n",
       "    <tr>\n",
       "      <th>patient1_A15</th>\n",
       "      <td>patient1</td>\n",
       "      <td>type II diabetes mellitus</td>\n",
       "      <td>gamma cell</td>\n",
       "    </tr>\n",
       "    <tr>\n",
       "      <th>patient1_A17</th>\n",
       "      <td>patient1</td>\n",
       "      <td>type II diabetes mellitus</td>\n",
       "      <td>gamma cell</td>\n",
       "    </tr>\n",
       "    <tr>\n",
       "      <th>...</th>\n",
       "      <td>...</td>\n",
       "      <td>...</td>\n",
       "      <td>...</td>\n",
       "    </tr>\n",
       "    <tr>\n",
       "      <th>patient4_P5</th>\n",
       "      <td>patient4</td>\n",
       "      <td>type II diabetes mellitus</td>\n",
       "      <td>co-expression cell</td>\n",
       "    </tr>\n",
       "    <tr>\n",
       "      <th>patient4_P6</th>\n",
       "      <td>patient4</td>\n",
       "      <td>type II diabetes mellitus</td>\n",
       "      <td>alpha cell</td>\n",
       "    </tr>\n",
       "    <tr>\n",
       "      <th>patient4_P7</th>\n",
       "      <td>patient4</td>\n",
       "      <td>type II diabetes mellitus</td>\n",
       "      <td>alpha cell</td>\n",
       "    </tr>\n",
       "    <tr>\n",
       "      <th>patient4_P8</th>\n",
       "      <td>patient4</td>\n",
       "      <td>type II diabetes mellitus</td>\n",
       "      <td>alpha cell</td>\n",
       "    </tr>\n",
       "    <tr>\n",
       "      <th>patient4_P9</th>\n",
       "      <td>patient4</td>\n",
       "      <td>type II diabetes mellitus</td>\n",
       "      <td>alpha cell</td>\n",
       "    </tr>\n",
       "  </tbody>\n",
       "</table>\n",
       "<p>978 rows × 3 columns</p>\n",
       "</div>"
      ],
      "text/plain": [
       "                Sample                    Disease            Celltype\n",
       "Source Name                                                          \n",
       "patient1_A10  patient1  type II diabetes mellitus         acinar cell\n",
       "patient1_A12  patient1  type II diabetes mellitus          alpha cell\n",
       "patient1_A13  patient1  type II diabetes mellitus          gamma cell\n",
       "patient1_A15  patient1  type II diabetes mellitus          gamma cell\n",
       "patient1_A17  patient1  type II diabetes mellitus          gamma cell\n",
       "...                ...                        ...                 ...\n",
       "patient4_P5   patient4  type II diabetes mellitus  co-expression cell\n",
       "patient4_P6   patient4  type II diabetes mellitus          alpha cell\n",
       "patient4_P7   patient4  type II diabetes mellitus          alpha cell\n",
       "patient4_P8   patient4  type II diabetes mellitus          alpha cell\n",
       "patient4_P9   patient4  type II diabetes mellitus          alpha cell\n",
       "\n",
       "[978 rows x 3 columns]"
      ]
     },
     "execution_count": 17,
     "metadata": {},
     "output_type": "execute_result"
    }
   ],
   "source": [
    "sc_pancreas_metadata"
   ]
  },
  {
   "cell_type": "code",
   "execution_count": 18,
   "id": "9d73d564",
   "metadata": {},
   "outputs": [
    {
     "data": {
      "text/html": [
       "<div>\n",
       "<style scoped>\n",
       "    .dataframe tbody tr th:only-of-type {\n",
       "        vertical-align: middle;\n",
       "    }\n",
       "\n",
       "    .dataframe tbody tr th {\n",
       "        vertical-align: top;\n",
       "    }\n",
       "\n",
       "    .dataframe thead th {\n",
       "        text-align: right;\n",
       "    }\n",
       "</style>\n",
       "<table border=\"1\" class=\"dataframe\">\n",
       "  <thead>\n",
       "    <tr style=\"text-align: right;\">\n",
       "      <th></th>\n",
       "      <th>patient1_A10</th>\n",
       "      <th>patient1_A12</th>\n",
       "      <th>patient1_A13</th>\n",
       "      <th>patient1_A15</th>\n",
       "      <th>patient1_A17</th>\n",
       "      <th>patient1_A18</th>\n",
       "      <th>patient1_A19</th>\n",
       "      <th>patient1_A20</th>\n",
       "      <th>patient1_A23</th>\n",
       "      <th>patient1_A24</th>\n",
       "      <th>...</th>\n",
       "      <th>patient4_P11</th>\n",
       "      <th>patient4_P14</th>\n",
       "      <th>patient4_P2</th>\n",
       "      <th>patient4_P3</th>\n",
       "      <th>patient4_P4</th>\n",
       "      <th>patient4_P5</th>\n",
       "      <th>patient4_P6</th>\n",
       "      <th>patient4_P7</th>\n",
       "      <th>patient4_P8</th>\n",
       "      <th>patient4_P9</th>\n",
       "    </tr>\n",
       "  </thead>\n",
       "  <tbody>\n",
       "    <tr>\n",
       "      <th>SGIP1</th>\n",
       "      <td>0.0</td>\n",
       "      <td>0.0</td>\n",
       "      <td>0.0</td>\n",
       "      <td>7.0</td>\n",
       "      <td>0.0</td>\n",
       "      <td>0.0</td>\n",
       "      <td>0.0</td>\n",
       "      <td>0.0</td>\n",
       "      <td>0.0</td>\n",
       "      <td>0.0</td>\n",
       "      <td>...</td>\n",
       "      <td>0.0</td>\n",
       "      <td>0.0</td>\n",
       "      <td>0.0</td>\n",
       "      <td>0.0</td>\n",
       "      <td>0.0</td>\n",
       "      <td>0.0</td>\n",
       "      <td>0.0</td>\n",
       "      <td>0.0</td>\n",
       "      <td>0.0</td>\n",
       "      <td>0.0</td>\n",
       "    </tr>\n",
       "    <tr>\n",
       "      <th>AZIN2</th>\n",
       "      <td>0.0</td>\n",
       "      <td>0.0</td>\n",
       "      <td>110.0</td>\n",
       "      <td>0.0</td>\n",
       "      <td>1.0</td>\n",
       "      <td>0.0</td>\n",
       "      <td>0.0</td>\n",
       "      <td>0.0</td>\n",
       "      <td>0.0</td>\n",
       "      <td>192.0</td>\n",
       "      <td>...</td>\n",
       "      <td>5.0</td>\n",
       "      <td>8.0</td>\n",
       "      <td>0.0</td>\n",
       "      <td>0.0</td>\n",
       "      <td>1.0</td>\n",
       "      <td>0.0</td>\n",
       "      <td>0.0</td>\n",
       "      <td>47.0</td>\n",
       "      <td>0.0</td>\n",
       "      <td>4.0</td>\n",
       "    </tr>\n",
       "    <tr>\n",
       "      <th>CLIC4</th>\n",
       "      <td>127.0</td>\n",
       "      <td>0.0</td>\n",
       "      <td>0.0</td>\n",
       "      <td>33.0</td>\n",
       "      <td>0.0</td>\n",
       "      <td>0.0</td>\n",
       "      <td>0.0</td>\n",
       "      <td>0.0</td>\n",
       "      <td>30.0</td>\n",
       "      <td>0.0</td>\n",
       "      <td>...</td>\n",
       "      <td>0.0</td>\n",
       "      <td>13.0</td>\n",
       "      <td>7.0</td>\n",
       "      <td>2.0</td>\n",
       "      <td>0.0</td>\n",
       "      <td>0.0</td>\n",
       "      <td>0.0</td>\n",
       "      <td>2.0</td>\n",
       "      <td>0.0</td>\n",
       "      <td>0.0</td>\n",
       "    </tr>\n",
       "    <tr>\n",
       "      <th>AGBL4</th>\n",
       "      <td>0.0</td>\n",
       "      <td>0.0</td>\n",
       "      <td>21.0</td>\n",
       "      <td>0.0</td>\n",
       "      <td>0.0</td>\n",
       "      <td>0.0</td>\n",
       "      <td>0.0</td>\n",
       "      <td>0.0</td>\n",
       "      <td>0.0</td>\n",
       "      <td>33.0</td>\n",
       "      <td>...</td>\n",
       "      <td>2.0</td>\n",
       "      <td>21.0</td>\n",
       "      <td>0.0</td>\n",
       "      <td>0.0</td>\n",
       "      <td>0.0</td>\n",
       "      <td>0.0</td>\n",
       "      <td>0.0</td>\n",
       "      <td>0.0</td>\n",
       "      <td>0.0</td>\n",
       "      <td>0.0</td>\n",
       "    </tr>\n",
       "    <tr>\n",
       "      <th>NECAP2</th>\n",
       "      <td>140.0</td>\n",
       "      <td>0.0</td>\n",
       "      <td>0.0</td>\n",
       "      <td>171.0</td>\n",
       "      <td>87.0</td>\n",
       "      <td>32.0</td>\n",
       "      <td>0.0</td>\n",
       "      <td>0.0</td>\n",
       "      <td>0.0</td>\n",
       "      <td>39.0</td>\n",
       "      <td>...</td>\n",
       "      <td>4.0</td>\n",
       "      <td>95.0</td>\n",
       "      <td>88.0</td>\n",
       "      <td>18.0</td>\n",
       "      <td>4.0</td>\n",
       "      <td>2.0</td>\n",
       "      <td>2.0</td>\n",
       "      <td>2.0</td>\n",
       "      <td>108.0</td>\n",
       "      <td>0.0</td>\n",
       "    </tr>\n",
       "    <tr>\n",
       "      <th>...</th>\n",
       "      <td>...</td>\n",
       "      <td>...</td>\n",
       "      <td>...</td>\n",
       "      <td>...</td>\n",
       "      <td>...</td>\n",
       "      <td>...</td>\n",
       "      <td>...</td>\n",
       "      <td>...</td>\n",
       "      <td>...</td>\n",
       "      <td>...</td>\n",
       "      <td>...</td>\n",
       "      <td>...</td>\n",
       "      <td>...</td>\n",
       "      <td>...</td>\n",
       "      <td>...</td>\n",
       "      <td>...</td>\n",
       "      <td>...</td>\n",
       "      <td>...</td>\n",
       "      <td>...</td>\n",
       "      <td>...</td>\n",
       "      <td>...</td>\n",
       "    </tr>\n",
       "    <tr>\n",
       "      <th>KIR2DL5B</th>\n",
       "      <td>0.0</td>\n",
       "      <td>0.0</td>\n",
       "      <td>0.0</td>\n",
       "      <td>0.0</td>\n",
       "      <td>0.0</td>\n",
       "      <td>0.0</td>\n",
       "      <td>0.0</td>\n",
       "      <td>0.0</td>\n",
       "      <td>0.0</td>\n",
       "      <td>0.0</td>\n",
       "      <td>...</td>\n",
       "      <td>0.0</td>\n",
       "      <td>0.0</td>\n",
       "      <td>0.0</td>\n",
       "      <td>0.0</td>\n",
       "      <td>0.0</td>\n",
       "      <td>0.0</td>\n",
       "      <td>0.0</td>\n",
       "      <td>0.0</td>\n",
       "      <td>0.0</td>\n",
       "      <td>0.0</td>\n",
       "    </tr>\n",
       "    <tr>\n",
       "      <th>KIR2DS2</th>\n",
       "      <td>0.0</td>\n",
       "      <td>0.0</td>\n",
       "      <td>0.0</td>\n",
       "      <td>0.0</td>\n",
       "      <td>0.0</td>\n",
       "      <td>0.0</td>\n",
       "      <td>0.0</td>\n",
       "      <td>0.0</td>\n",
       "      <td>0.0</td>\n",
       "      <td>0.0</td>\n",
       "      <td>...</td>\n",
       "      <td>0.0</td>\n",
       "      <td>0.0</td>\n",
       "      <td>0.0</td>\n",
       "      <td>0.0</td>\n",
       "      <td>0.0</td>\n",
       "      <td>0.0</td>\n",
       "      <td>0.0</td>\n",
       "      <td>0.0</td>\n",
       "      <td>0.0</td>\n",
       "      <td>0.0</td>\n",
       "    </tr>\n",
       "    <tr>\n",
       "      <th>KIR2DS1</th>\n",
       "      <td>0.0</td>\n",
       "      <td>0.0</td>\n",
       "      <td>0.0</td>\n",
       "      <td>0.0</td>\n",
       "      <td>0.0</td>\n",
       "      <td>0.0</td>\n",
       "      <td>0.0</td>\n",
       "      <td>0.0</td>\n",
       "      <td>0.0</td>\n",
       "      <td>0.0</td>\n",
       "      <td>...</td>\n",
       "      <td>0.0</td>\n",
       "      <td>0.0</td>\n",
       "      <td>0.0</td>\n",
       "      <td>0.0</td>\n",
       "      <td>0.0</td>\n",
       "      <td>0.0</td>\n",
       "      <td>0.0</td>\n",
       "      <td>0.0</td>\n",
       "      <td>0.0</td>\n",
       "      <td>0.0</td>\n",
       "    </tr>\n",
       "    <tr>\n",
       "      <th>KIR2DL2</th>\n",
       "      <td>0.0</td>\n",
       "      <td>0.0</td>\n",
       "      <td>0.0</td>\n",
       "      <td>0.0</td>\n",
       "      <td>0.0</td>\n",
       "      <td>0.0</td>\n",
       "      <td>0.0</td>\n",
       "      <td>0.0</td>\n",
       "      <td>0.0</td>\n",
       "      <td>0.0</td>\n",
       "      <td>...</td>\n",
       "      <td>0.0</td>\n",
       "      <td>0.0</td>\n",
       "      <td>0.0</td>\n",
       "      <td>0.0</td>\n",
       "      <td>0.0</td>\n",
       "      <td>0.0</td>\n",
       "      <td>0.0</td>\n",
       "      <td>0.0</td>\n",
       "      <td>0.0</td>\n",
       "      <td>0.0</td>\n",
       "    </tr>\n",
       "    <tr>\n",
       "      <th>KIR2DS3</th>\n",
       "      <td>0.0</td>\n",
       "      <td>0.0</td>\n",
       "      <td>0.0</td>\n",
       "      <td>0.0</td>\n",
       "      <td>0.0</td>\n",
       "      <td>0.0</td>\n",
       "      <td>0.0</td>\n",
       "      <td>0.0</td>\n",
       "      <td>0.0</td>\n",
       "      <td>0.0</td>\n",
       "      <td>...</td>\n",
       "      <td>0.0</td>\n",
       "      <td>0.0</td>\n",
       "      <td>0.0</td>\n",
       "      <td>0.0</td>\n",
       "      <td>0.0</td>\n",
       "      <td>0.0</td>\n",
       "      <td>0.0</td>\n",
       "      <td>0.0</td>\n",
       "      <td>0.0</td>\n",
       "      <td>0.0</td>\n",
       "    </tr>\n",
       "  </tbody>\n",
       "</table>\n",
       "<p>25453 rows × 978 columns</p>\n",
       "</div>"
      ],
      "text/plain": [
       "          patient1_A10  patient1_A12  patient1_A13  patient1_A15  \\\n",
       "SGIP1              0.0           0.0           0.0           7.0   \n",
       "AZIN2              0.0           0.0         110.0           0.0   \n",
       "CLIC4            127.0           0.0           0.0          33.0   \n",
       "AGBL4              0.0           0.0          21.0           0.0   \n",
       "NECAP2           140.0           0.0           0.0         171.0   \n",
       "...                ...           ...           ...           ...   \n",
       "KIR2DL5B           0.0           0.0           0.0           0.0   \n",
       "KIR2DS2            0.0           0.0           0.0           0.0   \n",
       "KIR2DS1            0.0           0.0           0.0           0.0   \n",
       "KIR2DL2            0.0           0.0           0.0           0.0   \n",
       "KIR2DS3            0.0           0.0           0.0           0.0   \n",
       "\n",
       "          patient1_A17  patient1_A18  patient1_A19  patient1_A20  \\\n",
       "SGIP1              0.0           0.0           0.0           0.0   \n",
       "AZIN2              1.0           0.0           0.0           0.0   \n",
       "CLIC4              0.0           0.0           0.0           0.0   \n",
       "AGBL4              0.0           0.0           0.0           0.0   \n",
       "NECAP2            87.0          32.0           0.0           0.0   \n",
       "...                ...           ...           ...           ...   \n",
       "KIR2DL5B           0.0           0.0           0.0           0.0   \n",
       "KIR2DS2            0.0           0.0           0.0           0.0   \n",
       "KIR2DS1            0.0           0.0           0.0           0.0   \n",
       "KIR2DL2            0.0           0.0           0.0           0.0   \n",
       "KIR2DS3            0.0           0.0           0.0           0.0   \n",
       "\n",
       "          patient1_A23  patient1_A24  ...  patient4_P11  patient4_P14  \\\n",
       "SGIP1              0.0           0.0  ...           0.0           0.0   \n",
       "AZIN2              0.0         192.0  ...           5.0           8.0   \n",
       "CLIC4             30.0           0.0  ...           0.0          13.0   \n",
       "AGBL4              0.0          33.0  ...           2.0          21.0   \n",
       "NECAP2             0.0          39.0  ...           4.0          95.0   \n",
       "...                ...           ...  ...           ...           ...   \n",
       "KIR2DL5B           0.0           0.0  ...           0.0           0.0   \n",
       "KIR2DS2            0.0           0.0  ...           0.0           0.0   \n",
       "KIR2DS1            0.0           0.0  ...           0.0           0.0   \n",
       "KIR2DL2            0.0           0.0  ...           0.0           0.0   \n",
       "KIR2DS3            0.0           0.0  ...           0.0           0.0   \n",
       "\n",
       "          patient4_P2  patient4_P3  patient4_P4  patient4_P5  patient4_P6  \\\n",
       "SGIP1             0.0          0.0          0.0          0.0          0.0   \n",
       "AZIN2             0.0          0.0          1.0          0.0          0.0   \n",
       "CLIC4             7.0          2.0          0.0          0.0          0.0   \n",
       "AGBL4             0.0          0.0          0.0          0.0          0.0   \n",
       "NECAP2           88.0         18.0          4.0          2.0          2.0   \n",
       "...               ...          ...          ...          ...          ...   \n",
       "KIR2DL5B          0.0          0.0          0.0          0.0          0.0   \n",
       "KIR2DS2           0.0          0.0          0.0          0.0          0.0   \n",
       "KIR2DS1           0.0          0.0          0.0          0.0          0.0   \n",
       "KIR2DL2           0.0          0.0          0.0          0.0          0.0   \n",
       "KIR2DS3           0.0          0.0          0.0          0.0          0.0   \n",
       "\n",
       "          patient4_P7  patient4_P8  patient4_P9  \n",
       "SGIP1             0.0          0.0          0.0  \n",
       "AZIN2            47.0          0.0          4.0  \n",
       "CLIC4             2.0          0.0          0.0  \n",
       "AGBL4             0.0          0.0          0.0  \n",
       "NECAP2            2.0        108.0          0.0  \n",
       "...               ...          ...          ...  \n",
       "KIR2DL5B          0.0          0.0          0.0  \n",
       "KIR2DS2           0.0          0.0          0.0  \n",
       "KIR2DS1           0.0          0.0          0.0  \n",
       "KIR2DL2           0.0          0.0          0.0  \n",
       "KIR2DS3           0.0          0.0          0.0  \n",
       "\n",
       "[25453 rows x 978 columns]"
      ]
     },
     "execution_count": 18,
     "metadata": {},
     "output_type": "execute_result"
    }
   ],
   "source": [
    "sc_pancreas.to_df()"
   ]
  },
  {
   "cell_type": "code",
   "execution_count": 19,
   "id": "682cf1e0",
   "metadata": {},
   "outputs": [
    {
     "data": {
      "text/html": [
       "<div>\n",
       "<style scoped>\n",
       "    .dataframe tbody tr th:only-of-type {\n",
       "        vertical-align: middle;\n",
       "    }\n",
       "\n",
       "    .dataframe tbody tr th {\n",
       "        vertical-align: top;\n",
       "    }\n",
       "\n",
       "    .dataframe thead th {\n",
       "        text-align: right;\n",
       "    }\n",
       "</style>\n",
       "<table border=\"1\" class=\"dataframe\">\n",
       "  <thead>\n",
       "    <tr style=\"text-align: right;\">\n",
       "      <th></th>\n",
       "      <th>patient5_A12</th>\n",
       "      <th>patient5_A14</th>\n",
       "      <th>patient5_A20</th>\n",
       "      <th>patient5_A22</th>\n",
       "      <th>patient5_A4</th>\n",
       "      <th>patient5_A5</th>\n",
       "      <th>patient5_A6</th>\n",
       "      <th>patient5_B1</th>\n",
       "      <th>patient5_B12</th>\n",
       "      <th>patient5_B13</th>\n",
       "      <th>...</th>\n",
       "      <th>patient6_P18</th>\n",
       "      <th>patient6_P19</th>\n",
       "      <th>patient6_P2</th>\n",
       "      <th>patient6_P20</th>\n",
       "      <th>patient6_P21</th>\n",
       "      <th>patient6_P22</th>\n",
       "      <th>patient6_P23</th>\n",
       "      <th>patient6_P4</th>\n",
       "      <th>patient6_P7</th>\n",
       "      <th>patient6_P9</th>\n",
       "    </tr>\n",
       "  </thead>\n",
       "  <tbody>\n",
       "    <tr>\n",
       "      <th>SGIP1</th>\n",
       "      <td>0.0</td>\n",
       "      <td>0.0</td>\n",
       "      <td>0.0</td>\n",
       "      <td>0.0</td>\n",
       "      <td>0.0</td>\n",
       "      <td>0.0</td>\n",
       "      <td>0.0</td>\n",
       "      <td>0.0</td>\n",
       "      <td>0.0</td>\n",
       "      <td>0.0</td>\n",
       "      <td>...</td>\n",
       "      <td>0.0</td>\n",
       "      <td>0.0</td>\n",
       "      <td>0.0</td>\n",
       "      <td>0.0</td>\n",
       "      <td>0.0</td>\n",
       "      <td>0.0</td>\n",
       "      <td>0.0</td>\n",
       "      <td>0.0</td>\n",
       "      <td>0.0</td>\n",
       "      <td>0.0</td>\n",
       "    </tr>\n",
       "    <tr>\n",
       "      <th>AZIN2</th>\n",
       "      <td>2.0</td>\n",
       "      <td>2.0</td>\n",
       "      <td>0.0</td>\n",
       "      <td>0.0</td>\n",
       "      <td>26.0</td>\n",
       "      <td>0.0</td>\n",
       "      <td>0.0</td>\n",
       "      <td>0.0</td>\n",
       "      <td>0.0</td>\n",
       "      <td>0.0</td>\n",
       "      <td>...</td>\n",
       "      <td>0.0</td>\n",
       "      <td>0.0</td>\n",
       "      <td>0.0</td>\n",
       "      <td>7.0</td>\n",
       "      <td>0.0</td>\n",
       "      <td>0.0</td>\n",
       "      <td>0.0</td>\n",
       "      <td>0.0</td>\n",
       "      <td>0.0</td>\n",
       "      <td>6.0</td>\n",
       "    </tr>\n",
       "    <tr>\n",
       "      <th>CLIC4</th>\n",
       "      <td>0.0</td>\n",
       "      <td>0.0</td>\n",
       "      <td>0.0</td>\n",
       "      <td>1.0</td>\n",
       "      <td>0.0</td>\n",
       "      <td>0.0</td>\n",
       "      <td>0.0</td>\n",
       "      <td>0.0</td>\n",
       "      <td>1.0</td>\n",
       "      <td>0.0</td>\n",
       "      <td>...</td>\n",
       "      <td>8.0</td>\n",
       "      <td>0.0</td>\n",
       "      <td>3.0</td>\n",
       "      <td>7.0</td>\n",
       "      <td>33.0</td>\n",
       "      <td>0.0</td>\n",
       "      <td>0.0</td>\n",
       "      <td>0.0</td>\n",
       "      <td>16.0</td>\n",
       "      <td>0.0</td>\n",
       "    </tr>\n",
       "    <tr>\n",
       "      <th>AGBL4</th>\n",
       "      <td>0.0</td>\n",
       "      <td>0.0</td>\n",
       "      <td>0.0</td>\n",
       "      <td>0.0</td>\n",
       "      <td>0.0</td>\n",
       "      <td>2.0</td>\n",
       "      <td>0.0</td>\n",
       "      <td>2.0</td>\n",
       "      <td>0.0</td>\n",
       "      <td>0.0</td>\n",
       "      <td>...</td>\n",
       "      <td>0.0</td>\n",
       "      <td>0.0</td>\n",
       "      <td>0.0</td>\n",
       "      <td>0.0</td>\n",
       "      <td>0.0</td>\n",
       "      <td>0.0</td>\n",
       "      <td>12.0</td>\n",
       "      <td>0.0</td>\n",
       "      <td>0.0</td>\n",
       "      <td>0.0</td>\n",
       "    </tr>\n",
       "    <tr>\n",
       "      <th>NECAP2</th>\n",
       "      <td>1.0</td>\n",
       "      <td>0.0</td>\n",
       "      <td>5.0</td>\n",
       "      <td>2.0</td>\n",
       "      <td>0.0</td>\n",
       "      <td>3.0</td>\n",
       "      <td>0.0</td>\n",
       "      <td>10.0</td>\n",
       "      <td>7.0</td>\n",
       "      <td>12.0</td>\n",
       "      <td>...</td>\n",
       "      <td>1.0</td>\n",
       "      <td>0.0</td>\n",
       "      <td>0.0</td>\n",
       "      <td>0.0</td>\n",
       "      <td>0.0</td>\n",
       "      <td>1.0</td>\n",
       "      <td>1.0</td>\n",
       "      <td>0.0</td>\n",
       "      <td>9.0</td>\n",
       "      <td>8.0</td>\n",
       "    </tr>\n",
       "    <tr>\n",
       "      <th>...</th>\n",
       "      <td>...</td>\n",
       "      <td>...</td>\n",
       "      <td>...</td>\n",
       "      <td>...</td>\n",
       "      <td>...</td>\n",
       "      <td>...</td>\n",
       "      <td>...</td>\n",
       "      <td>...</td>\n",
       "      <td>...</td>\n",
       "      <td>...</td>\n",
       "      <td>...</td>\n",
       "      <td>...</td>\n",
       "      <td>...</td>\n",
       "      <td>...</td>\n",
       "      <td>...</td>\n",
       "      <td>...</td>\n",
       "      <td>...</td>\n",
       "      <td>...</td>\n",
       "      <td>...</td>\n",
       "      <td>...</td>\n",
       "      <td>...</td>\n",
       "    </tr>\n",
       "    <tr>\n",
       "      <th>KIR2DL5B</th>\n",
       "      <td>0.0</td>\n",
       "      <td>0.0</td>\n",
       "      <td>0.0</td>\n",
       "      <td>0.0</td>\n",
       "      <td>0.0</td>\n",
       "      <td>0.0</td>\n",
       "      <td>0.0</td>\n",
       "      <td>0.0</td>\n",
       "      <td>0.0</td>\n",
       "      <td>0.0</td>\n",
       "      <td>...</td>\n",
       "      <td>0.0</td>\n",
       "      <td>0.0</td>\n",
       "      <td>0.0</td>\n",
       "      <td>0.0</td>\n",
       "      <td>0.0</td>\n",
       "      <td>0.0</td>\n",
       "      <td>0.0</td>\n",
       "      <td>0.0</td>\n",
       "      <td>0.0</td>\n",
       "      <td>0.0</td>\n",
       "    </tr>\n",
       "    <tr>\n",
       "      <th>KIR2DS2</th>\n",
       "      <td>0.0</td>\n",
       "      <td>0.0</td>\n",
       "      <td>0.0</td>\n",
       "      <td>0.0</td>\n",
       "      <td>0.0</td>\n",
       "      <td>0.0</td>\n",
       "      <td>0.0</td>\n",
       "      <td>0.0</td>\n",
       "      <td>0.0</td>\n",
       "      <td>0.0</td>\n",
       "      <td>...</td>\n",
       "      <td>0.0</td>\n",
       "      <td>0.0</td>\n",
       "      <td>0.0</td>\n",
       "      <td>0.0</td>\n",
       "      <td>0.0</td>\n",
       "      <td>0.0</td>\n",
       "      <td>0.0</td>\n",
       "      <td>0.0</td>\n",
       "      <td>0.0</td>\n",
       "      <td>0.0</td>\n",
       "    </tr>\n",
       "    <tr>\n",
       "      <th>KIR2DS1</th>\n",
       "      <td>0.0</td>\n",
       "      <td>0.0</td>\n",
       "      <td>0.0</td>\n",
       "      <td>0.0</td>\n",
       "      <td>0.0</td>\n",
       "      <td>0.0</td>\n",
       "      <td>0.0</td>\n",
       "      <td>0.0</td>\n",
       "      <td>0.0</td>\n",
       "      <td>0.0</td>\n",
       "      <td>...</td>\n",
       "      <td>0.0</td>\n",
       "      <td>0.0</td>\n",
       "      <td>0.0</td>\n",
       "      <td>0.0</td>\n",
       "      <td>0.0</td>\n",
       "      <td>0.0</td>\n",
       "      <td>0.0</td>\n",
       "      <td>0.0</td>\n",
       "      <td>0.0</td>\n",
       "      <td>0.0</td>\n",
       "    </tr>\n",
       "    <tr>\n",
       "      <th>KIR2DL2</th>\n",
       "      <td>0.0</td>\n",
       "      <td>0.0</td>\n",
       "      <td>0.0</td>\n",
       "      <td>0.0</td>\n",
       "      <td>0.0</td>\n",
       "      <td>0.0</td>\n",
       "      <td>0.0</td>\n",
       "      <td>0.0</td>\n",
       "      <td>0.0</td>\n",
       "      <td>0.0</td>\n",
       "      <td>...</td>\n",
       "      <td>0.0</td>\n",
       "      <td>0.0</td>\n",
       "      <td>0.0</td>\n",
       "      <td>0.0</td>\n",
       "      <td>0.0</td>\n",
       "      <td>0.0</td>\n",
       "      <td>0.0</td>\n",
       "      <td>0.0</td>\n",
       "      <td>0.0</td>\n",
       "      <td>0.0</td>\n",
       "    </tr>\n",
       "    <tr>\n",
       "      <th>KIR2DS3</th>\n",
       "      <td>0.0</td>\n",
       "      <td>0.0</td>\n",
       "      <td>0.0</td>\n",
       "      <td>0.0</td>\n",
       "      <td>0.0</td>\n",
       "      <td>0.0</td>\n",
       "      <td>0.0</td>\n",
       "      <td>0.0</td>\n",
       "      <td>0.0</td>\n",
       "      <td>0.0</td>\n",
       "      <td>...</td>\n",
       "      <td>0.0</td>\n",
       "      <td>0.0</td>\n",
       "      <td>0.0</td>\n",
       "      <td>0.0</td>\n",
       "      <td>0.0</td>\n",
       "      <td>0.0</td>\n",
       "      <td>0.0</td>\n",
       "      <td>0.0</td>\n",
       "      <td>0.0</td>\n",
       "      <td>0.0</td>\n",
       "    </tr>\n",
       "  </tbody>\n",
       "</table>\n",
       "<p>25453 rows × 789 columns</p>\n",
       "</div>"
      ],
      "text/plain": [
       "          patient5_A12  patient5_A14  patient5_A20  patient5_A22  patient5_A4  \\\n",
       "SGIP1              0.0           0.0           0.0           0.0          0.0   \n",
       "AZIN2              2.0           2.0           0.0           0.0         26.0   \n",
       "CLIC4              0.0           0.0           0.0           1.0          0.0   \n",
       "AGBL4              0.0           0.0           0.0           0.0          0.0   \n",
       "NECAP2             1.0           0.0           5.0           2.0          0.0   \n",
       "...                ...           ...           ...           ...          ...   \n",
       "KIR2DL5B           0.0           0.0           0.0           0.0          0.0   \n",
       "KIR2DS2            0.0           0.0           0.0           0.0          0.0   \n",
       "KIR2DS1            0.0           0.0           0.0           0.0          0.0   \n",
       "KIR2DL2            0.0           0.0           0.0           0.0          0.0   \n",
       "KIR2DS3            0.0           0.0           0.0           0.0          0.0   \n",
       "\n",
       "          patient5_A5  patient5_A6  patient5_B1  patient5_B12  patient5_B13  \\\n",
       "SGIP1             0.0          0.0          0.0           0.0           0.0   \n",
       "AZIN2             0.0          0.0          0.0           0.0           0.0   \n",
       "CLIC4             0.0          0.0          0.0           1.0           0.0   \n",
       "AGBL4             2.0          0.0          2.0           0.0           0.0   \n",
       "NECAP2            3.0          0.0         10.0           7.0          12.0   \n",
       "...               ...          ...          ...           ...           ...   \n",
       "KIR2DL5B          0.0          0.0          0.0           0.0           0.0   \n",
       "KIR2DS2           0.0          0.0          0.0           0.0           0.0   \n",
       "KIR2DS1           0.0          0.0          0.0           0.0           0.0   \n",
       "KIR2DL2           0.0          0.0          0.0           0.0           0.0   \n",
       "KIR2DS3           0.0          0.0          0.0           0.0           0.0   \n",
       "\n",
       "          ...  patient6_P18  patient6_P19  patient6_P2  patient6_P20  \\\n",
       "SGIP1     ...           0.0           0.0          0.0           0.0   \n",
       "AZIN2     ...           0.0           0.0          0.0           7.0   \n",
       "CLIC4     ...           8.0           0.0          3.0           7.0   \n",
       "AGBL4     ...           0.0           0.0          0.0           0.0   \n",
       "NECAP2    ...           1.0           0.0          0.0           0.0   \n",
       "...       ...           ...           ...          ...           ...   \n",
       "KIR2DL5B  ...           0.0           0.0          0.0           0.0   \n",
       "KIR2DS2   ...           0.0           0.0          0.0           0.0   \n",
       "KIR2DS1   ...           0.0           0.0          0.0           0.0   \n",
       "KIR2DL2   ...           0.0           0.0          0.0           0.0   \n",
       "KIR2DS3   ...           0.0           0.0          0.0           0.0   \n",
       "\n",
       "          patient6_P21  patient6_P22  patient6_P23  patient6_P4  patient6_P7  \\\n",
       "SGIP1              0.0           0.0           0.0          0.0          0.0   \n",
       "AZIN2              0.0           0.0           0.0          0.0          0.0   \n",
       "CLIC4             33.0           0.0           0.0          0.0         16.0   \n",
       "AGBL4              0.0           0.0          12.0          0.0          0.0   \n",
       "NECAP2             0.0           1.0           1.0          0.0          9.0   \n",
       "...                ...           ...           ...          ...          ...   \n",
       "KIR2DL5B           0.0           0.0           0.0          0.0          0.0   \n",
       "KIR2DS2            0.0           0.0           0.0          0.0          0.0   \n",
       "KIR2DS1            0.0           0.0           0.0          0.0          0.0   \n",
       "KIR2DL2            0.0           0.0           0.0          0.0          0.0   \n",
       "KIR2DS3            0.0           0.0           0.0          0.0          0.0   \n",
       "\n",
       "          patient6_P9  \n",
       "SGIP1             0.0  \n",
       "AZIN2             6.0  \n",
       "CLIC4             0.0  \n",
       "AGBL4             0.0  \n",
       "NECAP2            8.0  \n",
       "...               ...  \n",
       "KIR2DL5B          0.0  \n",
       "KIR2DS2           0.0  \n",
       "KIR2DS1           0.0  \n",
       "KIR2DL2           0.0  \n",
       "KIR2DS3           0.0  \n",
       "\n",
       "[25453 rows x 789 columns]"
      ]
     },
     "execution_count": 19,
     "metadata": {},
     "output_type": "execute_result"
    }
   ],
   "source": [
    "sc_pancreas_test.to_df()"
   ]
  },
  {
   "cell_type": "code",
   "execution_count": 20,
   "id": "9c40edf8",
   "metadata": {},
   "outputs": [
    {
     "data": {
      "text/html": [
       "<div>\n",
       "<style scoped>\n",
       "    .dataframe tbody tr th:only-of-type {\n",
       "        vertical-align: middle;\n",
       "    }\n",
       "\n",
       "    .dataframe tbody tr th {\n",
       "        vertical-align: top;\n",
       "    }\n",
       "\n",
       "    .dataframe thead th {\n",
       "        text-align: right;\n",
       "    }\n",
       "</style>\n",
       "<table border=\"1\" class=\"dataframe\">\n",
       "  <thead>\n",
       "    <tr style=\"text-align: right;\">\n",
       "      <th></th>\n",
       "      <th>patient1</th>\n",
       "      <th>patient2</th>\n",
       "      <th>patient3</th>\n",
       "      <th>patient4</th>\n",
       "    </tr>\n",
       "  </thead>\n",
       "  <tbody>\n",
       "    <tr>\n",
       "      <th>SGIP1</th>\n",
       "      <td>360.0</td>\n",
       "      <td>616.0</td>\n",
       "      <td>204.0</td>\n",
       "      <td>567.0</td>\n",
       "    </tr>\n",
       "    <tr>\n",
       "      <th>AZIN2</th>\n",
       "      <td>388.0</td>\n",
       "      <td>344.0</td>\n",
       "      <td>434.0</td>\n",
       "      <td>405.0</td>\n",
       "    </tr>\n",
       "    <tr>\n",
       "      <th>CLIC4</th>\n",
       "      <td>3679.0</td>\n",
       "      <td>2753.0</td>\n",
       "      <td>4151.0</td>\n",
       "      <td>5125.0</td>\n",
       "    </tr>\n",
       "    <tr>\n",
       "      <th>AGBL4</th>\n",
       "      <td>118.0</td>\n",
       "      <td>155.0</td>\n",
       "      <td>209.0</td>\n",
       "      <td>137.0</td>\n",
       "    </tr>\n",
       "    <tr>\n",
       "      <th>NECAP2</th>\n",
       "      <td>1522.0</td>\n",
       "      <td>1737.0</td>\n",
       "      <td>1562.0</td>\n",
       "      <td>2754.0</td>\n",
       "    </tr>\n",
       "    <tr>\n",
       "      <th>...</th>\n",
       "      <td>...</td>\n",
       "      <td>...</td>\n",
       "      <td>...</td>\n",
       "      <td>...</td>\n",
       "    </tr>\n",
       "    <tr>\n",
       "      <th>KIR2DL5B</th>\n",
       "      <td>0.0</td>\n",
       "      <td>0.0</td>\n",
       "      <td>0.0</td>\n",
       "      <td>0.0</td>\n",
       "    </tr>\n",
       "    <tr>\n",
       "      <th>KIR2DS2</th>\n",
       "      <td>0.0</td>\n",
       "      <td>0.0</td>\n",
       "      <td>0.0</td>\n",
       "      <td>0.0</td>\n",
       "    </tr>\n",
       "    <tr>\n",
       "      <th>KIR2DS1</th>\n",
       "      <td>0.0</td>\n",
       "      <td>0.0</td>\n",
       "      <td>0.0</td>\n",
       "      <td>0.0</td>\n",
       "    </tr>\n",
       "    <tr>\n",
       "      <th>KIR2DL2</th>\n",
       "      <td>0.0</td>\n",
       "      <td>0.0</td>\n",
       "      <td>0.0</td>\n",
       "      <td>0.0</td>\n",
       "    </tr>\n",
       "    <tr>\n",
       "      <th>KIR2DS3</th>\n",
       "      <td>0.0</td>\n",
       "      <td>0.0</td>\n",
       "      <td>0.0</td>\n",
       "      <td>0.0</td>\n",
       "    </tr>\n",
       "  </tbody>\n",
       "</table>\n",
       "<p>25453 rows × 4 columns</p>\n",
       "</div>"
      ],
      "text/plain": [
       "          patient1  patient2  patient3  patient4\n",
       "SGIP1        360.0     616.0     204.0     567.0\n",
       "AZIN2        388.0     344.0     434.0     405.0\n",
       "CLIC4       3679.0    2753.0    4151.0    5125.0\n",
       "AGBL4        118.0     155.0     209.0     137.0\n",
       "NECAP2      1522.0    1737.0    1562.0    2754.0\n",
       "...            ...       ...       ...       ...\n",
       "KIR2DL5B       0.0       0.0       0.0       0.0\n",
       "KIR2DS2        0.0       0.0       0.0       0.0\n",
       "KIR2DS1        0.0       0.0       0.0       0.0\n",
       "KIR2DL2        0.0       0.0       0.0       0.0\n",
       "KIR2DS3        0.0       0.0       0.0       0.0\n",
       "\n",
       "[25453 rows x 4 columns]"
      ]
     },
     "execution_count": 20,
     "metadata": {},
     "output_type": "execute_result"
    }
   ],
   "source": [
    "bulk_pancreas.to_df()"
   ]
  },
  {
   "cell_type": "code",
   "execution_count": 24,
   "id": "5cb8e548",
   "metadata": {},
   "outputs": [
    {
     "name": "stdout",
     "output_type": "stream",
     "text": [
      "Calculating MAGIC...\n",
      "  Running MAGIC on 25453 cells and 978 genes.\n",
      "  Calculating graph and diffusion operator...\n",
      "    Calculating PCA...\n",
      "    Calculated PCA in 0.84 seconds.\n",
      "    Calculating KNN search...\n",
      "    Calculated KNN search in 2.34 seconds.\n",
      "    Calculating affinities...\n"
     ]
    },
    {
     "name": "stderr",
     "output_type": "stream",
     "text": [
      "/usr/local/lib/python3.8/dist-packages/graphtools/graphs.py:287: RuntimeWarning: Detected zero distance between 26935 pairs of samples. Consider removing duplicates to avoid errors in downstream processing.\n",
      "  warnings.warn(\n"
     ]
    },
    {
     "name": "stdout",
     "output_type": "stream",
     "text": [
      "    Calculated affinities in 2.34 seconds.\n",
      "  Calculated graph and diffusion operator in 5.55 seconds.\n",
      "  Calculating imputation...\n"
     ]
    },
    {
     "name": "stderr",
     "output_type": "stream",
     "text": [
      "/usr/local/lib/python3.8/dist-packages/graphtools/base.py:553: RuntimeWarning: K should have a non-zero diagonal\n",
      "  warnings.warn(\"K should have a non-zero diagonal\", RuntimeWarning)\n"
     ]
    },
    {
     "name": "stdout",
     "output_type": "stream",
     "text": [
      "  Calculated imputation in 1.47 seconds.\n",
      "Calculated MAGIC in 7.07 seconds.\n"
     ]
    },
    {
     "name": "stderr",
     "output_type": "stream",
     "text": [
      "/usr/local/lib/python3.8/dist-packages/magic/utils.py:145: FutureWarning: X.dtype being converted to np.float32 from float64. In the next version of anndata (0.9) conversion will not be automatic. Pass dtype explicitly to avoid this warning. Pass `AnnData(X, dtype=X.dtype, ...)` to get the future behavour.\n",
      "  data = anndata.AnnData(data)\n"
     ]
    }
   ],
   "source": [
    "result = sce.pp.magic(\n",
    "    sc_pancreas,\n",
    "    n_pca=8,\n",
    "    copy=True,\n",
    "    verbose=True\n",
    ")"
   ]
  },
  {
   "cell_type": "code",
   "execution_count": 25,
   "id": "010efeda",
   "metadata": {},
   "outputs": [
    {
     "data": {
      "text/html": [
       "<div>\n",
       "<style scoped>\n",
       "    .dataframe tbody tr th:only-of-type {\n",
       "        vertical-align: middle;\n",
       "    }\n",
       "\n",
       "    .dataframe tbody tr th {\n",
       "        vertical-align: top;\n",
       "    }\n",
       "\n",
       "    .dataframe thead th {\n",
       "        text-align: right;\n",
       "    }\n",
       "</style>\n",
       "<table border=\"1\" class=\"dataframe\">\n",
       "  <thead>\n",
       "    <tr style=\"text-align: right;\">\n",
       "      <th></th>\n",
       "      <th>patient1_A10</th>\n",
       "      <th>patient1_A12</th>\n",
       "      <th>patient1_A13</th>\n",
       "      <th>patient1_A15</th>\n",
       "      <th>patient1_A17</th>\n",
       "      <th>patient1_A18</th>\n",
       "      <th>patient1_A19</th>\n",
       "      <th>patient1_A20</th>\n",
       "      <th>patient1_A23</th>\n",
       "      <th>patient1_A24</th>\n",
       "      <th>...</th>\n",
       "      <th>patient4_P11</th>\n",
       "      <th>patient4_P14</th>\n",
       "      <th>patient4_P2</th>\n",
       "      <th>patient4_P3</th>\n",
       "      <th>patient4_P4</th>\n",
       "      <th>patient4_P5</th>\n",
       "      <th>patient4_P6</th>\n",
       "      <th>patient4_P7</th>\n",
       "      <th>patient4_P8</th>\n",
       "      <th>patient4_P9</th>\n",
       "    </tr>\n",
       "  </thead>\n",
       "  <tbody>\n",
       "    <tr>\n",
       "      <th>SGIP1</th>\n",
       "      <td>1.061657</td>\n",
       "      <td>0.812941</td>\n",
       "      <td>2.579225</td>\n",
       "      <td>1.867011</td>\n",
       "      <td>0.937593</td>\n",
       "      <td>5.706148</td>\n",
       "      <td>1.646588</td>\n",
       "      <td>4.212615</td>\n",
       "      <td>1.273644</td>\n",
       "      <td>1.834297</td>\n",
       "      <td>...</td>\n",
       "      <td>0.097812</td>\n",
       "      <td>0.458970</td>\n",
       "      <td>0.962161</td>\n",
       "      <td>0.603706</td>\n",
       "      <td>0.330412</td>\n",
       "      <td>0.126573</td>\n",
       "      <td>0.082199</td>\n",
       "      <td>0.804731</td>\n",
       "      <td>1.107841</td>\n",
       "      <td>0.121788</td>\n",
       "    </tr>\n",
       "    <tr>\n",
       "      <th>AZIN2</th>\n",
       "      <td>8.718503</td>\n",
       "      <td>9.831376</td>\n",
       "      <td>9.814441</td>\n",
       "      <td>6.271659</td>\n",
       "      <td>7.728276</td>\n",
       "      <td>7.611186</td>\n",
       "      <td>14.247960</td>\n",
       "      <td>8.384097</td>\n",
       "      <td>7.322505</td>\n",
       "      <td>25.207134</td>\n",
       "      <td>...</td>\n",
       "      <td>1.154381</td>\n",
       "      <td>7.372228</td>\n",
       "      <td>5.550650</td>\n",
       "      <td>7.122151</td>\n",
       "      <td>1.517717</td>\n",
       "      <td>0.549040</td>\n",
       "      <td>1.268002</td>\n",
       "      <td>11.049101</td>\n",
       "      <td>22.117880</td>\n",
       "      <td>0.887177</td>\n",
       "    </tr>\n",
       "    <tr>\n",
       "      <th>CLIC4</th>\n",
       "      <td>68.498283</td>\n",
       "      <td>3.788935</td>\n",
       "      <td>3.564989</td>\n",
       "      <td>4.093396</td>\n",
       "      <td>3.185116</td>\n",
       "      <td>4.135774</td>\n",
       "      <td>3.583170</td>\n",
       "      <td>5.140430</td>\n",
       "      <td>5.655774</td>\n",
       "      <td>6.103114</td>\n",
       "      <td>...</td>\n",
       "      <td>0.495418</td>\n",
       "      <td>62.790340</td>\n",
       "      <td>44.952591</td>\n",
       "      <td>4.028305</td>\n",
       "      <td>1.165384</td>\n",
       "      <td>0.453446</td>\n",
       "      <td>1.077013</td>\n",
       "      <td>5.186163</td>\n",
       "      <td>16.945997</td>\n",
       "      <td>0.611127</td>\n",
       "    </tr>\n",
       "    <tr>\n",
       "      <th>AGBL4</th>\n",
       "      <td>1.850872</td>\n",
       "      <td>2.989146</td>\n",
       "      <td>8.680687</td>\n",
       "      <td>4.223490</td>\n",
       "      <td>4.267038</td>\n",
       "      <td>6.062180</td>\n",
       "      <td>4.363090</td>\n",
       "      <td>8.432342</td>\n",
       "      <td>3.389041</td>\n",
       "      <td>16.704910</td>\n",
       "      <td>...</td>\n",
       "      <td>0.237545</td>\n",
       "      <td>1.791136</td>\n",
       "      <td>0.665232</td>\n",
       "      <td>1.336686</td>\n",
       "      <td>0.559097</td>\n",
       "      <td>0.144875</td>\n",
       "      <td>0.214743</td>\n",
       "      <td>1.491306</td>\n",
       "      <td>4.333346</td>\n",
       "      <td>0.224286</td>\n",
       "    </tr>\n",
       "    <tr>\n",
       "      <th>NECAP2</th>\n",
       "      <td>70.680405</td>\n",
       "      <td>31.824265</td>\n",
       "      <td>13.451695</td>\n",
       "      <td>14.780906</td>\n",
       "      <td>12.507914</td>\n",
       "      <td>15.129021</td>\n",
       "      <td>18.102680</td>\n",
       "      <td>15.455882</td>\n",
       "      <td>23.382170</td>\n",
       "      <td>28.602259</td>\n",
       "      <td>...</td>\n",
       "      <td>3.023374</td>\n",
       "      <td>45.013485</td>\n",
       "      <td>33.598633</td>\n",
       "      <td>16.401176</td>\n",
       "      <td>3.988249</td>\n",
       "      <td>1.183881</td>\n",
       "      <td>2.977549</td>\n",
       "      <td>20.033628</td>\n",
       "      <td>65.903473</td>\n",
       "      <td>1.913790</td>\n",
       "    </tr>\n",
       "    <tr>\n",
       "      <th>...</th>\n",
       "      <td>...</td>\n",
       "      <td>...</td>\n",
       "      <td>...</td>\n",
       "      <td>...</td>\n",
       "      <td>...</td>\n",
       "      <td>...</td>\n",
       "      <td>...</td>\n",
       "      <td>...</td>\n",
       "      <td>...</td>\n",
       "      <td>...</td>\n",
       "      <td>...</td>\n",
       "      <td>...</td>\n",
       "      <td>...</td>\n",
       "      <td>...</td>\n",
       "      <td>...</td>\n",
       "      <td>...</td>\n",
       "      <td>...</td>\n",
       "      <td>...</td>\n",
       "      <td>...</td>\n",
       "      <td>...</td>\n",
       "      <td>...</td>\n",
       "    </tr>\n",
       "    <tr>\n",
       "      <th>KIR2DL5B</th>\n",
       "      <td>0.000000</td>\n",
       "      <td>0.000000</td>\n",
       "      <td>0.000000</td>\n",
       "      <td>0.000000</td>\n",
       "      <td>0.000000</td>\n",
       "      <td>0.000000</td>\n",
       "      <td>0.000000</td>\n",
       "      <td>0.000000</td>\n",
       "      <td>0.000000</td>\n",
       "      <td>0.000000</td>\n",
       "      <td>...</td>\n",
       "      <td>0.000037</td>\n",
       "      <td>0.000000</td>\n",
       "      <td>0.000000</td>\n",
       "      <td>0.000000</td>\n",
       "      <td>0.000000</td>\n",
       "      <td>0.000000</td>\n",
       "      <td>0.000000</td>\n",
       "      <td>0.000000</td>\n",
       "      <td>0.000000</td>\n",
       "      <td>0.000000</td>\n",
       "    </tr>\n",
       "    <tr>\n",
       "      <th>KIR2DS2</th>\n",
       "      <td>0.000000</td>\n",
       "      <td>0.000000</td>\n",
       "      <td>0.000000</td>\n",
       "      <td>0.000000</td>\n",
       "      <td>0.000000</td>\n",
       "      <td>0.000000</td>\n",
       "      <td>0.000000</td>\n",
       "      <td>0.000000</td>\n",
       "      <td>0.000000</td>\n",
       "      <td>0.000000</td>\n",
       "      <td>...</td>\n",
       "      <td>0.000037</td>\n",
       "      <td>0.000000</td>\n",
       "      <td>0.000000</td>\n",
       "      <td>0.000000</td>\n",
       "      <td>0.000000</td>\n",
       "      <td>0.000000</td>\n",
       "      <td>0.000000</td>\n",
       "      <td>0.000000</td>\n",
       "      <td>0.000000</td>\n",
       "      <td>0.000000</td>\n",
       "    </tr>\n",
       "    <tr>\n",
       "      <th>KIR2DS1</th>\n",
       "      <td>0.000000</td>\n",
       "      <td>0.000000</td>\n",
       "      <td>0.000000</td>\n",
       "      <td>0.000000</td>\n",
       "      <td>0.000000</td>\n",
       "      <td>0.000000</td>\n",
       "      <td>0.000000</td>\n",
       "      <td>0.000000</td>\n",
       "      <td>0.000000</td>\n",
       "      <td>0.000000</td>\n",
       "      <td>...</td>\n",
       "      <td>0.000037</td>\n",
       "      <td>0.000000</td>\n",
       "      <td>0.000000</td>\n",
       "      <td>0.000000</td>\n",
       "      <td>0.000000</td>\n",
       "      <td>0.000000</td>\n",
       "      <td>0.000000</td>\n",
       "      <td>0.000000</td>\n",
       "      <td>0.000000</td>\n",
       "      <td>0.000000</td>\n",
       "    </tr>\n",
       "    <tr>\n",
       "      <th>KIR2DL2</th>\n",
       "      <td>0.000000</td>\n",
       "      <td>0.000000</td>\n",
       "      <td>0.000000</td>\n",
       "      <td>0.000000</td>\n",
       "      <td>0.000000</td>\n",
       "      <td>0.000000</td>\n",
       "      <td>0.000000</td>\n",
       "      <td>0.000000</td>\n",
       "      <td>0.000000</td>\n",
       "      <td>0.000000</td>\n",
       "      <td>...</td>\n",
       "      <td>0.000037</td>\n",
       "      <td>0.000000</td>\n",
       "      <td>0.000000</td>\n",
       "      <td>0.000000</td>\n",
       "      <td>0.000000</td>\n",
       "      <td>0.000000</td>\n",
       "      <td>0.000000</td>\n",
       "      <td>0.000000</td>\n",
       "      <td>0.000000</td>\n",
       "      <td>0.000000</td>\n",
       "    </tr>\n",
       "    <tr>\n",
       "      <th>KIR2DS3</th>\n",
       "      <td>0.000000</td>\n",
       "      <td>0.000000</td>\n",
       "      <td>0.000000</td>\n",
       "      <td>0.000000</td>\n",
       "      <td>0.000000</td>\n",
       "      <td>0.000000</td>\n",
       "      <td>0.000000</td>\n",
       "      <td>0.000000</td>\n",
       "      <td>0.000000</td>\n",
       "      <td>0.000000</td>\n",
       "      <td>...</td>\n",
       "      <td>0.000037</td>\n",
       "      <td>0.000000</td>\n",
       "      <td>0.000000</td>\n",
       "      <td>0.000000</td>\n",
       "      <td>0.000000</td>\n",
       "      <td>0.000000</td>\n",
       "      <td>0.000000</td>\n",
       "      <td>0.000000</td>\n",
       "      <td>0.000000</td>\n",
       "      <td>0.000000</td>\n",
       "    </tr>\n",
       "  </tbody>\n",
       "</table>\n",
       "<p>25453 rows × 978 columns</p>\n",
       "</div>"
      ],
      "text/plain": [
       "          patient1_A10  patient1_A12  patient1_A13  patient1_A15  \\\n",
       "SGIP1         1.061657      0.812941      2.579225      1.867011   \n",
       "AZIN2         8.718503      9.831376      9.814441      6.271659   \n",
       "CLIC4        68.498283      3.788935      3.564989      4.093396   \n",
       "AGBL4         1.850872      2.989146      8.680687      4.223490   \n",
       "NECAP2       70.680405     31.824265     13.451695     14.780906   \n",
       "...                ...           ...           ...           ...   \n",
       "KIR2DL5B      0.000000      0.000000      0.000000      0.000000   \n",
       "KIR2DS2       0.000000      0.000000      0.000000      0.000000   \n",
       "KIR2DS1       0.000000      0.000000      0.000000      0.000000   \n",
       "KIR2DL2       0.000000      0.000000      0.000000      0.000000   \n",
       "KIR2DS3       0.000000      0.000000      0.000000      0.000000   \n",
       "\n",
       "          patient1_A17  patient1_A18  patient1_A19  patient1_A20  \\\n",
       "SGIP1         0.937593      5.706148      1.646588      4.212615   \n",
       "AZIN2         7.728276      7.611186     14.247960      8.384097   \n",
       "CLIC4         3.185116      4.135774      3.583170      5.140430   \n",
       "AGBL4         4.267038      6.062180      4.363090      8.432342   \n",
       "NECAP2       12.507914     15.129021     18.102680     15.455882   \n",
       "...                ...           ...           ...           ...   \n",
       "KIR2DL5B      0.000000      0.000000      0.000000      0.000000   \n",
       "KIR2DS2       0.000000      0.000000      0.000000      0.000000   \n",
       "KIR2DS1       0.000000      0.000000      0.000000      0.000000   \n",
       "KIR2DL2       0.000000      0.000000      0.000000      0.000000   \n",
       "KIR2DS3       0.000000      0.000000      0.000000      0.000000   \n",
       "\n",
       "          patient1_A23  patient1_A24  ...  patient4_P11  patient4_P14  \\\n",
       "SGIP1         1.273644      1.834297  ...      0.097812      0.458970   \n",
       "AZIN2         7.322505     25.207134  ...      1.154381      7.372228   \n",
       "CLIC4         5.655774      6.103114  ...      0.495418     62.790340   \n",
       "AGBL4         3.389041     16.704910  ...      0.237545      1.791136   \n",
       "NECAP2       23.382170     28.602259  ...      3.023374     45.013485   \n",
       "...                ...           ...  ...           ...           ...   \n",
       "KIR2DL5B      0.000000      0.000000  ...      0.000037      0.000000   \n",
       "KIR2DS2       0.000000      0.000000  ...      0.000037      0.000000   \n",
       "KIR2DS1       0.000000      0.000000  ...      0.000037      0.000000   \n",
       "KIR2DL2       0.000000      0.000000  ...      0.000037      0.000000   \n",
       "KIR2DS3       0.000000      0.000000  ...      0.000037      0.000000   \n",
       "\n",
       "          patient4_P2  patient4_P3  patient4_P4  patient4_P5  patient4_P6  \\\n",
       "SGIP1        0.962161     0.603706     0.330412     0.126573     0.082199   \n",
       "AZIN2        5.550650     7.122151     1.517717     0.549040     1.268002   \n",
       "CLIC4       44.952591     4.028305     1.165384     0.453446     1.077013   \n",
       "AGBL4        0.665232     1.336686     0.559097     0.144875     0.214743   \n",
       "NECAP2      33.598633    16.401176     3.988249     1.183881     2.977549   \n",
       "...               ...          ...          ...          ...          ...   \n",
       "KIR2DL5B     0.000000     0.000000     0.000000     0.000000     0.000000   \n",
       "KIR2DS2      0.000000     0.000000     0.000000     0.000000     0.000000   \n",
       "KIR2DS1      0.000000     0.000000     0.000000     0.000000     0.000000   \n",
       "KIR2DL2      0.000000     0.000000     0.000000     0.000000     0.000000   \n",
       "KIR2DS3      0.000000     0.000000     0.000000     0.000000     0.000000   \n",
       "\n",
       "          patient4_P7  patient4_P8  patient4_P9  \n",
       "SGIP1        0.804731     1.107841     0.121788  \n",
       "AZIN2       11.049101    22.117880     0.887177  \n",
       "CLIC4        5.186163    16.945997     0.611127  \n",
       "AGBL4        1.491306     4.333346     0.224286  \n",
       "NECAP2      20.033628    65.903473     1.913790  \n",
       "...               ...          ...          ...  \n",
       "KIR2DL5B     0.000000     0.000000     0.000000  \n",
       "KIR2DS2      0.000000     0.000000     0.000000  \n",
       "KIR2DS1      0.000000     0.000000     0.000000  \n",
       "KIR2DL2      0.000000     0.000000     0.000000  \n",
       "KIR2DS3      0.000000     0.000000     0.000000  \n",
       "\n",
       "[25453 rows x 978 columns]"
      ]
     },
     "execution_count": 25,
     "metadata": {},
     "output_type": "execute_result"
    }
   ],
   "source": [
    "result.to_df()"
   ]
  },
  {
   "cell_type": "code",
   "execution_count": 26,
   "id": "8df2954e",
   "metadata": {},
   "outputs": [],
   "source": [
    "train_mapping = {\n",
    "    \"patient1\": 0,\n",
    "    \"patient2\": 1,\n",
    "    \"patient3\": 2,\n",
    "    \"patient4\": 3,\n",
    "}\n",
    "arr = np.zeros((25453, 4))\n",
    "for i in range(len(sc_pancreas_metadata.index)):\n",
    "    arr[:, train_mapping[sc_pancreas_metadata.to_numpy()[i, 0]]] += result.X[:, i]\n"
   ]
  },
  {
   "cell_type": "code",
   "execution_count": 27,
   "id": "12f2ec1c",
   "metadata": {},
   "outputs": [
    {
     "name": "stdout",
     "output_type": "stream",
     "text": [
      "          patient1     patient2     patient3     patient4\n",
      "0       543.311411   196.622633   235.703904   241.962868\n",
      "1      2972.576766   924.072880  1409.544615  2082.256061\n",
      "2      2193.103888  3835.499178  2314.101394  9288.137063\n",
      "3       952.678502   207.716988   363.029753   387.298894\n",
      "4      5786.613050  4172.714739  2740.333941  9138.852160\n",
      "...            ...          ...          ...          ...\n",
      "25448     0.000000     0.000515     0.000137     0.000119\n",
      "25449     0.000000     0.000515     0.000137     0.000119\n",
      "25450     0.000000     0.000515     0.000137     0.000119\n",
      "25451     0.000000     0.000515     0.000137     0.000119\n",
      "25452     0.000000     0.000515     0.000137     0.000119\n",
      "\n",
      "[25453 rows x 4 columns]\n"
     ]
    }
   ],
   "source": [
    "bulkified_train = pd.DataFrame(arr)\n",
    "bulkified_train.columns = [\"patient1\", \"patient2\", \"patient3\", \"patient4\"]\n",
    "print(bulkified_train)"
   ]
  },
  {
   "cell_type": "code",
   "execution_count": 28,
   "id": "dd51fc41",
   "metadata": {},
   "outputs": [
    {
     "data": {
      "text/plain": [
       "0.9420833338731085"
      ]
     },
     "execution_count": 28,
     "metadata": {},
     "output_type": "execute_result"
    }
   ],
   "source": [
    "# utility function for scoring the imputation\n",
    "def imputation_score(original, imputed):\n",
    "    spearman_gene = []\n",
    "    for g in range(imputed.shape[1]):\n",
    "        if np.all(imputed[:, g] == 0):\n",
    "            correlation = 0\n",
    "        else:\n",
    "            correlation = spearmanr(original[:, g], imputed[:, g])[0]\n",
    "        spearman_gene.append(correlation)\n",
    "    return np.median(np.array(spearman_gene))\n",
    "\n",
    "imputation_score(bulk_pancreas.X, bulkified_train.to_numpy())"
   ]
  },
  {
   "cell_type": "markdown",
   "id": "4e655f24",
   "metadata": {},
   "source": [
    "0.9354507703175476 - 100\\\n",
    "0.938...           - 50\\\n",
    "0.9413606468151117 - 20\\\n",
    "0.9419706104794446 - 10\\\n",
    "0.9420796938215747 - 8"
   ]
  },
  {
   "cell_type": "markdown",
   "id": "d43f5c5f",
   "metadata": {},
   "source": [
    "# Step 1.1: Test Data Imputation"
   ]
  },
  {
   "cell_type": "code",
   "execution_count": 29,
   "id": "cd3c7115",
   "metadata": {},
   "outputs": [
    {
     "name": "stdout",
     "output_type": "stream",
     "text": [
      "Calculating MAGIC...\n",
      "  Running MAGIC on 25453 cells and 789 genes.\n",
      "  Calculating graph and diffusion operator...\n",
      "    Calculating PCA...\n",
      "    Calculated PCA in 0.73 seconds.\n",
      "    Calculating KNN search...\n",
      "    Calculated KNN search in 2.21 seconds.\n",
      "    Calculating affinities...\n"
     ]
    },
    {
     "name": "stderr",
     "output_type": "stream",
     "text": [
      "/usr/local/lib/python3.8/dist-packages/graphtools/graphs.py:287: RuntimeWarning: Detected zero distance between 33839 pairs of samples. Consider removing duplicates to avoid errors in downstream processing.\n",
      "  warnings.warn(\n"
     ]
    },
    {
     "name": "stdout",
     "output_type": "stream",
     "text": [
      "    Calculated affinities in 2.23 seconds.\n",
      "  Calculated graph and diffusion operator in 5.19 seconds.\n",
      "  Calculating imputation...\n"
     ]
    },
    {
     "name": "stderr",
     "output_type": "stream",
     "text": [
      "/usr/local/lib/python3.8/dist-packages/graphtools/base.py:553: RuntimeWarning: K should have a non-zero diagonal\n",
      "  warnings.warn(\"K should have a non-zero diagonal\", RuntimeWarning)\n"
     ]
    },
    {
     "name": "stdout",
     "output_type": "stream",
     "text": [
      "  Calculated imputation in 1.21 seconds.\n",
      "Calculated MAGIC in 6.45 seconds.\n"
     ]
    },
    {
     "name": "stderr",
     "output_type": "stream",
     "text": [
      "/usr/local/lib/python3.8/dist-packages/magic/utils.py:145: FutureWarning: X.dtype being converted to np.float32 from float64. In the next version of anndata (0.9) conversion will not be automatic. Pass dtype explicitly to avoid this warning. Pass `AnnData(X, dtype=X.dtype, ...)` to get the future behavour.\n",
      "  data = anndata.AnnData(data)\n"
     ]
    }
   ],
   "source": [
    "# TODO use train+test for imputation, then separate them\n",
    "test_result = sce.pp.magic(\n",
    "    sc_pancreas_test,\n",
    "    n_pca=8,\n",
    "    copy=True,\n",
    "    verbose=True\n",
    ")"
   ]
  },
  {
   "cell_type": "code",
   "execution_count": 30,
   "id": "0d78ddca",
   "metadata": {},
   "outputs": [],
   "source": [
    "test_mapping = {\n",
    "    \"patient5\": 0,\n",
    "    \"patient6\": 1,\n",
    "    \"patient7\": 2\n",
    "}\n",
    "arr = np.zeros((25453, 3))\n",
    "for i in range(len(sc_pancreas_metadata_test.index)):\n",
    "    arr[:, test_mapping[sc_pancreas_metadata_test.to_numpy()[i, 0]]] += test_result.X[:, i]"
   ]
  },
  {
   "cell_type": "code",
   "execution_count": 31,
   "id": "39c0f1a8",
   "metadata": {},
   "outputs": [
    {
     "name": "stdout",
     "output_type": "stream",
     "text": [
      "          index     patient5     patient6     patient7\n",
      "0         SGIP1   136.723854   659.433086   186.120736\n",
      "1         AZIN2   621.530976   661.248850   315.562388\n",
      "2         CLIC4   980.767113  3776.468248  4257.269531\n",
      "3         AGBL4   190.960494   387.494271   141.951960\n",
      "4        NECAP2  1140.123651  4453.838727  3256.290553\n",
      "...         ...          ...          ...          ...\n",
      "25448  KIR2DL5B     0.000397     0.000000     0.000234\n",
      "25449   KIR2DS2     0.000397     0.000000     0.000234\n",
      "25450   KIR2DS1     0.000397     0.000000     0.000234\n",
      "25451   KIR2DL2     0.000397     0.000000     0.000234\n",
      "25452   KIR2DS3     0.000397     0.000000     0.000234\n",
      "\n",
      "[25453 rows x 4 columns]\n"
     ]
    }
   ],
   "source": [
    "bulkified = pd.DataFrame(arr)\n",
    "bulkified.insert(0, \"index\", bulk_pancreas.obs_names)\n",
    "bulkified.columns = [\"index\", \"patient5\", \"patient6\", \"patient7\"]\n",
    "print(bulkified)"
   ]
  },
  {
   "cell_type": "markdown",
   "id": "131d64a6",
   "metadata": {},
   "source": [
    "# Step 2: Perform clustering "
   ]
  },
  {
   "cell_type": "code",
   "execution_count": 32,
   "id": "eb3887d7",
   "metadata": {},
   "outputs": [],
   "source": [
    "# sc_pancreas = pd.read_csv(os.path.join(path_data,\"train_data\",\"pancreas_sc_train.csv\")).set_index(\"Unnamed: 0\")\n",
    "sc_pancreas = sc.read_csv(os.path.join(path_data,\"train_data\",\"pancreas_sc_train.csv\"))"
   ]
  },
  {
   "cell_type": "code",
   "execution_count": 33,
   "id": "a835bdb0",
   "metadata": {},
   "outputs": [],
   "source": [
    "# sc_pancreas = sc.AnnData(\n",
    "#     pd.concat((sc_pancreas.T.to_df(), sc_pancreas_test.T.to_df()), axis=0),\n",
    "#     pd.concat((sc_pancreas_metadata, sc_pancreas_metadata_test), axis=0)\n",
    "# )\n",
    "sc_pancreas = sc.AnnData(sc_pancreas.T.to_df(), sc_pancreas_metadata)"
   ]
  },
  {
   "cell_type": "code",
   "execution_count": 34,
   "id": "cc18a9c5",
   "metadata": {},
   "outputs": [],
   "source": [
    "# normalize to depth 10 000\n",
    "sc.pp.normalize_per_cell(sc_pancreas, counts_per_cell_after=1e4)\n",
    "\n",
    "# logaritmize\n",
    "sc.pp.log1p(sc_pancreas)"
   ]
  },
  {
   "cell_type": "code",
   "execution_count": 35,
   "id": "356ca562",
   "metadata": {},
   "outputs": [
    {
     "name": "stderr",
     "output_type": "stream",
     "text": [
      "/usr/local/lib/python3.8/dist-packages/tqdm/auto.py:22: TqdmWarning: IProgress not found. Please update jupyter and ipywidgets. See https://ipywidgets.readthedocs.io/en/stable/user_install.html\n",
      "  from .autonotebook import tqdm as notebook_tqdm\n"
     ]
    },
    {
     "data": {
      "image/png": "[encoded data removed]",
      "text/plain": [
       "<Figure size 989.28x288 with 2 Axes>"
      ]
     },
     "metadata": {},
     "output_type": "display_data"
    }
   ],
   "source": [
    "sc.tl.pca(sc_pancreas, n_comps=50, svd_solver='arpack')\n",
    "sc.pp.neighbors(sc_pancreas)\n",
    "sc.tl.umap(sc_pancreas)\n",
    "\n",
    "sc.pl.umap(\n",
    "    sc_pancreas,\n",
    "    color=[\"Sample\", \"Celltype\"],\n",
    "    frameon=True,\n",
    ")"
   ]
  },
  {
   "cell_type": "code",
   "execution_count": 36,
   "id": "283f4676",
   "metadata": {},
   "outputs": [
    {
     "data": {
      "image/png": "[encoded data removed]",
      "text/plain": [
       "<Figure size 864x288 with 2 Axes>"
      ]
     },
     "metadata": {
      "needs_background": "light"
     },
     "output_type": "display_data"
    }
   ],
   "source": [
    "sc.pp.highly_variable_genes(sc_pancreas, min_mean=0.0125, max_mean=3, min_disp=0.5)\n",
    "sc.pl.highly_variable_genes(sc_pancreas)"
   ]
  },
  {
   "cell_type": "code",
   "execution_count": 38,
   "id": "63b81e93",
   "metadata": {},
   "outputs": [
    {
     "name": "stderr",
     "output_type": "stream",
     "text": [
      "2022-05-03 09:18:19,651 - harmonypy - INFO - Iteration 1 of 100\n",
      "2022-05-03 09:18:19,762 - harmonypy - INFO - Iteration 2 of 100\n",
      "2022-05-03 09:18:19,844 - harmonypy - INFO - Iteration 3 of 100\n",
      "2022-05-03 09:18:19,893 - harmonypy - INFO - Iteration 4 of 100\n",
      "2022-05-03 09:18:19,974 - harmonypy - INFO - Iteration 5 of 100\n",
      "2022-05-03 09:18:20,030 - harmonypy - INFO - Iteration 6 of 100\n",
      "2022-05-03 09:18:20,077 - harmonypy - INFO - Iteration 7 of 100\n",
      "2022-05-03 09:18:20,109 - harmonypy - INFO - Iteration 8 of 100\n",
      "2022-05-03 09:18:20,140 - harmonypy - INFO - Iteration 9 of 100\n",
      "2022-05-03 09:18:20,177 - harmonypy - INFO - Iteration 10 of 100\n",
      "2022-05-03 09:18:20,222 - harmonypy - INFO - Iteration 11 of 100\n",
      "2022-05-03 09:18:20,261 - harmonypy - INFO - Iteration 12 of 100\n",
      "2022-05-03 09:18:20,293 - harmonypy - INFO - Iteration 13 of 100\n",
      "2022-05-03 09:18:20,339 - harmonypy - INFO - Iteration 14 of 100\n",
      "2022-05-03 09:18:20,379 - harmonypy - INFO - Iteration 15 of 100\n",
      "2022-05-03 09:18:20,410 - harmonypy - INFO - Iteration 16 of 100\n",
      "2022-05-03 09:18:20,440 - harmonypy - INFO - Iteration 17 of 100\n",
      "2022-05-03 09:18:20,475 - harmonypy - INFO - Iteration 18 of 100\n",
      "2022-05-03 09:18:20,507 - harmonypy - INFO - Iteration 19 of 100\n",
      "2022-05-03 09:18:20,541 - harmonypy - INFO - Iteration 20 of 100\n",
      "2022-05-03 09:18:20,574 - harmonypy - INFO - Iteration 21 of 100\n",
      "2022-05-03 09:18:20,608 - harmonypy - INFO - Iteration 22 of 100\n",
      "2022-05-03 09:18:20,641 - harmonypy - INFO - Converged after 22 iterations\n"
     ]
    }
   ],
   "source": [
    "sc.external.pp.harmony_integrate(sc_pancreas, key=\"Sample\", adjusted_basis=\"X_hm\", max_iter_harmony=100, sigma=0.1)"
   ]
  },
  {
   "cell_type": "code",
   "execution_count": 59,
   "id": "39b6924f",
   "metadata": {},
   "outputs": [
    {
     "data": {
      "image/png": "[encoded data removed]",
      "text/plain": [
       "<Figure size 989.28x288 with 2 Axes>"
      ]
     },
     "metadata": {},
     "output_type": "display_data"
    }
   ],
   "source": [
    "sc.pp.neighbors(sc_pancreas, use_rep=\"X_hm\")\n",
    "sc.tl.umap(sc_pancreas, min_dist=0.1)\n",
    "\n",
    "sc.pl.umap(\n",
    "    sc_pancreas,\n",
    "    color=[\"Sample\", \"Celltype\"],\n",
    "    frameon=False,\n",
    ")"
   ]
  },
  {
   "cell_type": "code",
   "execution_count": 60,
   "id": "76d907b4",
   "metadata": {},
   "outputs": [],
   "source": [
    "def get_silhouette_score(X, cluster_labels):\n",
    "    silhouette_score = metrics.silhouette_score(X, cluster_labels)\n",
    "    return silhouette_score"
   ]
  },
  {
   "cell_type": "code",
   "execution_count": 61,
   "id": "8a10d334",
   "metadata": {},
   "outputs": [],
   "source": [
    "def get_ari_score(true_labels, cluster_labels):\n",
    "    ari_score = metrics.adjusted_rand_score(true_labels, cluster_labels)\n",
    "    return ari_score"
   ]
  },
  {
   "cell_type": "code",
   "execution_count": 62,
   "id": "8da7ddea",
   "metadata": {},
   "outputs": [],
   "source": [
    "def get_v_score(true_labels, cluster_labels):\n",
    "    v_score = metrics.v_measure_score(true_labels, cluster_labels)\n",
    "    return v_score"
   ]
  },
  {
   "cell_type": "code",
   "execution_count": 149,
   "id": "0e5218e9",
   "metadata": {},
   "outputs": [
    {
     "data": {
      "image/png": "[encoded data removed]",
      "text/plain": [
       "<Figure size 432x288 with 1 Axes>"
      ]
     },
     "metadata": {},
     "output_type": "display_data"
    },
    {
     "name": "stdout",
     "output_type": "stream",
     "text": [
      "(978,)\n",
      "For k = 1\n",
      "The silhouette_score is : 0.20777842\n",
      "The ari_score is : 0.6352373585453822\n",
      "The v_score is : 0.7622070707355785\n",
      "Total score is : 0.5350742844351809\n"
     ]
    },
    {
     "data": {
      "image/png": "[encoded data removed]",
      "text/plain": [
       "<Figure size 432x288 with 1 Axes>"
      ]
     },
     "metadata": {},
     "output_type": "display_data"
    },
    {
     "name": "stdout",
     "output_type": "stream",
     "text": [
      "(978,)\n",
      "For k = 2\n",
      "The silhouette_score is : 0.2608411\n",
      "The ari_score is : 0.8811200326580991\n",
      "The v_score is : 0.8594837399127486\n",
      "Total score is : 0.6671482913262841\n"
     ]
    },
    {
     "data": {
      "image/png": "[encoded data removed]",
      "text/plain": [
       "<Figure size 432x288 with 1 Axes>"
      ]
     },
     "metadata": {},
     "output_type": "display_data"
    },
    {
     "name": "stdout",
     "output_type": "stream",
     "text": [
      "(978,)\n",
      "For k = 3\n",
      "The silhouette_score is : 0.29340956\n",
      "The ari_score is : 0.9120914038736643\n",
      "The v_score is : 0.8918895884283466\n",
      "Total score is : 0.6991301828174824\n"
     ]
    },
    {
     "data": {
      "image/png": "[encoded data removed]",
      "text/plain": [
       "<Figure size 432x288 with 1 Axes>"
      ]
     },
     "metadata": {},
     "output_type": "display_data"
    },
    {
     "name": "stdout",
     "output_type": "stream",
     "text": [
      "(978,)\n",
      "For k = 4\n",
      "The silhouette_score is : 0.29340956\n",
      "The ari_score is : 0.9120914038736643\n",
      "The v_score is : 0.8918895884283466\n",
      "Total score is : 0.6991301828174824\n"
     ]
    },
    {
     "data": {
      "image/png": "[encoded data removed]",
      "text/plain": [
       "<Figure size 432x288 with 1 Axes>"
      ]
     },
     "metadata": {},
     "output_type": "display_data"
    },
    {
     "name": "stdout",
     "output_type": "stream",
     "text": [
      "(978,)\n",
      "For k = 5\n",
      "The silhouette_score is : 0.29340956\n",
      "The ari_score is : 0.9120914038736643\n",
      "The v_score is : 0.8918895884283466\n",
      "Total score is : 0.6991301828174824\n"
     ]
    },
    {
     "data": {
      "image/png": "[encoded data removed]",
      "text/plain": [
       "<Figure size 432x288 with 1 Axes>"
      ]
     },
     "metadata": {},
     "output_type": "display_data"
    },
    {
     "name": "stdout",
     "output_type": "stream",
     "text": [
      "(978,)\n",
      "For k = 6\n",
      "The silhouette_score is : 0.29340956\n",
      "The ari_score is : 0.9120914038736643\n",
      "The v_score is : 0.8918895884283466\n",
      "Total score is : 0.6991301828174824\n"
     ]
    },
    {
     "data": {
      "image/png": "[encoded data removed]",
      "text/plain": [
       "<Figure size 432x288 with 1 Axes>"
      ]
     },
     "metadata": {},
     "output_type": "display_data"
    },
    {
     "name": "stdout",
     "output_type": "stream",
     "text": [
      "(978,)\n",
      "For k = 7\n",
      "The silhouette_score is : 0.29340956\n",
      "The ari_score is : 0.9120914038736643\n",
      "The v_score is : 0.8918895884283466\n",
      "Total score is : 0.6991301828174824\n"
     ]
    },
    {
     "data": {
      "image/png": "[encoded data removed]",
      "text/plain": [
       "<Figure size 432x288 with 1 Axes>"
      ]
     },
     "metadata": {},
     "output_type": "display_data"
    },
    {
     "name": "stdout",
     "output_type": "stream",
     "text": [
      "(978,)\n",
      "For k = 8\n",
      "The silhouette_score is : 0.29340956\n",
      "The ari_score is : 0.9120914038736643\n",
      "The v_score is : 0.8918895884283466\n",
      "Total score is : 0.6991301828174824\n"
     ]
    },
    {
     "data": {
      "image/png": "[encoded data removed]",
      "text/plain": [
       "<Figure size 432x288 with 1 Axes>"
      ]
     },
     "metadata": {},
     "output_type": "display_data"
    },
    {
     "name": "stdout",
     "output_type": "stream",
     "text": [
      "(978,)\n",
      "For k = 9\n",
      "The silhouette_score is : 0.3027768\n",
      "The ari_score is : 0.931588610377629\n",
      "The v_score is : 0.9121324087615031\n",
      "Total score is : 0.7154992775487373\n"
     ]
    },
    {
     "data": {
      "image/png": "[encoded data removed]",
      "text/plain": [
       "<Figure size 432x288 with 1 Axes>"
      ]
     },
     "metadata": {},
     "output_type": "display_data"
    },
    {
     "name": "stdout",
     "output_type": "stream",
     "text": [
      "(978,)\n",
      "For k = 10\n",
      "The silhouette_score is : 0.3027768\n",
      "The ari_score is : 0.931588610377629\n",
      "The v_score is : 0.9121324087615031\n",
      "Total score is : 0.7154992775487373\n"
     ]
    },
    {
     "data": {
      "image/png": "[encoded data removed]",
      "text/plain": [
       "<Figure size 432x288 with 1 Axes>"
      ]
     },
     "metadata": {},
     "output_type": "display_data"
    },
    {
     "name": "stdout",
     "output_type": "stream",
     "text": [
      "(978,)\n",
      "For k = 11\n",
      "The silhouette_score is : 0.3027768\n",
      "The ari_score is : 0.931588610377629\n",
      "The v_score is : 0.9121324087615031\n",
      "Total score is : 0.7154992775487373\n"
     ]
    },
    {
     "data": {
      "image/png": "[encoded data removed]",
      "text/plain": [
       "<Figure size 432x288 with 1 Axes>"
      ]
     },
     "metadata": {},
     "output_type": "display_data"
    },
    {
     "name": "stdout",
     "output_type": "stream",
     "text": [
      "(978,)\n",
      "For k = 12\n",
      "The silhouette_score is : 0.3027768\n",
      "The ari_score is : 0.931588610377629\n",
      "The v_score is : 0.9121324087615031\n",
      "Total score is : 0.7154992775487373\n"
     ]
    },
    {
     "data": {
      "image/png": "[encoded data removed]",
      "text/plain": [
       "<Figure size 432x288 with 1 Axes>"
      ]
     },
     "metadata": {},
     "output_type": "display_data"
    },
    {
     "name": "stdout",
     "output_type": "stream",
     "text": [
      "(978,)\n",
      "For k = 13\n",
      "The silhouette_score is : 0.3027768\n",
      "The ari_score is : 0.931588610377629\n",
      "The v_score is : 0.9121324087615031\n",
      "Total score is : 0.7154992775487373\n"
     ]
    },
    {
     "data": {
      "image/png": "[encoded data removed]",
      "text/plain": [
       "<Figure size 432x288 with 1 Axes>"
      ]
     },
     "metadata": {},
     "output_type": "display_data"
    },
    {
     "name": "stdout",
     "output_type": "stream",
     "text": [
      "(978,)\n",
      "For k = 14\n",
      "The silhouette_score is : 0.3027768\n",
      "The ari_score is : 0.931588610377629\n",
      "The v_score is : 0.9121324087615031\n",
      "Total score is : 0.7154992775487373\n"
     ]
    },
    {
     "data": {
      "image/png": "[encoded data removed]",
      "text/plain": [
       "<Figure size 432x288 with 1 Axes>"
      ]
     },
     "metadata": {},
     "output_type": "display_data"
    },
    {
     "name": "stdout",
     "output_type": "stream",
     "text": [
      "(978,)\n",
      "For k = 15\n",
      "The silhouette_score is : 0.3027768\n",
      "The ari_score is : 0.931588610377629\n",
      "The v_score is : 0.9121324087615031\n",
      "Total score is : 0.7154992775487373\n"
     ]
    },
    {
     "data": {
      "image/png": "[encoded data removed]",
      "text/plain": [
       "<Figure size 432x288 with 1 Axes>"
      ]
     },
     "metadata": {},
     "output_type": "display_data"
    },
    {
     "name": "stdout",
     "output_type": "stream",
     "text": [
      "(978,)\n",
      "For k = 16\n",
      "The silhouette_score is : 0.27552366\n",
      "The ari_score is : 0.8095177795266617\n",
      "The v_score is : 0.8725675569934346\n",
      "Total score is : 0.6525363330290783\n"
     ]
    },
    {
     "data": {
      "image/png": "[encoded data removed]",
      "text/plain": [
       "<Figure size 432x288 with 1 Axes>"
      ]
     },
     "metadata": {},
     "output_type": "display_data"
    },
    {
     "name": "stdout",
     "output_type": "stream",
     "text": [
      "(978,)\n",
      "For k = 17\n",
      "The silhouette_score is : 0.27552366\n",
      "The ari_score is : 0.8095177795266617\n",
      "The v_score is : 0.8725675569934346\n",
      "Total score is : 0.6525363330290783\n"
     ]
    },
    {
     "data": {
      "image/png": "[encoded data removed]",
      "text/plain": [
       "<Figure size 432x288 with 1 Axes>"
      ]
     },
     "metadata": {},
     "output_type": "display_data"
    },
    {
     "name": "stdout",
     "output_type": "stream",
     "text": [
      "(978,)\n",
      "For k = 18\n",
      "The silhouette_score is : 0.27552366\n",
      "The ari_score is : 0.8095177795266617\n",
      "The v_score is : 0.8725675569934346\n",
      "Total score is : 0.6525363330290783\n"
     ]
    },
    {
     "data": {
      "image/png": "[encoded data removed]",
      "text/plain": [
       "<Figure size 432x288 with 1 Axes>"
      ]
     },
     "metadata": {},
     "output_type": "display_data"
    },
    {
     "name": "stdout",
     "output_type": "stream",
     "text": [
      "(978,)\n",
      "For k = 19\n",
      "The silhouette_score is : 0.27552366\n",
      "The ari_score is : 0.8095177795266617\n",
      "The v_score is : 0.8725675569934346\n",
      "Total score is : 0.6525363330290783\n"
     ]
    },
    {
     "data": {
      "image/png": "[encoded data removed]",
      "text/plain": [
       "<Figure size 432x288 with 1 Axes>"
      ]
     },
     "metadata": {},
     "output_type": "display_data"
    },
    {
     "name": "stdout",
     "output_type": "stream",
     "text": [
      "(978,)\n",
      "For k = 20\n",
      "The silhouette_score is : 0.27552366\n",
      "The ari_score is : 0.8095177795266617\n",
      "The v_score is : 0.8725675569934346\n",
      "Total score is : 0.6525363330290783\n"
     ]
    },
    {
     "data": {
      "image/png": "[encoded data removed]",
      "text/plain": [
       "<Figure size 432x288 with 1 Axes>"
      ]
     },
     "metadata": {},
     "output_type": "display_data"
    },
    {
     "name": "stdout",
     "output_type": "stream",
     "text": [
      "(978,)\n",
      "For k = 21\n",
      "The silhouette_score is : 0.2752984\n",
      "The ari_score is : 0.80606715959284\n",
      "The v_score is : 0.8717930630812192\n",
      "Total score is : 0.6510528698287564\n"
     ]
    },
    {
     "data": {
      "image/png": "[encoded data removed]",
      "text/plain": [
       "<Figure size 432x288 with 1 Axes>"
      ]
     },
     "metadata": {},
     "output_type": "display_data"
    },
    {
     "name": "stdout",
     "output_type": "stream",
     "text": [
      "(978,)\n",
      "For k = 22\n",
      "The silhouette_score is : 0.2752984\n",
      "The ari_score is : 0.80606715959284\n",
      "The v_score is : 0.8717930630812192\n",
      "Total score is : 0.6510528698287564\n"
     ]
    },
    {
     "data": {
      "image/png": "[encoded data removed]",
      "text/plain": [
       "<Figure size 432x288 with 1 Axes>"
      ]
     },
     "metadata": {},
     "output_type": "display_data"
    },
    {
     "name": "stdout",
     "output_type": "stream",
     "text": [
      "(978,)\n",
      "For k = 23\n",
      "The silhouette_score is : 0.27552366\n",
      "The ari_score is : 0.8095177795266617\n",
      "The v_score is : 0.8725675569934346\n",
      "Total score is : 0.6525363330290783\n"
     ]
    },
    {
     "data": {
      "image/png": "[encoded data removed]",
      "text/plain": [
       "<Figure size 432x288 with 1 Axes>"
      ]
     },
     "metadata": {},
     "output_type": "display_data"
    },
    {
     "name": "stdout",
     "output_type": "stream",
     "text": [
      "(978,)\n",
      "For k = 24\n",
      "The silhouette_score is : 0.25030214\n",
      "The ari_score is : 0.731798014964036\n",
      "The v_score is : 0.8549020977285589\n",
      "Total score is : 0.612334082878987\n"
     ]
    },
    {
     "data": {
      "image/png": "[encoded data removed]",
      "text/plain": [
       "<Figure size 432x288 with 1 Axes>"
      ]
     },
     "metadata": {},
     "output_type": "display_data"
    },
    {
     "name": "stdout",
     "output_type": "stream",
     "text": [
      "(978,)\n",
      "For k = 25\n",
      "The silhouette_score is : 0.24905115\n",
      "The ari_score is : 0.7288360221562146\n",
      "The v_score is : 0.8543682277053\n",
      "Total score is : 0.6107518011737784\n"
     ]
    },
    {
     "data": {
      "image/png": "[encoded data removed]",
      "text/plain": [
       "<Figure size 432x288 with 1 Axes>"
      ]
     },
     "metadata": {},
     "output_type": "display_data"
    },
    {
     "name": "stdout",
     "output_type": "stream",
     "text": [
      "(978,)\n",
      "For k = 26\n",
      "The silhouette_score is : 0.24905115\n",
      "The ari_score is : 0.7288360221562146\n",
      "The v_score is : 0.8543682277053\n",
      "Total score is : 0.6107518011737784\n"
     ]
    },
    {
     "data": {
      "image/png": "[encoded data removed]",
      "text/plain": [
       "<Figure size 432x288 with 1 Axes>"
      ]
     },
     "metadata": {},
     "output_type": "display_data"
    },
    {
     "name": "stdout",
     "output_type": "stream",
     "text": [
      "(978,)\n",
      "For k = 27\n",
      "The silhouette_score is : 0.2736114\n",
      "The ari_score is : 0.8015694107624847\n",
      "The v_score is : 0.8688119461932534\n",
      "Total score is : 0.6479975845022902\n"
     ]
    },
    {
     "data": {
      "image/png": "[encoded data removed]",
      "text/plain": [
       "<Figure size 432x288 with 1 Axes>"
      ]
     },
     "metadata": {},
     "output_type": "display_data"
    },
    {
     "name": "stdout",
     "output_type": "stream",
     "text": [
      "(978,)\n",
      "For k = 28\n",
      "The silhouette_score is : 0.2732124\n",
      "The ari_score is : 0.799877625178633\n",
      "The v_score is : 0.8684388081366885\n",
      "Total score is : 0.6471762787914425\n"
     ]
    },
    {
     "data": {
      "image/png": "[encoded data removed]",
      "text/plain": [
       "<Figure size 432x288 with 1 Axes>"
      ]
     },
     "metadata": {},
     "output_type": "display_data"
    },
    {
     "name": "stdout",
     "output_type": "stream",
     "text": [
      "(978,)\n",
      "For k = 29\n",
      "The silhouette_score is : 0.24557997\n",
      "The ari_score is : 0.7175682915112053\n",
      "The v_score is : 0.852365275102204\n",
      "Total score is : 0.6051711798255356\n"
     ]
    }
   ],
   "source": [
    "for i in range(1, 30):\n",
    "    sc.tl.leiden(sc_pancreas, key_added=\"louvain\", resolution=i/30, random_state=252)\n",
    "\n",
    "    sc.pl.umap(\n",
    "        sc_pancreas,\n",
    "        color=[\"louvain\"],\n",
    "        frameon=True,\n",
    "    )\n",
    "\n",
    "    labels = (sc_pancreas.obs[\"louvain\"].to_numpy().astype(int) + 1).ravel()\n",
    "    print(labels.shape)\n",
    "    silhouette_score = get_silhouette_score(sc_pancreas.obsm[\"X_hm\"], labels)\n",
    "    ari_score = get_ari_score(sc_pancreas.obs[\"Celltype\"].ravel(), labels)\n",
    "    v_score = get_v_score(sc_pancreas.obs[\"Celltype\"].ravel(), labels)\n",
    "    print(\n",
    "        \"For k =\",\n",
    "        i\n",
    "    )\n",
    "    print(\n",
    "        \"The silhouette_score is :\",\n",
    "        silhouette_score,\n",
    "    )\n",
    "    print(\n",
    "        \"The ari_score is :\",\n",
    "        ari_score,\n",
    "    )\n",
    "    print(\n",
    "        \"The v_score is :\",\n",
    "        v_score,\n",
    "    )\n",
    "    print(\n",
    "        \"Total score is :\",\n",
    "        (silhouette_score + ari_score + v_score) / 3\n",
    "    )\n"
   ]
  },
  {
   "cell_type": "code",
   "execution_count": 153,
   "id": "2f403838",
   "metadata": {},
   "outputs": [
    {
     "name": "stderr",
     "output_type": "stream",
     "text": [
      "/home/philipp/.local/lib/python3.8/site-packages/sklearn/neighbors/_base.py:199: EfficiencyWarning: Precomputed sparse input was not sorted by data.\n",
      "  warnings.warn(\n"
     ]
    },
    {
     "data": {
      "image/png": "[encoded data removed]",
      "text/plain": [
       "<Figure size 432x288 with 1 Axes>"
      ]
     },
     "metadata": {},
     "output_type": "display_data"
    },
    {
     "name": "stdout",
     "output_type": "stream",
     "text": [
      "For k = 5\n",
      "The silhouette_score is : 0.2338613\n",
      "The ari_score is : 0.6600367905347986\n",
      "The v_score is : 0.802468504417448\n",
      "Total score is : 0.56545553077375\n"
     ]
    },
    {
     "name": "stderr",
     "output_type": "stream",
     "text": [
      "/home/philipp/.local/lib/python3.8/site-packages/sklearn/neighbors/_base.py:199: EfficiencyWarning: Precomputed sparse input was not sorted by data.\n",
      "  warnings.warn(\n"
     ]
    },
    {
     "data": {
      "image/png": "[encoded data removed]",
      "text/plain": [
       "<Figure size 432x288 with 1 Axes>"
      ]
     },
     "metadata": {},
     "output_type": "display_data"
    },
    {
     "name": "stdout",
     "output_type": "stream",
     "text": [
      "For k = 6\n",
      "The silhouette_score is : 0.2935073\n",
      "The ari_score is : 0.9178111602532381\n",
      "The v_score is : 0.901631910015302\n",
      "Total score is : 0.7043167926788027\n"
     ]
    },
    {
     "name": "stderr",
     "output_type": "stream",
     "text": [
      "/home/philipp/.local/lib/python3.8/site-packages/sklearn/neighbors/_base.py:199: EfficiencyWarning: Precomputed sparse input was not sorted by data.\n",
      "  warnings.warn(\n"
     ]
    },
    {
     "data": {
      "image/png": "[encoded data removed]",
      "text/plain": [
       "<Figure size 432x288 with 1 Axes>"
      ]
     },
     "metadata": {},
     "output_type": "display_data"
    },
    {
     "name": "stdout",
     "output_type": "stream",
     "text": [
      "For k = 7\n",
      "The silhouette_score is : 0.30234745\n",
      "The ari_score is : 0.930974050629882\n",
      "The v_score is : 0.9122565553155142\n",
      "Total score is : 0.7151926857979456\n"
     ]
    },
    {
     "name": "stderr",
     "output_type": "stream",
     "text": [
      "/home/philipp/.local/lib/python3.8/site-packages/sklearn/neighbors/_base.py:199: EfficiencyWarning: Precomputed sparse input was not sorted by data.\n",
      "  warnings.warn(\n"
     ]
    },
    {
     "data": {
      "image/png": "[encoded data removed]",
      "text/plain": [
       "<Figure size 432x288 with 1 Axes>"
      ]
     },
     "metadata": {},
     "output_type": "display_data"
    },
    {
     "name": "stdout",
     "output_type": "stream",
     "text": [
      "For k = 8\n",
      "The silhouette_score is : 0.30932882\n",
      "The ari_score is : 0.9330710451469478\n",
      "The v_score is : 0.9204113369405488\n",
      "Total score is : 0.7209370687897297\n"
     ]
    },
    {
     "name": "stderr",
     "output_type": "stream",
     "text": [
      "/home/philipp/.local/lib/python3.8/site-packages/sklearn/neighbors/_base.py:199: EfficiencyWarning: Precomputed sparse input was not sorted by data.\n",
      "  warnings.warn(\n"
     ]
    },
    {
     "data": {
      "image/png": "[encoded data removed]",
      "text/plain": [
       "<Figure size 432x288 with 1 Axes>"
      ]
     },
     "metadata": {},
     "output_type": "display_data"
    },
    {
     "name": "stdout",
     "output_type": "stream",
     "text": [
      "For k = 9\n",
      "The silhouette_score is : 0.29417628\n",
      "The ari_score is : 0.9187967158011585\n",
      "The v_score is : 0.903559764820953\n",
      "Total score is : 0.7055109203735387\n"
     ]
    },
    {
     "name": "stderr",
     "output_type": "stream",
     "text": [
      "/home/philipp/.local/lib/python3.8/site-packages/sklearn/neighbors/_base.py:199: EfficiencyWarning: Precomputed sparse input was not sorted by data.\n",
      "  warnings.warn(\n"
     ]
    },
    {
     "data": {
      "image/png": "[encoded data removed]",
      "text/plain": [
       "<Figure size 432x288 with 1 Axes>"
      ]
     },
     "metadata": {},
     "output_type": "display_data"
    },
    {
     "name": "stdout",
     "output_type": "stream",
     "text": [
      "For k = 10\n",
      "The silhouette_score is : 0.30461392\n",
      "The ari_score is : 0.9465046748913142\n",
      "The v_score is : 0.9223421806376431\n",
      "Total score is : 0.7244869245316607\n"
     ]
    },
    {
     "name": "stderr",
     "output_type": "stream",
     "text": [
      "/home/philipp/.local/lib/python3.8/site-packages/sklearn/neighbors/_base.py:199: EfficiencyWarning: Precomputed sparse input was not sorted by data.\n",
      "  warnings.warn(\n"
     ]
    },
    {
     "data": {
      "image/png": "[encoded data removed]",
      "text/plain": [
       "<Figure size 432x288 with 1 Axes>"
      ]
     },
     "metadata": {},
     "output_type": "display_data"
    },
    {
     "name": "stdout",
     "output_type": "stream",
     "text": [
      "For k = 11\n",
      "The silhouette_score is : 0.28495747\n",
      "The ari_score is : 0.9327818516104383\n",
      "The v_score is : 0.9049779618749129\n",
      "Total score is : 0.7075724273316751\n"
     ]
    },
    {
     "name": "stderr",
     "output_type": "stream",
     "text": [
      "/home/philipp/.local/lib/python3.8/site-packages/sklearn/neighbors/_base.py:199: EfficiencyWarning: Precomputed sparse input was not sorted by data.\n",
      "  warnings.warn(\n"
     ]
    },
    {
     "data": {
      "image/png": "[encoded data removed]",
      "text/plain": [
       "<Figure size 432x288 with 1 Axes>"
      ]
     },
     "metadata": {},
     "output_type": "display_data"
    },
    {
     "name": "stdout",
     "output_type": "stream",
     "text": [
      "For k = 12\n",
      "The silhouette_score is : 0.28553194\n",
      "The ari_score is : 0.9268394649162617\n",
      "The v_score is : 0.8947585369128389\n",
      "Total score is : 0.70237664663504\n"
     ]
    },
    {
     "name": "stderr",
     "output_type": "stream",
     "text": [
      "/home/philipp/.local/lib/python3.8/site-packages/sklearn/neighbors/_base.py:199: EfficiencyWarning: Precomputed sparse input was not sorted by data.\n",
      "  warnings.warn(\n"
     ]
    },
    {
     "data": {
      "image/png": "[encoded data removed]",
      "text/plain": [
       "<Figure size 432x288 with 1 Axes>"
      ]
     },
     "metadata": {},
     "output_type": "display_data"
    },
    {
     "name": "stdout",
     "output_type": "stream",
     "text": [
      "For k = 13\n",
      "The silhouette_score is : 0.2248829\n",
      "The ari_score is : 0.7183248442127894\n",
      "The v_score is : 0.8341359890144165\n",
      "Total score is : 0.5924479113140267\n"
     ]
    },
    {
     "name": "stderr",
     "output_type": "stream",
     "text": [
      "/home/philipp/.local/lib/python3.8/site-packages/sklearn/neighbors/_base.py:199: EfficiencyWarning: Precomputed sparse input was not sorted by data.\n",
      "  warnings.warn(\n"
     ]
    },
    {
     "data": {
      "image/png": "[encoded data removed]",
      "text/plain": [
       "<Figure size 432x288 with 1 Axes>"
      ]
     },
     "metadata": {},
     "output_type": "display_data"
    },
    {
     "name": "stdout",
     "output_type": "stream",
     "text": [
      "For k = 14\n",
      "The silhouette_score is : 0.19206685\n",
      "The ari_score is : 0.6726806466646121\n",
      "The v_score is : 0.814396293982885\n",
      "Total score is : 0.5597145963085143\n"
     ]
    }
   ],
   "source": [
    "for i in range(5, 15):\n",
    "    clusterer = SpectralClustering(n_clusters=i, affinity=\"precomputed_nearest_neighbors\")\n",
    "    cluster_labels = clusterer.fit_predict(sc_pancreas.obsp[\"distances\"])\n",
    "    sc_pancreas.obs[\"leiden\"] = cluster_labels.astype(str)\n",
    "\n",
    "    sc.pl.umap(\n",
    "        sc_pancreas,\n",
    "        color=[\"leiden\"],\n",
    "        frameon=True,\n",
    "    )\n",
    "\n",
    "    labels = (sc_pancreas.obs[\"leiden\"].to_numpy().astype(int) + 1).ravel()\n",
    "    silhouette_score = get_silhouette_score(sc_pancreas.obsm[\"X_hm\"], labels)\n",
    "    ari_score = get_ari_score(sc_pancreas.obs[\"Celltype\"].ravel(), labels)\n",
    "    v_score = get_v_score(sc_pancreas.obs[\"Celltype\"].ravel(), labels)\n",
    "    print(\n",
    "        \"For k =\",\n",
    "        i\n",
    "    )\n",
    "    print(\n",
    "        \"The silhouette_score is :\",\n",
    "        silhouette_score,\n",
    "    )\n",
    "    print(\n",
    "        \"The ari_score is :\",\n",
    "        ari_score,\n",
    "    )\n",
    "    print(\n",
    "        \"The v_score is :\",\n",
    "        v_score,\n",
    "    )\n",
    "    print(\n",
    "        \"Total score is :\",\n",
    "        (silhouette_score + ari_score + v_score) / 3\n",
    "    )\n"
   ]
  },
  {
   "cell_type": "markdown",
   "id": "652a8830",
   "metadata": {},
   "source": [
    "# Step 3: Predict on the test data"
   ]
  },
  {
   "cell_type": "code",
   "execution_count": 65,
   "id": "6aefccc5",
   "metadata": {},
   "outputs": [],
   "source": [
    "sc_pancreas_test = sc.AnnData(sc_pancreas_test.T.to_df(), sc_pancreas_metadata_test)"
   ]
  },
  {
   "cell_type": "code",
   "execution_count": 66,
   "id": "be719198",
   "metadata": {},
   "outputs": [],
   "source": [
    "# normalize to depth 10 000\n",
    "sc.pp.normalize_per_cell(sc_pancreas_test, counts_per_cell_after=1e4)\n",
    "\n",
    "# logaritmize\n",
    "sc.pp.log1p(sc_pancreas_test)"
   ]
  },
  {
   "cell_type": "code",
   "execution_count": 67,
   "id": "fbd2fded",
   "metadata": {},
   "outputs": [
    {
     "data": {
      "image/png": "[encoded data removed]",
      "text/plain": [
       "<Figure size 432x288 with 1 Axes>"
      ]
     },
     "metadata": {},
     "output_type": "display_data"
    }
   ],
   "source": [
    "sc.tl.pca(sc_pancreas_test, n_comps=50, svd_solver='arpack')\n",
    "sc.pp.neighbors(sc_pancreas_test)\n",
    "sc.tl.umap(sc_pancreas_test)\n",
    "\n",
    "sc.pl.umap(\n",
    "    sc_pancreas_test,\n",
    "    color=[\"Sample\"],\n",
    "    frameon=True,\n",
    ")"
   ]
  },
  {
   "cell_type": "code",
   "execution_count": 68,
   "id": "517f7cc3",
   "metadata": {},
   "outputs": [
    {
     "data": {
      "image/png": "[encoded data removed]",
      "text/plain": [
       "<Figure size 864x288 with 2 Axes>"
      ]
     },
     "metadata": {
      "needs_background": "light"
     },
     "output_type": "display_data"
    }
   ],
   "source": [
    "sc.pp.highly_variable_genes(sc_pancreas_test, min_mean=0.0125, max_mean=3, min_disp=0.5)\n",
    "sc.pl.highly_variable_genes(sc_pancreas_test)"
   ]
  },
  {
   "cell_type": "code",
   "execution_count": 69,
   "id": "40484772",
   "metadata": {},
   "outputs": [
    {
     "name": "stderr",
     "output_type": "stream",
     "text": [
      "2022-05-03 09:26:25,507 - harmonypy - INFO - Iteration 1 of 100\n",
      "2022-05-03 09:26:25,626 - harmonypy - INFO - Iteration 2 of 100\n",
      "2022-05-03 09:26:25,681 - harmonypy - INFO - Iteration 3 of 100\n",
      "2022-05-03 09:26:25,760 - harmonypy - INFO - Iteration 4 of 100\n",
      "2022-05-03 09:26:25,805 - harmonypy - INFO - Iteration 5 of 100\n",
      "2022-05-03 09:26:25,835 - harmonypy - INFO - Iteration 6 of 100\n",
      "2022-05-03 09:26:25,862 - harmonypy - INFO - Iteration 7 of 100\n",
      "2022-05-03 09:26:25,890 - harmonypy - INFO - Converged after 7 iterations\n"
     ]
    }
   ],
   "source": [
    "sc.external.pp.harmony_integrate(sc_pancreas_test, key=\"Sample\", adjusted_basis=\"X_hm\", max_iter_harmony=100, sigma=0.1)"
   ]
  },
  {
   "cell_type": "code",
   "execution_count": 70,
   "id": "ad05342f",
   "metadata": {},
   "outputs": [
    {
     "data": {
      "image/png": "[encoded data removed]",
      "text/plain": [
       "<Figure size 432x288 with 1 Axes>"
      ]
     },
     "metadata": {},
     "output_type": "display_data"
    }
   ],
   "source": [
    "sc.pp.neighbors(sc_pancreas_test, use_rep=\"X_hm\")\n",
    "sc.tl.umap(sc_pancreas_test, min_dist=0.1)\n",
    "\n",
    "sc.pl.umap(\n",
    "    sc_pancreas_test,\n",
    "    color=[\"Sample\"],\n",
    "    frameon=False,\n",
    ")"
   ]
  },
  {
   "cell_type": "code",
   "execution_count": 190,
   "id": "40264065",
   "metadata": {},
   "outputs": [
    {
     "name": "stdout",
     "output_type": "stream",
     "text": [
      "0.4153293\n"
     ]
    },
    {
     "name": "stderr",
     "output_type": "stream",
     "text": [
      "/home/philipp/.local/lib/python3.8/site-packages/sklearn/neighbors/_base.py:199: EfficiencyWarning: Precomputed sparse input was not sorted by data.\n",
      "  warnings.warn(\n"
     ]
    }
   ],
   "source": [
    "# sc.tl.leiden(sc_pancreas_test, key_added=\"leiden\", resolution=0.4, random_state=252)\n",
    "clusterer = SpectralClustering(n_clusters=10, affinity=\"precomputed_nearest_neighbors\")\n",
    "cluster_labels = clusterer.fit_predict(sc_pancreas_test.obsp[\"distances\"])\n",
    "sc_pancreas_test.obs[\"leiden\"] = cluster_labels.astype(str)\n",
    "\n",
    "# sc.pl.umap(\n",
    "#     sc_pancreas_test,\n",
    "#     color=[\"leiden\"],\n",
    "#     frameon=True,\n",
    "# )\n",
    "\n",
    "cluster_labels = (sc_pancreas_test.obs[\"leiden\"].to_numpy().astype(int) + 1).ravel()\n",
    "print(get_silhouette_score(sc_pancreas_test.obsm[\"X_hm\"], cluster_labels))"
   ]
  },
  {
   "cell_type": "code",
   "execution_count": 231,
   "id": "4438ba08",
   "metadata": {},
   "outputs": [
    {
     "name": "stderr",
     "output_type": "stream",
     "text": [
      "/home/philipp/.local/lib/python3.8/site-packages/sklearn/neighbors/_base.py:199: EfficiencyWarning: Precomputed sparse input was not sorted by data.\n",
      "  warnings.warn(\n"
     ]
    },
    {
     "data": {
      "image/png": "[encoded data removed]",
      "text/plain": [
       "<Figure size 432x288 with 1 Axes>"
      ]
     },
     "metadata": {},
     "output_type": "display_data"
    },
    {
     "name": "stdout",
     "output_type": "stream",
     "text": [
      "For k = 9\n",
      "The silhouette_score is : 0.39085326\n"
     ]
    }
   ],
   "source": [
    "#for i in range(5, 15):\n",
    "clusterer = SpectralClustering(n_clusters=8, affinity=\"precomputed_nearest_neighbors\")\n",
    "cluster_labels = clusterer.fit_predict(sc_pancreas_test.obsp[\"distances\"])\n",
    "sc_pancreas_test.obs[\"leiden_0.4\"] = cluster_labels.astype(str)\n",
    "\n",
    "sc.pl.umap(\n",
    "    sc_pancreas_test,\n",
    "    color=[\"leiden_0.4\"],\n",
    "    frameon=True,\n",
    ")\n",
    "\n",
    "labels = (sc_pancreas_test.obs[\"leiden_0.4\"].to_numpy().astype(int) + 1).ravel()\n",
    "silhouette_score = get_silhouette_score(sc_pancreas_test.obsm[\"X_hm\"], labels)\n",
    "    # ari_score = get_ari_score(sc_pancreas.obs[\"Celltype\"].ravel(), labels)\n",
    "    # v_score = get_v_score(sc_pancreas.obs[\"Celltype\"].ravel(), labels)\n",
    "print(\n",
    "    \"For k =\",\n",
    "    9\n",
    ")\n",
    "print(\n",
    "    \"The silhouette_score is :\",\n",
    "    silhouette_score,\n",
    ")\n",
    "    # print(\n",
    "    #     \"The ari_score is :\",\n",
    "    #     ari_score,\n",
    "    # )\n",
    "    # print(\n",
    "    #     \"The v_score is :\",\n",
    "    #     v_score,\n",
    "    # )\n",
    "    # print(\n",
    "    #     \"Total score is :\",\n",
    "    #     (silhouette_score + ari_score + v_score) / 3\n",
    "    # )\n"
   ]
  },
  {
   "cell_type": "code",
   "execution_count": 198,
   "id": "54e25e73",
   "metadata": {},
   "outputs": [
    {
     "name": "stdout",
     "output_type": "stream",
     "text": [
      "            index  cluster\n",
      "0    patient5_A12        7\n",
      "1    patient5_A14        1\n",
      "2    patient5_A20        1\n",
      "3    patient5_A22        1\n",
      "4     patient5_A4        1\n",
      "..            ...      ...\n",
      "784  patient6_P22        0\n",
      "785  patient6_P23        6\n",
      "786   patient6_P4        4\n",
      "787   patient6_P7        4\n",
      "788   patient6_P9        4\n",
      "\n",
      "[789 rows x 2 columns]\n"
     ]
    }
   ],
   "source": [
    "# cluster_labels = sc_pancreas_test.obs[\"pheno_louvain\"].to_numpy() + 1\n",
    "cluster_labels = pd.DataFrame(cluster_labels.reshape((-1, 1)), range(0, len(cluster_labels)))\n",
    "cluster_labels.columns = [\"cluster\"]\n",
    "cluster_labels.insert(0, \"index\", sc_pancreas_test.to_df().index)\n",
    "cluster_labels.set_index(\"index\")\n",
    "print(cluster_labels)"
   ]
  },
  {
   "cell_type": "code",
   "execution_count": 107,
   "id": "13685791",
   "metadata": {},
   "outputs": [
    {
     "name": "stdout",
     "output_type": "stream",
     "text": [
      "            index        PC1        PC2        PC3       PC4        PC5  \\\n",
      "0    patient5_A12  -9.980407  -0.331167  11.672299 -2.194221  11.285526   \n",
      "1    patient5_A14 -13.838789  -6.190482  -3.990319  1.696537   1.613109   \n",
      "2    patient5_A20 -11.201538  -3.389529  -2.296270 -0.076659  -5.932941   \n",
      "3    patient5_A22  -8.136659  -2.831779  -2.397397  2.136900  -3.966069   \n",
      "4     patient5_A4 -12.389326  -3.959414  -5.575157  1.394415  -0.575270   \n",
      "..            ...        ...        ...        ...       ...        ...   \n",
      "784  patient6_P22  -6.765347   9.288177   0.637208 -1.535840   6.362998   \n",
      "785  patient6_P23  -6.371626   7.247236  -5.038999  0.093957   0.947438   \n",
      "786   patient6_P4  -3.259581  21.188517   4.201673 -3.293536  -1.047552   \n",
      "787   patient6_P7  -3.664094  19.808874   5.917020 -1.749286   0.938351   \n",
      "788   patient6_P9  -4.058885  20.339466   4.733729 -2.986892   0.659151   \n",
      "\n",
      "           PC6       PC7       PC8        PC9  ...      PC41      PC42  \\\n",
      "0     0.824251 -1.600086  9.139256   3.031566  ... -0.909755 -0.000640   \n",
      "1    -2.583495 -1.089523  3.863199  -1.373449  ... -0.392726  0.743210   \n",
      "2    -6.918203  1.368133 -2.848343  -4.284440  ...  0.799419 -0.755040   \n",
      "3    -6.543550  2.311091 -0.036836  -5.327878  ...  0.207672 -1.027094   \n",
      "4    -1.011244  0.582401  1.189883   0.794199  ... -0.119058  0.224583   \n",
      "..         ...       ...       ...        ...  ...       ...       ...   \n",
      "784   4.108344 -4.065729  4.738366 -12.127273  ... -1.105891  1.284362   \n",
      "785  14.133554 -2.933230 -5.166636   0.721428  ... -0.345449  1.703576   \n",
      "786  -8.798992  0.382276  0.728272   0.830698  ...  1.026717 -1.070030   \n",
      "787  -6.348935  0.210355  1.007609   0.610648  ...  0.745061 -2.116154   \n",
      "788  -6.766507 -0.444858  2.191326   0.678919  ...  1.659423 -3.373351   \n",
      "\n",
      "         PC43      PC44      PC45      PC46      PC47      PC48      PC49  \\\n",
      "0    1.421819  0.693177 -0.409270  0.978809 -0.498065 -0.186322  0.469589   \n",
      "1    0.063429 -1.047204 -0.447493 -0.899481 -0.566717  0.609643 -0.619023   \n",
      "2    0.443761  1.409328 -2.342782 -0.564884 -0.161425  0.187485 -0.858885   \n",
      "3   -1.635931 -0.107298 -0.175562  1.167609  0.614494  1.008353 -0.837548   \n",
      "4    0.202534 -0.952758 -0.116409  0.106744 -0.553958  0.498153  0.645333   \n",
      "..        ...       ...       ...       ...       ...       ...       ...   \n",
      "784  1.115947 -3.593658 -0.391060  0.523756 -0.385056  0.821978  0.396984   \n",
      "785  1.000697  0.780018  3.234293  4.059864 -1.612150  2.938502  1.881771   \n",
      "786  0.932887 -0.513174 -1.102102  0.333460  1.425601  0.051569  0.524469   \n",
      "787 -3.334979 -0.371237 -2.795807 -1.946582  0.802329  1.649593 -0.048173   \n",
      "788  0.882080 -2.501838 -0.554034 -0.178466  0.837289  0.265881  0.369966   \n",
      "\n",
      "         PC50  \n",
      "0    0.881724  \n",
      "1   -0.092223  \n",
      "2    0.163134  \n",
      "3    0.373941  \n",
      "4   -0.329674  \n",
      "..        ...  \n",
      "784  1.311177  \n",
      "785  2.456168  \n",
      "786 -0.177162  \n",
      "787 -0.165235  \n",
      "788  0.969980  \n",
      "\n",
      "[789 rows x 51 columns]\n"
     ]
    }
   ],
   "source": [
    "PCA = sc_pancreas_test.obsm[\"X_hm\"]\n",
    "PCA = pd.DataFrame(PCA)\n",
    "PCA.columns = [(\"PC\" + str(i)) for i in range(1, 51)]\n",
    "PCA.insert(0, \"index\", sc_pancreas_test.to_df().index)\n",
    "PCA.set_index(\"index\")\n",
    "print(PCA)"
   ]
  },
  {
   "cell_type": "markdown",
   "id": "d2cc8182",
   "metadata": {},
   "source": [
    "# Step 4: Save the required files"
   ]
  },
  {
   "cell_type": "code",
   "execution_count": 54,
   "id": "2da285de",
   "metadata": {},
   "outputs": [],
   "source": [
    "# bulkified should be a DataFrame containing the \"bulkified\" version of the imputed data\n",
    "# bulkified.columns = [\"patient5\",\"patient6\",\"patient7\"]\n",
    "# bulkified.index = sc_pancreas_test.index"
   ]
  },
  {
   "cell_type": "code",
   "execution_count": 108,
   "id": "8bae7975",
   "metadata": {},
   "outputs": [],
   "source": [
    "results_path = \"results\"\n",
    "archive_name = \"Biohackers_Project2.zip\" # TODO"
   ]
  },
  {
   "cell_type": "code",
   "execution_count": 109,
   "id": "0dfefc0e",
   "metadata": {},
   "outputs": [],
   "source": [
    "assert all(bulkified.columns == [\"index\",\"patient5\",\"patient6\",\"patient7\"])"
   ]
  },
  {
   "cell_type": "code",
   "execution_count": 110,
   "id": "73543251",
   "metadata": {},
   "outputs": [],
   "source": [
    "assert all(bulkified[\"index\"] == sc_pancreas_test.to_df().T.index)"
   ]
  },
  {
   "cell_type": "code",
   "execution_count": 111,
   "id": "f2f8aaff",
   "metadata": {},
   "outputs": [
    {
     "data": {
      "text/html": [
       "<div>\n",
       "<style scoped>\n",
       "    .dataframe tbody tr th:only-of-type {\n",
       "        vertical-align: middle;\n",
       "    }\n",
       "\n",
       "    .dataframe tbody tr th {\n",
       "        vertical-align: top;\n",
       "    }\n",
       "\n",
       "    .dataframe thead th {\n",
       "        text-align: right;\n",
       "    }\n",
       "</style>\n",
       "<table border=\"1\" class=\"dataframe\">\n",
       "  <thead>\n",
       "    <tr style=\"text-align: right;\">\n",
       "      <th></th>\n",
       "      <th>index</th>\n",
       "      <th>patient5</th>\n",
       "      <th>patient6</th>\n",
       "      <th>patient7</th>\n",
       "    </tr>\n",
       "  </thead>\n",
       "  <tbody>\n",
       "    <tr>\n",
       "      <th>0</th>\n",
       "      <td>SGIP1</td>\n",
       "      <td>136.723854</td>\n",
       "      <td>659.433086</td>\n",
       "      <td>186.120736</td>\n",
       "    </tr>\n",
       "    <tr>\n",
       "      <th>1</th>\n",
       "      <td>AZIN2</td>\n",
       "      <td>621.530976</td>\n",
       "      <td>661.248850</td>\n",
       "      <td>315.562388</td>\n",
       "    </tr>\n",
       "    <tr>\n",
       "      <th>2</th>\n",
       "      <td>CLIC4</td>\n",
       "      <td>980.767113</td>\n",
       "      <td>3776.468248</td>\n",
       "      <td>4257.269531</td>\n",
       "    </tr>\n",
       "    <tr>\n",
       "      <th>3</th>\n",
       "      <td>AGBL4</td>\n",
       "      <td>190.960494</td>\n",
       "      <td>387.494271</td>\n",
       "      <td>141.951960</td>\n",
       "    </tr>\n",
       "    <tr>\n",
       "      <th>4</th>\n",
       "      <td>NECAP2</td>\n",
       "      <td>1140.123651</td>\n",
       "      <td>4453.838727</td>\n",
       "      <td>3256.290553</td>\n",
       "    </tr>\n",
       "    <tr>\n",
       "      <th>...</th>\n",
       "      <td>...</td>\n",
       "      <td>...</td>\n",
       "      <td>...</td>\n",
       "      <td>...</td>\n",
       "    </tr>\n",
       "    <tr>\n",
       "      <th>25448</th>\n",
       "      <td>KIR2DL5B</td>\n",
       "      <td>0.000397</td>\n",
       "      <td>0.000000</td>\n",
       "      <td>0.000234</td>\n",
       "    </tr>\n",
       "    <tr>\n",
       "      <th>25449</th>\n",
       "      <td>KIR2DS2</td>\n",
       "      <td>0.000397</td>\n",
       "      <td>0.000000</td>\n",
       "      <td>0.000234</td>\n",
       "    </tr>\n",
       "    <tr>\n",
       "      <th>25450</th>\n",
       "      <td>KIR2DS1</td>\n",
       "      <td>0.000397</td>\n",
       "      <td>0.000000</td>\n",
       "      <td>0.000234</td>\n",
       "    </tr>\n",
       "    <tr>\n",
       "      <th>25451</th>\n",
       "      <td>KIR2DL2</td>\n",
       "      <td>0.000397</td>\n",
       "      <td>0.000000</td>\n",
       "      <td>0.000234</td>\n",
       "    </tr>\n",
       "    <tr>\n",
       "      <th>25452</th>\n",
       "      <td>KIR2DS3</td>\n",
       "      <td>0.000397</td>\n",
       "      <td>0.000000</td>\n",
       "      <td>0.000234</td>\n",
       "    </tr>\n",
       "  </tbody>\n",
       "</table>\n",
       "<p>25453 rows × 4 columns</p>\n",
       "</div>"
      ],
      "text/plain": [
       "          index     patient5     patient6     patient7\n",
       "0         SGIP1   136.723854   659.433086   186.120736\n",
       "1         AZIN2   621.530976   661.248850   315.562388\n",
       "2         CLIC4   980.767113  3776.468248  4257.269531\n",
       "3         AGBL4   190.960494   387.494271   141.951960\n",
       "4        NECAP2  1140.123651  4453.838727  3256.290553\n",
       "...         ...          ...          ...          ...\n",
       "25448  KIR2DL5B     0.000397     0.000000     0.000234\n",
       "25449   KIR2DS2     0.000397     0.000000     0.000234\n",
       "25450   KIR2DS1     0.000397     0.000000     0.000234\n",
       "25451   KIR2DL2     0.000397     0.000000     0.000234\n",
       "25452   KIR2DS3     0.000397     0.000000     0.000234\n",
       "\n",
       "[25453 rows x 4 columns]"
      ]
     },
     "execution_count": 111,
     "metadata": {},
     "output_type": "execute_result"
    }
   ],
   "source": [
    "bulkified"
   ]
  },
  {
   "cell_type": "code",
   "execution_count": null,
   "id": "eec6fdbe",
   "metadata": {},
   "outputs": [],
   "source": [
    "# cluster_labels should be a DataFrame containing the cluster labels for each cell\n",
    "# cluster_labels[\"index\"] = sc_pancreas_test.columns\n",
    "# cluster_labels.columns = [\"index\", \"cluster\"]\n",
    "# cluster_labels[\"index\"] = sc_pancreas_test.columns"
   ]
  },
  {
   "cell_type": "code",
   "execution_count": 112,
   "id": "b579f622",
   "metadata": {},
   "outputs": [],
   "source": [
    "assert all(cluster_labels.columns == [\"index\",\"cluster\"])"
   ]
  },
  {
   "cell_type": "code",
   "execution_count": 113,
   "id": "8c4dd353",
   "metadata": {},
   "outputs": [],
   "source": [
    "assert all(cluster_labels[\"index\"] == sc_pancreas_test.to_df().T.columns)"
   ]
  },
  {
   "cell_type": "code",
   "execution_count": 114,
   "id": "0f7cfac1",
   "metadata": {},
   "outputs": [
    {
     "data": {
      "text/html": [
       "<div>\n",
       "<style scoped>\n",
       "    .dataframe tbody tr th:only-of-type {\n",
       "        vertical-align: middle;\n",
       "    }\n",
       "\n",
       "    .dataframe tbody tr th {\n",
       "        vertical-align: top;\n",
       "    }\n",
       "\n",
       "    .dataframe thead th {\n",
       "        text-align: right;\n",
       "    }\n",
       "</style>\n",
       "<table border=\"1\" class=\"dataframe\">\n",
       "  <thead>\n",
       "    <tr style=\"text-align: right;\">\n",
       "      <th></th>\n",
       "      <th>index</th>\n",
       "      <th>cluster</th>\n",
       "    </tr>\n",
       "  </thead>\n",
       "  <tbody>\n",
       "    <tr>\n",
       "      <th>0</th>\n",
       "      <td>patient5_A12</td>\n",
       "      <td>6</td>\n",
       "    </tr>\n",
       "    <tr>\n",
       "      <th>1</th>\n",
       "      <td>patient5_A14</td>\n",
       "      <td>0</td>\n",
       "    </tr>\n",
       "    <tr>\n",
       "      <th>2</th>\n",
       "      <td>patient5_A20</td>\n",
       "      <td>0</td>\n",
       "    </tr>\n",
       "    <tr>\n",
       "      <th>3</th>\n",
       "      <td>patient5_A22</td>\n",
       "      <td>0</td>\n",
       "    </tr>\n",
       "    <tr>\n",
       "      <th>4</th>\n",
       "      <td>patient5_A4</td>\n",
       "      <td>0</td>\n",
       "    </tr>\n",
       "    <tr>\n",
       "      <th>...</th>\n",
       "      <td>...</td>\n",
       "      <td>...</td>\n",
       "    </tr>\n",
       "    <tr>\n",
       "      <th>784</th>\n",
       "      <td>patient6_P22</td>\n",
       "      <td>4</td>\n",
       "    </tr>\n",
       "    <tr>\n",
       "      <th>785</th>\n",
       "      <td>patient6_P23</td>\n",
       "      <td>2</td>\n",
       "    </tr>\n",
       "    <tr>\n",
       "      <th>786</th>\n",
       "      <td>patient6_P4</td>\n",
       "      <td>3</td>\n",
       "    </tr>\n",
       "    <tr>\n",
       "      <th>787</th>\n",
       "      <td>patient6_P7</td>\n",
       "      <td>3</td>\n",
       "    </tr>\n",
       "    <tr>\n",
       "      <th>788</th>\n",
       "      <td>patient6_P9</td>\n",
       "      <td>3</td>\n",
       "    </tr>\n",
       "  </tbody>\n",
       "</table>\n",
       "<p>789 rows × 2 columns</p>\n",
       "</div>"
      ],
      "text/plain": [
       "            index  cluster\n",
       "0    patient5_A12        6\n",
       "1    patient5_A14        0\n",
       "2    patient5_A20        0\n",
       "3    patient5_A22        0\n",
       "4     patient5_A4        0\n",
       "..            ...      ...\n",
       "784  patient6_P22        4\n",
       "785  patient6_P23        2\n",
       "786   patient6_P4        3\n",
       "787   patient6_P7        3\n",
       "788   patient6_P9        3\n",
       "\n",
       "[789 rows x 2 columns]"
      ]
     },
     "execution_count": 114,
     "metadata": {},
     "output_type": "execute_result"
    }
   ],
   "source": [
    "cluster_labels"
   ]
  },
  {
   "cell_type": "code",
   "execution_count": 61,
   "id": "74b55afd",
   "metadata": {},
   "outputs": [],
   "source": [
    "# PCA should be a DataFrame containing the coordinates of each cell in the PCA transformed space for the 50 first PCs\n",
    "# PCA.columns = [\"index\", \"PC1\", \"PC2\", ..., \"PC50\"]\n",
    "# PCA[\"index\"] = sc_pancreas_test.columns"
   ]
  },
  {
   "cell_type": "code",
   "execution_count": 115,
   "id": "83835eae",
   "metadata": {},
   "outputs": [],
   "source": [
    "assert all(PCA.columns == [\"index\"] + [\"PC\"+str(i+1) for i in range(50)])"
   ]
  },
  {
   "cell_type": "code",
   "execution_count": 116,
   "id": "fb99b243",
   "metadata": {},
   "outputs": [],
   "source": [
    "assert all(PCA[\"index\"] == sc_pancreas_test.to_df().T.columns)\n",
    "# print(sc_pancreas_test.to_df().columns)"
   ]
  },
  {
   "cell_type": "code",
   "execution_count": 118,
   "id": "f4a7b8fc",
   "metadata": {},
   "outputs": [],
   "source": [
    "with zipfile.ZipFile(os.path.join(results_path, archive_name), \"x\") as zf:\n",
    "    with zf.open(f\"imputed_bulkified.csv\", \"w\") as buffer:\n",
    "        bulkified.to_csv(buffer)\n",
    "    with zf.open(f\"cluster_membership.csv\", \"w\") as buffer:\n",
    "        cluster_labels.to_csv(buffer)\n",
    "    with zf.open(f\"PCA.csv\", \"w\") as buffer:\n",
    "        PCA.to_csv(buffer)\n",
    "    zf.close()"
   ]
  },
  {
   "cell_type": "code",
   "execution_count": 119,
   "id": "99ab0880",
   "metadata": {},
   "outputs": [],
   "source": [
    "archive = zipfile.ZipFile(os.path.join(results_path, archive_name))\n",
    "assert all(\n",
    "        [\n",
    "            i in archive.namelist()\n",
    "            for i in [\n",
    "                \"imputed_bulkified.csv\",\n",
    "                \"cluster_membership.csv\",\n",
    "                \"PCA.csv\",\n",
    "            ]\n",
    "        ]\n",
    "    )"
   ]
  },
  {
   "cell_type": "code",
   "execution_count": null,
   "id": "bb14c3ff",
   "metadata": {},
   "outputs": [],
   "source": []
  }
 ],
 "metadata": {
  "kernelspec": {
   "display_name": "Python 3 (ipykernel)",
   "language": "python",
   "name": "python3"
  },
  "language_info": {
   "codemirror_mode": {
    "name": "ipython",
    "version": 3
   },
   "file_extension": ".py",
   "mimetype": "text/x-python",
   "name": "python",
   "nbconvert_exporter": "python",
   "pygments_lexer": "ipython3",
   "version": "3.8.10"
  }
 },
 "nbformat": 4,
 "nbformat_minor": 5
}
