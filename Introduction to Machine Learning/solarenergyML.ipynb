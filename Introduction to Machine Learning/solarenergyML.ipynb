{
 "cells": [
  {
   "cell_type": "code",
   "execution_count": 1,
   "metadata": {},
   "outputs": [
    {
     "name": "stderr",
     "output_type": "stream",
     "text": [
      "2022-05-30 23:15:05.458122: W tensorflow/stream_executor/platform/default/dso_loader.cc:64] Could not load dynamic library 'libcudart.so.11.0'; dlerror: libcudart.so.11.0: cannot open shared object file: No such file or directory\n",
      "2022-05-30 23:15:05.458137: I tensorflow/stream_executor/cuda/cudart_stub.cc:29] Ignore above cudart dlerror if you do not have a GPU set up on your machine.\n"
     ]
    }
   ],
   "source": [
    "import pandas as pd\n",
    "import numpy as np\n",
    "from sklearn.linear_model import LinearRegression\n",
    "import tensorflow as tf\n",
    "from sklearn.model_selection import train_test_split\n",
    "from keras.callbacks import History \n",
    "import matplotlib.pyplot as plt\n",
    "from keras.layers.convolutional import Conv1D,UpSampling1D\n",
    "from keras.layers import Reshape\n",
    "from keras.layers.convolutional import MaxPooling1D,AveragePooling1D\n",
    "from keras.layers import Input\n",
    "from keras.layers import Dense\n",
    "from keras.layers import Flatten\n",
    "from keras.layers import Dropout\n",
    "from keras import Model, Sequential\n",
    "from keras.callbacks import ModelCheckpoint\n",
    "from keras import utils as np_utils\n",
    "from keras.constraints import max_norm\n",
    "from keras import optimizers"
   ]
  },
  {
   "cell_type": "code",
   "execution_count": 2,
   "metadata": {},
   "outputs": [
    {
     "data": {
      "text/html": [
       "<div>\n",
       "<style scoped>\n",
       "    .dataframe tbody tr th:only-of-type {\n",
       "        vertical-align: middle;\n",
       "    }\n",
       "\n",
       "    .dataframe tbody tr th {\n",
       "        vertical-align: top;\n",
       "    }\n",
       "\n",
       "    .dataframe thead th {\n",
       "        text-align: right;\n",
       "    }\n",
       "</style>\n",
       "<table border=\"1\" class=\"dataframe\">\n",
       "  <thead>\n",
       "    <tr style=\"text-align: right;\">\n",
       "      <th></th>\n",
       "      <th>Id</th>\n",
       "      <th>smiles</th>\n",
       "      <th>feature_0000</th>\n",
       "      <th>feature_0001</th>\n",
       "      <th>feature_0002</th>\n",
       "      <th>feature_0003</th>\n",
       "      <th>feature_0004</th>\n",
       "      <th>feature_0005</th>\n",
       "      <th>feature_0006</th>\n",
       "      <th>feature_0007</th>\n",
       "      <th>...</th>\n",
       "      <th>feature_0990</th>\n",
       "      <th>feature_0991</th>\n",
       "      <th>feature_0992</th>\n",
       "      <th>feature_0993</th>\n",
       "      <th>feature_0994</th>\n",
       "      <th>feature_0995</th>\n",
       "      <th>feature_0996</th>\n",
       "      <th>feature_0997</th>\n",
       "      <th>feature_0998</th>\n",
       "      <th>feature_0999</th>\n",
       "    </tr>\n",
       "  </thead>\n",
       "  <tbody>\n",
       "    <tr>\n",
       "      <th>0</th>\n",
       "      <td>0</td>\n",
       "      <td>c1occ2c1c1ccc3cscc3c1c1ncc3cc(ccc3c21)-c1cccc2...</td>\n",
       "      <td>0.0</td>\n",
       "      <td>0.0</td>\n",
       "      <td>0.0</td>\n",
       "      <td>0.0</td>\n",
       "      <td>0.0</td>\n",
       "      <td>0.0</td>\n",
       "      <td>0.0</td>\n",
       "      <td>0.0</td>\n",
       "      <td>...</td>\n",
       "      <td>0.0</td>\n",
       "      <td>0.0</td>\n",
       "      <td>0.0</td>\n",
       "      <td>0.0</td>\n",
       "      <td>0.0</td>\n",
       "      <td>0.0</td>\n",
       "      <td>0.0</td>\n",
       "      <td>0.0</td>\n",
       "      <td>0.0</td>\n",
       "      <td>0.0</td>\n",
       "    </tr>\n",
       "    <tr>\n",
       "      <th>1</th>\n",
       "      <td>1</td>\n",
       "      <td>C1C=c2c(cc3ncc4c5[SiH2]C=Cc5oc4c3c2=C1)-c1scc2...</td>\n",
       "      <td>0.0</td>\n",
       "      <td>0.0</td>\n",
       "      <td>0.0</td>\n",
       "      <td>0.0</td>\n",
       "      <td>1.0</td>\n",
       "      <td>0.0</td>\n",
       "      <td>1.0</td>\n",
       "      <td>0.0</td>\n",
       "      <td>...</td>\n",
       "      <td>0.0</td>\n",
       "      <td>1.0</td>\n",
       "      <td>0.0</td>\n",
       "      <td>0.0</td>\n",
       "      <td>0.0</td>\n",
       "      <td>0.0</td>\n",
       "      <td>0.0</td>\n",
       "      <td>0.0</td>\n",
       "      <td>0.0</td>\n",
       "      <td>0.0</td>\n",
       "    </tr>\n",
       "    <tr>\n",
       "      <th>2</th>\n",
       "      <td>2</td>\n",
       "      <td>C1C=c2c3cccnc3c3c4c[nH]cc4c4cc(cnc4c3c2=C1)-c1...</td>\n",
       "      <td>0.0</td>\n",
       "      <td>0.0</td>\n",
       "      <td>0.0</td>\n",
       "      <td>0.0</td>\n",
       "      <td>0.0</td>\n",
       "      <td>0.0</td>\n",
       "      <td>0.0</td>\n",
       "      <td>0.0</td>\n",
       "      <td>...</td>\n",
       "      <td>0.0</td>\n",
       "      <td>0.0</td>\n",
       "      <td>0.0</td>\n",
       "      <td>0.0</td>\n",
       "      <td>0.0</td>\n",
       "      <td>0.0</td>\n",
       "      <td>0.0</td>\n",
       "      <td>0.0</td>\n",
       "      <td>0.0</td>\n",
       "      <td>0.0</td>\n",
       "    </tr>\n",
       "    <tr>\n",
       "      <th>3</th>\n",
       "      <td>3</td>\n",
       "      <td>[SiH2]1C=Cc2c1csc2-c1cnc2c(c1)c1ccccc1c1cc3ccc...</td>\n",
       "      <td>0.0</td>\n",
       "      <td>0.0</td>\n",
       "      <td>0.0</td>\n",
       "      <td>0.0</td>\n",
       "      <td>0.0</td>\n",
       "      <td>0.0</td>\n",
       "      <td>0.0</td>\n",
       "      <td>1.0</td>\n",
       "      <td>...</td>\n",
       "      <td>0.0</td>\n",
       "      <td>0.0</td>\n",
       "      <td>0.0</td>\n",
       "      <td>0.0</td>\n",
       "      <td>0.0</td>\n",
       "      <td>0.0</td>\n",
       "      <td>0.0</td>\n",
       "      <td>0.0</td>\n",
       "      <td>0.0</td>\n",
       "      <td>0.0</td>\n",
       "    </tr>\n",
       "    <tr>\n",
       "      <th>4</th>\n",
       "      <td>4</td>\n",
       "      <td>c1occ2c1c(cc1[se]c3ccncc3c21)-c1cccc2nsnc12</td>\n",
       "      <td>0.0</td>\n",
       "      <td>0.0</td>\n",
       "      <td>0.0</td>\n",
       "      <td>0.0</td>\n",
       "      <td>0.0</td>\n",
       "      <td>0.0</td>\n",
       "      <td>0.0</td>\n",
       "      <td>0.0</td>\n",
       "      <td>...</td>\n",
       "      <td>0.0</td>\n",
       "      <td>0.0</td>\n",
       "      <td>0.0</td>\n",
       "      <td>0.0</td>\n",
       "      <td>0.0</td>\n",
       "      <td>1.0</td>\n",
       "      <td>0.0</td>\n",
       "      <td>0.0</td>\n",
       "      <td>0.0</td>\n",
       "      <td>0.0</td>\n",
       "    </tr>\n",
       "  </tbody>\n",
       "</table>\n",
       "<p>5 rows × 1002 columns</p>\n",
       "</div>"
      ],
      "text/plain": [
       "   Id                                             smiles  feature_0000  \\\n",
       "0   0  c1occ2c1c1ccc3cscc3c1c1ncc3cc(ccc3c21)-c1cccc2...           0.0   \n",
       "1   1  C1C=c2c(cc3ncc4c5[SiH2]C=Cc5oc4c3c2=C1)-c1scc2...           0.0   \n",
       "2   2  C1C=c2c3cccnc3c3c4c[nH]cc4c4cc(cnc4c3c2=C1)-c1...           0.0   \n",
       "3   3  [SiH2]1C=Cc2c1csc2-c1cnc2c(c1)c1ccccc1c1cc3ccc...           0.0   \n",
       "4   4        c1occ2c1c(cc1[se]c3ccncc3c21)-c1cccc2nsnc12           0.0   \n",
       "\n",
       "   feature_0001  feature_0002  feature_0003  feature_0004  feature_0005  \\\n",
       "0           0.0           0.0           0.0           0.0           0.0   \n",
       "1           0.0           0.0           0.0           1.0           0.0   \n",
       "2           0.0           0.0           0.0           0.0           0.0   \n",
       "3           0.0           0.0           0.0           0.0           0.0   \n",
       "4           0.0           0.0           0.0           0.0           0.0   \n",
       "\n",
       "   feature_0006  feature_0007  ...  feature_0990  feature_0991  feature_0992  \\\n",
       "0           0.0           0.0  ...           0.0           0.0           0.0   \n",
       "1           1.0           0.0  ...           0.0           1.0           0.0   \n",
       "2           0.0           0.0  ...           0.0           0.0           0.0   \n",
       "3           0.0           1.0  ...           0.0           0.0           0.0   \n",
       "4           0.0           0.0  ...           0.0           0.0           0.0   \n",
       "\n",
       "   feature_0993  feature_0994  feature_0995  feature_0996  feature_0997  \\\n",
       "0           0.0           0.0           0.0           0.0           0.0   \n",
       "1           0.0           0.0           0.0           0.0           0.0   \n",
       "2           0.0           0.0           0.0           0.0           0.0   \n",
       "3           0.0           0.0           0.0           0.0           0.0   \n",
       "4           0.0           0.0           1.0           0.0           0.0   \n",
       "\n",
       "   feature_0998  feature_0999  \n",
       "0           0.0           0.0  \n",
       "1           0.0           0.0  \n",
       "2           0.0           0.0  \n",
       "3           0.0           0.0  \n",
       "4           0.0           0.0  \n",
       "\n",
       "[5 rows x 1002 columns]"
      ]
     },
     "execution_count": 2,
     "metadata": {},
     "output_type": "execute_result"
    }
   ],
   "source": [
    "pretrainfeats_df = pd.read_csv(\"pretrain_features.csv.zip\")\n",
    "pretrainfeats_df.head()\n"
   ]
  },
  {
   "cell_type": "code",
   "execution_count": 3,
   "metadata": {},
   "outputs": [
    {
     "data": {
      "text/plain": [
       "(50000, 2)"
      ]
     },
     "execution_count": 3,
     "metadata": {},
     "output_type": "execute_result"
    }
   ],
   "source": [
    "pretrainlabs_df = pd.read_csv(\"pretrain_labels.csv.zip\")\n",
    "pretrainlabs_df.head()\n",
    "pretrainlabs_df.shape"
   ]
  },
  {
   "cell_type": "code",
   "execution_count": 4,
   "metadata": {},
   "outputs": [],
   "source": [
    "pre_train_x = pretrainfeats_df.drop(['Id', 'smiles'], axis=1).to_numpy()"
   ]
  },
  {
   "cell_type": "code",
   "execution_count": 5,
   "metadata": {},
   "outputs": [],
   "source": [
    "pre_train_y = pretrainlabs_df.drop(['Id'], axis=1).to_numpy()"
   ]
  },
  {
   "cell_type": "code",
   "execution_count": 6,
   "metadata": {
    "pycharm": {
     "name": "#%%\n"
    }
   },
   "outputs": [],
   "source": [
    "\n",
    "x_train, x_test, y_train, y_test = train_test_split(\n",
    "    pre_train_x, pre_train_y, test_size=0.2\n",
    ")\n"
   ]
  },
  {
   "cell_type": "code",
   "execution_count": 7,
   "metadata": {},
   "outputs": [
    {
     "name": "stderr",
     "output_type": "stream",
     "text": [
      "2022-05-30 23:15:20.496702: W tensorflow/stream_executor/platform/default/dso_loader.cc:64] Could not load dynamic library 'libcuda.so.1'; dlerror: libcuda.so.1: cannot open shared object file: No such file or directory\n",
      "2022-05-30 23:15:20.496731: W tensorflow/stream_executor/cuda/cuda_driver.cc:269] failed call to cuInit: UNKNOWN ERROR (303)\n",
      "2022-05-30 23:15:20.496752: I tensorflow/stream_executor/cuda/cuda_diagnostics.cc:156] kernel driver does not appear to be running on this host (philipp-HP-ProBook): /proc/driver/nvidia/version does not exist\n",
      "2022-05-30 23:15:20.497020: I tensorflow/core/platform/cpu_feature_guard.cc:151] This TensorFlow binary is optimized with oneAPI Deep Neural Network Library (oneDNN) to use the following CPU instructions in performance-critical operations:  AVX2 AVX512F FMA\n",
      "To enable them in other operations, rebuild TensorFlow with the appropriate compiler flags.\n"
     ]
    }
   ],
   "source": [
    "model = Sequential()\n",
    "model.add(Dense(1000, activation='relu'))\n",
    "model.add(Dense(100, activation='sigmoid'))\n",
    "model.add(Dense(1000, activation='relu'))\n",
    "model.add(Dense(500, activation='relu'))\n",
    "model.add(Dense(100, activation='relu'))\n",
    "model.add(Dense(1))\n",
    "model.compile(optimizer=\"adam\",loss=\"mean_squared_error\",metrics=[\"mean_absolute_error\"])"
   ]
  },
  {
   "cell_type": "code",
   "execution_count": 8,
   "metadata": {},
   "outputs": [],
   "source": [
    "#model_autoencoder.fit(pre_train_x, pre_train_y, validation_split=0.2, epochs=20, verbose=2)"
   ]
  },
  {
   "cell_type": "code",
   "execution_count": 9,
   "metadata": {
    "pycharm": {
     "name": "#%%\n"
    }
   },
   "outputs": [
    {
     "data": {
      "text/plain": [
       "'\\nmodel = tf.keras.models.Sequential([\\n        tf.keras.layers.Conv1D(filters=64, kernel_size=3, activation=\\'relu\\', input_shape = (1000))\\n        tf.keras.layers.Conv1D(filters=64, kernel_size=3, activation=\\'relu\\')\\n        tf.keras.layers.Dropout(0.5)\\n        tf.keras.layers.MaxPooling1D(pool_size=2)\\n        tf.keras.layers.Flatten()\\n        #tf.keras.layers.MaxPooling1D(3)(500),\\n        #tf.keras.layers.Conv1D(100,10, activation=\\'relu\\', padding=\\'valid\\'),\\n        #tf.keras.layers.MaxPooling1D(3)(100),\\n        #tf.keras.layers.Dense(1000, activation=\\'relu\\'),\\n        tf.keras.layers.Dense(500, activation=\\'relu\\'),\\n        tf.keras.layers.Dense(100, activation=\\'relu\\'),\\n        #tf.keras.layers.Dense(25, activation=\\'relu\\'),\\n        tf.keras.layers.Dense(1)\\n    \\n    ])\\n\\n# compile the model\\nmodel.compile(\\n    optimizer=\"adam\",\\n    loss=\"mean_squared_error\",\\n    metrics=[\"mean_absolute_error\"]\\n)\\n'"
      ]
     },
     "execution_count": 9,
     "metadata": {},
     "output_type": "execute_result"
    }
   ],
   "source": [
    "'''\n",
    "model = tf.keras.models.Sequential([\n",
    "        tf.keras.layers.Conv1D(filters=64, kernel_size=3, activation='relu', input_shape = (1000))\n",
    "        tf.keras.layers.Conv1D(filters=64, kernel_size=3, activation='relu')\n",
    "        tf.keras.layers.Dropout(0.5)\n",
    "        tf.keras.layers.MaxPooling1D(pool_size=2)\n",
    "        tf.keras.layers.Flatten()\n",
    "        #tf.keras.layers.MaxPooling1D(3)(500),\n",
    "        #tf.keras.layers.Conv1D(100,10, activation='relu', padding='valid'),\n",
    "        #tf.keras.layers.MaxPooling1D(3)(100),\n",
    "        #tf.keras.layers.Dense(1000, activation='relu'),\n",
    "        tf.keras.layers.Dense(500, activation='relu'),\n",
    "        tf.keras.layers.Dense(100, activation='relu'),\n",
    "        #tf.keras.layers.Dense(25, activation='relu'),\n",
    "        tf.keras.layers.Dense(1)\n",
    "    \n",
    "    ])\n",
    "\n",
    "# compile the model\n",
    "model.compile(\n",
    "    optimizer=\"adam\",\n",
    "    loss=\"mean_squared_error\",\n",
    "    metrics=[\"mean_absolute_error\"]\n",
    ")\n",
    "'''"
   ]
  },
  {
   "cell_type": "code",
   "execution_count": 10,
   "metadata": {},
   "outputs": [
    {
     "name": "stdout",
     "output_type": "stream",
     "text": [
      "Epoch 1/30\n",
      "1250/1250 - 6s - loss: 0.0330 - mean_absolute_error: 0.0938 - val_loss: 0.0065 - val_mean_absolute_error: 0.0622 - 6s/epoch - 5ms/step\n",
      "Epoch 2/30\n",
      "1250/1250 - 6s - loss: 0.0058 - mean_absolute_error: 0.0597 - val_loss: 0.0047 - val_mean_absolute_error: 0.0525 - 6s/epoch - 4ms/step\n",
      "Epoch 3/30\n",
      "1250/1250 - 6s - loss: 0.0043 - mean_absolute_error: 0.0518 - val_loss: 0.0040 - val_mean_absolute_error: 0.0480 - 6s/epoch - 5ms/step\n",
      "Epoch 4/30\n",
      "1250/1250 - 6s - loss: 0.0038 - mean_absolute_error: 0.0482 - val_loss: 0.0051 - val_mean_absolute_error: 0.0566 - 6s/epoch - 5ms/step\n",
      "Epoch 5/30\n",
      "1250/1250 - 6s - loss: 0.0029 - mean_absolute_error: 0.0421 - val_loss: 0.0039 - val_mean_absolute_error: 0.0472 - 6s/epoch - 5ms/step\n",
      "Epoch 6/30\n",
      "1250/1250 - 6s - loss: 0.0025 - mean_absolute_error: 0.0394 - val_loss: 0.0044 - val_mean_absolute_error: 0.0512 - 6s/epoch - 5ms/step\n",
      "Epoch 7/30\n",
      "1250/1250 - 6s - loss: 0.0022 - mean_absolute_error: 0.0368 - val_loss: 0.0030 - val_mean_absolute_error: 0.0416 - 6s/epoch - 5ms/step\n",
      "Epoch 8/30\n",
      "1250/1250 - 6s - loss: 0.0021 - mean_absolute_error: 0.0357 - val_loss: 0.0028 - val_mean_absolute_error: 0.0395 - 6s/epoch - 5ms/step\n",
      "Epoch 9/30\n",
      "1250/1250 - 6s - loss: 0.0018 - mean_absolute_error: 0.0332 - val_loss: 0.0030 - val_mean_absolute_error: 0.0418 - 6s/epoch - 5ms/step\n",
      "Epoch 10/30\n",
      "1250/1250 - 6s - loss: 0.0015 - mean_absolute_error: 0.0301 - val_loss: 0.0025 - val_mean_absolute_error: 0.0371 - 6s/epoch - 5ms/step\n",
      "Epoch 11/30\n",
      "1250/1250 - 6s - loss: 0.0014 - mean_absolute_error: 0.0297 - val_loss: 0.0027 - val_mean_absolute_error: 0.0386 - 6s/epoch - 5ms/step\n",
      "Epoch 12/30\n",
      "1250/1250 - 6s - loss: 0.0013 - mean_absolute_error: 0.0287 - val_loss: 0.0024 - val_mean_absolute_error: 0.0360 - 6s/epoch - 5ms/step\n",
      "Epoch 13/30\n",
      "1250/1250 - 6s - loss: 0.0012 - mean_absolute_error: 0.0269 - val_loss: 0.0025 - val_mean_absolute_error: 0.0373 - 6s/epoch - 5ms/step\n",
      "Epoch 14/30\n",
      "1250/1250 - 6s - loss: 0.0011 - mean_absolute_error: 0.0258 - val_loss: 0.0026 - val_mean_absolute_error: 0.0376 - 6s/epoch - 5ms/step\n",
      "Epoch 15/30\n",
      "1250/1250 - 6s - loss: 9.5940e-04 - mean_absolute_error: 0.0244 - val_loss: 0.0025 - val_mean_absolute_error: 0.0369 - 6s/epoch - 5ms/step\n",
      "Epoch 16/30\n",
      "1250/1250 - 6s - loss: 9.8236e-04 - mean_absolute_error: 0.0246 - val_loss: 0.0023 - val_mean_absolute_error: 0.0351 - 6s/epoch - 5ms/step\n",
      "Epoch 17/30\n",
      "1250/1250 - 6s - loss: 8.5043e-04 - mean_absolute_error: 0.0230 - val_loss: 0.0028 - val_mean_absolute_error: 0.0409 - 6s/epoch - 5ms/step\n",
      "Epoch 18/30\n",
      "1250/1250 - 6s - loss: 7.9623e-04 - mean_absolute_error: 0.0221 - val_loss: 0.0022 - val_mean_absolute_error: 0.0348 - 6s/epoch - 5ms/step\n",
      "Epoch 19/30\n",
      "1250/1250 - 6s - loss: 7.6634e-04 - mean_absolute_error: 0.0218 - val_loss: 0.0025 - val_mean_absolute_error: 0.0372 - 6s/epoch - 5ms/step\n",
      "Epoch 20/30\n",
      "1250/1250 - 6s - loss: 6.7076e-04 - mean_absolute_error: 0.0204 - val_loss: 0.0024 - val_mean_absolute_error: 0.0366 - 6s/epoch - 5ms/step\n",
      "Epoch 21/30\n",
      "1250/1250 - 6s - loss: 6.7828e-04 - mean_absolute_error: 0.0205 - val_loss: 0.0037 - val_mean_absolute_error: 0.0485 - 6s/epoch - 5ms/step\n",
      "Epoch 22/30\n",
      "1250/1250 - 7s - loss: 6.8496e-04 - mean_absolute_error: 0.0205 - val_loss: 0.0022 - val_mean_absolute_error: 0.0344 - 7s/epoch - 5ms/step\n",
      "Epoch 23/30\n",
      "1250/1250 - 6s - loss: 5.9244e-04 - mean_absolute_error: 0.0192 - val_loss: 0.0022 - val_mean_absolute_error: 0.0343 - 6s/epoch - 5ms/step\n",
      "Epoch 24/30\n",
      "1250/1250 - 6s - loss: 5.7114e-04 - mean_absolute_error: 0.0187 - val_loss: 0.0025 - val_mean_absolute_error: 0.0371 - 6s/epoch - 5ms/step\n",
      "Epoch 25/30\n",
      "1250/1250 - 7s - loss: 5.7785e-04 - mean_absolute_error: 0.0188 - val_loss: 0.0023 - val_mean_absolute_error: 0.0356 - 7s/epoch - 5ms/step\n",
      "Epoch 26/30\n",
      "1250/1250 - 7s - loss: 5.5749e-04 - mean_absolute_error: 0.0185 - val_loss: 0.0020 - val_mean_absolute_error: 0.0332 - 7s/epoch - 5ms/step\n",
      "Epoch 27/30\n",
      "1250/1250 - 7s - loss: 5.1444e-04 - mean_absolute_error: 0.0177 - val_loss: 0.0022 - val_mean_absolute_error: 0.0349 - 7s/epoch - 6ms/step\n",
      "Epoch 28/30\n",
      "1250/1250 - 6s - loss: 4.9676e-04 - mean_absolute_error: 0.0175 - val_loss: 0.0022 - val_mean_absolute_error: 0.0346 - 6s/epoch - 5ms/step\n",
      "Epoch 29/30\n",
      "1250/1250 - 6s - loss: 5.1215e-04 - mean_absolute_error: 0.0176 - val_loss: 0.0024 - val_mean_absolute_error: 0.0367 - 6s/epoch - 5ms/step\n",
      "Epoch 30/30\n",
      "1250/1250 - 6s - loss: 4.6607e-04 - mean_absolute_error: 0.0170 - val_loss: 0.0022 - val_mean_absolute_error: 0.0344 - 6s/epoch - 5ms/step\n"
     ]
    }
   ],
   "source": [
    "history = model.fit(pre_train_x, pre_train_y, validation_split=0.2, epochs=30, verbose=2)"
   ]
  },
  {
   "cell_type": "code",
   "execution_count": 183,
   "metadata": {},
   "outputs": [],
   "source": [
    "#print(history.history['val_loss'])"
   ]
  },
  {
   "cell_type": "code",
   "execution_count": 11,
   "metadata": {},
   "outputs": [
    {
     "data": {
      "text/plain": [
       "[<matplotlib.lines.Line2D at 0x7f76fadb42e0>]"
      ]
     },
     "execution_count": 11,
     "metadata": {},
     "output_type": "execute_result"
    },
    {
     "data": {
      "image/png": "[encoded data removed]",
      "text/plain": [
       "<Figure size 432x288 with 1 Axes>"
      ]
     },
     "metadata": {
      "needs_background": "light"
     },
     "output_type": "display_data"
    }
   ],
   "source": [
    "plt.plot(history.history['val_loss'])\n",
    "#plt.yscale('log')"
   ]
  },
  {
   "cell_type": "code",
   "execution_count": 12,
   "metadata": {
    "pycharm": {
     "name": "#%%\n"
    }
   },
   "outputs": [],
   "source": [
    "# Fit model on training data\n",
    "#model.fit(x_train, y_train, epochs=4)"
   ]
  },
  {
   "cell_type": "code",
   "execution_count": 13,
   "metadata": {
    "pycharm": {
     "name": "#%%\n"
    }
   },
   "outputs": [
    {
     "name": "stdout",
     "output_type": "stream",
     "text": [
      "313/313 - 0s - loss: 7.6750e-04 - mean_absolute_error: 0.0205 - 369ms/epoch - 1ms/step\n"
     ]
    },
    {
     "data": {
      "text/plain": [
       "[0.0007674966473132372, 0.020508304238319397]"
      ]
     },
     "execution_count": 13,
     "metadata": {},
     "output_type": "execute_result"
    }
   ],
   "source": [
    "# Evaluate neural network performance\n",
    "model.evaluate(x_test,  y_test, verbose=2)\n"
   ]
  },
  {
   "cell_type": "code",
   "execution_count": 14,
   "metadata": {
    "pycharm": {
     "name": "#%%\n"
    }
   },
   "outputs": [],
   "source": [
    "preresults = model.predict(x_test)"
   ]
  },
  {
   "cell_type": "code",
   "execution_count": 15,
   "metadata": {
    "pycharm": {
     "name": "#%%\n"
    }
   },
   "outputs": [
    {
     "name": "stdout",
     "output_type": "stream",
     "text": [
      "Model: \"sequential\"\n",
      "_________________________________________________________________\n",
      " Layer (type)                Output Shape              Param #   \n",
      "=================================================================\n",
      " dense (Dense)               (None, 1000)              1001000   \n",
      "                                                                 \n",
      " dense_1 (Dense)             (None, 100)               100100    \n",
      "                                                                 \n",
      " dense_2 (Dense)             (None, 1000)              101000    \n",
      "                                                                 \n",
      " dense_3 (Dense)             (None, 500)               500500    \n",
      "                                                                 \n",
      " dense_4 (Dense)             (None, 100)               50100     \n",
      "                                                                 \n",
      " dense_5 (Dense)             (None, 1)                 101       \n",
      "                                                                 \n",
      "=================================================================\n",
      "Total params: 1,752,801\n",
      "Trainable params: 1,752,801\n",
      "Non-trainable params: 0\n",
      "_________________________________________________________________\n"
     ]
    }
   ],
   "source": [
    "model.summary()"
   ]
  },
  {
   "cell_type": "code",
   "execution_count": 16,
   "metadata": {
    "pycharm": {
     "name": "#%%\n"
    }
   },
   "outputs": [],
   "source": [
    "# Build a new model without last layer and freeze other layers of the pre-trained model\n",
    "model2 = tf.keras.models.Sequential()\n",
    "for layer in model.layers[:-1]:\n",
    "    layer.trainable = False\n",
    "    model2.add(layer)\n",
    "#model2.add(tf.keras.layers.Dense(75, activation='relu'))\n",
    "model2.add(tf.keras.layers.Dense(100, activation='relu'))\n",
    "model2.add(tf.keras.layers.Dense(25, activation='relu'))\n",
    "# model2.add(tf.keras.layers.Dense(500, activation='relu'))\n",
    "model2.add(tf.keras.layers.Dense(1))\n",
    "\n",
    "# compile the model\n",
    "model2.compile(\n",
    "    optimizer=\"adam\",\n",
    "    loss=\"mean_squared_error\",\n",
    "    metrics=[\"mean_absolute_error\"]\n",
    ")\n"
   ]
  },
  {
   "cell_type": "code",
   "execution_count": 17,
   "metadata": {
    "pycharm": {
     "name": "#%%\n"
    }
   },
   "outputs": [
    {
     "data": {
      "text/html": [
       "<div>\n",
       "<style scoped>\n",
       "    .dataframe tbody tr th:only-of-type {\n",
       "        vertical-align: middle;\n",
       "    }\n",
       "\n",
       "    .dataframe tbody tr th {\n",
       "        vertical-align: top;\n",
       "    }\n",
       "\n",
       "    .dataframe thead th {\n",
       "        text-align: right;\n",
       "    }\n",
       "</style>\n",
       "<table border=\"1\" class=\"dataframe\">\n",
       "  <thead>\n",
       "    <tr style=\"text-align: right;\">\n",
       "      <th></th>\n",
       "      <th>Id</th>\n",
       "      <th>smiles</th>\n",
       "      <th>feature_0000</th>\n",
       "      <th>feature_0001</th>\n",
       "      <th>feature_0002</th>\n",
       "      <th>feature_0003</th>\n",
       "      <th>feature_0004</th>\n",
       "      <th>feature_0005</th>\n",
       "      <th>feature_0006</th>\n",
       "      <th>feature_0007</th>\n",
       "      <th>...</th>\n",
       "      <th>feature_0990</th>\n",
       "      <th>feature_0991</th>\n",
       "      <th>feature_0992</th>\n",
       "      <th>feature_0993</th>\n",
       "      <th>feature_0994</th>\n",
       "      <th>feature_0995</th>\n",
       "      <th>feature_0996</th>\n",
       "      <th>feature_0997</th>\n",
       "      <th>feature_0998</th>\n",
       "      <th>feature_0999</th>\n",
       "    </tr>\n",
       "  </thead>\n",
       "  <tbody>\n",
       "    <tr>\n",
       "      <th>0</th>\n",
       "      <td>50000</td>\n",
       "      <td>C1C=c2c3ccoc3c3c4ccccc4c(cc3c2=C1)-c1scc2ccsc12</td>\n",
       "      <td>0.0</td>\n",
       "      <td>0.0</td>\n",
       "      <td>0.0</td>\n",
       "      <td>0.0</td>\n",
       "      <td>0.0</td>\n",
       "      <td>0.0</td>\n",
       "      <td>0.0</td>\n",
       "      <td>0.0</td>\n",
       "      <td>...</td>\n",
       "      <td>0.0</td>\n",
       "      <td>0.0</td>\n",
       "      <td>0.0</td>\n",
       "      <td>0.0</td>\n",
       "      <td>0.0</td>\n",
       "      <td>0.0</td>\n",
       "      <td>0.0</td>\n",
       "      <td>0.0</td>\n",
       "      <td>0.0</td>\n",
       "      <td>0.0</td>\n",
       "    </tr>\n",
       "    <tr>\n",
       "      <th>1</th>\n",
       "      <td>50001</td>\n",
       "      <td>c1cc([se]c1-c1sc(-c2cccc3nsnc23)c2nccnc12)-c1c...</td>\n",
       "      <td>0.0</td>\n",
       "      <td>0.0</td>\n",
       "      <td>0.0</td>\n",
       "      <td>1.0</td>\n",
       "      <td>0.0</td>\n",
       "      <td>0.0</td>\n",
       "      <td>0.0</td>\n",
       "      <td>0.0</td>\n",
       "      <td>...</td>\n",
       "      <td>0.0</td>\n",
       "      <td>0.0</td>\n",
       "      <td>0.0</td>\n",
       "      <td>0.0</td>\n",
       "      <td>0.0</td>\n",
       "      <td>0.0</td>\n",
       "      <td>0.0</td>\n",
       "      <td>0.0</td>\n",
       "      <td>0.0</td>\n",
       "      <td>0.0</td>\n",
       "    </tr>\n",
       "    <tr>\n",
       "      <th>2</th>\n",
       "      <td>50002</td>\n",
       "      <td>[SiH2]1C=CC=C1c1cc2cnc3c(sc4ccc5c[nH]cc5c34)c2...</td>\n",
       "      <td>0.0</td>\n",
       "      <td>0.0</td>\n",
       "      <td>0.0</td>\n",
       "      <td>1.0</td>\n",
       "      <td>0.0</td>\n",
       "      <td>0.0</td>\n",
       "      <td>0.0</td>\n",
       "      <td>0.0</td>\n",
       "      <td>...</td>\n",
       "      <td>0.0</td>\n",
       "      <td>0.0</td>\n",
       "      <td>0.0</td>\n",
       "      <td>0.0</td>\n",
       "      <td>0.0</td>\n",
       "      <td>0.0</td>\n",
       "      <td>0.0</td>\n",
       "      <td>0.0</td>\n",
       "      <td>0.0</td>\n",
       "      <td>0.0</td>\n",
       "    </tr>\n",
       "    <tr>\n",
       "      <th>3</th>\n",
       "      <td>50003</td>\n",
       "      <td>C1C=c2ccc3c4cocc4c4c([se]c5cc(-c6cccs6)c6nsnc6...</td>\n",
       "      <td>0.0</td>\n",
       "      <td>0.0</td>\n",
       "      <td>0.0</td>\n",
       "      <td>0.0</td>\n",
       "      <td>0.0</td>\n",
       "      <td>0.0</td>\n",
       "      <td>0.0</td>\n",
       "      <td>0.0</td>\n",
       "      <td>...</td>\n",
       "      <td>0.0</td>\n",
       "      <td>0.0</td>\n",
       "      <td>0.0</td>\n",
       "      <td>0.0</td>\n",
       "      <td>0.0</td>\n",
       "      <td>0.0</td>\n",
       "      <td>0.0</td>\n",
       "      <td>0.0</td>\n",
       "      <td>0.0</td>\n",
       "      <td>0.0</td>\n",
       "    </tr>\n",
       "    <tr>\n",
       "      <th>4</th>\n",
       "      <td>50004</td>\n",
       "      <td>C1c(ccc1-c1sc(-c2nccc3nsnc23)c2ccoc12)-c1scc2c...</td>\n",
       "      <td>0.0</td>\n",
       "      <td>0.0</td>\n",
       "      <td>0.0</td>\n",
       "      <td>1.0</td>\n",
       "      <td>1.0</td>\n",
       "      <td>0.0</td>\n",
       "      <td>0.0</td>\n",
       "      <td>0.0</td>\n",
       "      <td>...</td>\n",
       "      <td>0.0</td>\n",
       "      <td>0.0</td>\n",
       "      <td>0.0</td>\n",
       "      <td>0.0</td>\n",
       "      <td>0.0</td>\n",
       "      <td>0.0</td>\n",
       "      <td>0.0</td>\n",
       "      <td>0.0</td>\n",
       "      <td>0.0</td>\n",
       "      <td>0.0</td>\n",
       "    </tr>\n",
       "  </tbody>\n",
       "</table>\n",
       "<p>5 rows × 1002 columns</p>\n",
       "</div>"
      ],
      "text/plain": [
       "      Id                                             smiles  feature_0000  \\\n",
       "0  50000    C1C=c2c3ccoc3c3c4ccccc4c(cc3c2=C1)-c1scc2ccsc12           0.0   \n",
       "1  50001  c1cc([se]c1-c1sc(-c2cccc3nsnc23)c2nccnc12)-c1c...           0.0   \n",
       "2  50002  [SiH2]1C=CC=C1c1cc2cnc3c(sc4ccc5c[nH]cc5c34)c2...           0.0   \n",
       "3  50003  C1C=c2ccc3c4cocc4c4c([se]c5cc(-c6cccs6)c6nsnc6...           0.0   \n",
       "4  50004  C1c(ccc1-c1sc(-c2nccc3nsnc23)c2ccoc12)-c1scc2c...           0.0   \n",
       "\n",
       "   feature_0001  feature_0002  feature_0003  feature_0004  feature_0005  \\\n",
       "0           0.0           0.0           0.0           0.0           0.0   \n",
       "1           0.0           0.0           1.0           0.0           0.0   \n",
       "2           0.0           0.0           1.0           0.0           0.0   \n",
       "3           0.0           0.0           0.0           0.0           0.0   \n",
       "4           0.0           0.0           1.0           1.0           0.0   \n",
       "\n",
       "   feature_0006  feature_0007  ...  feature_0990  feature_0991  feature_0992  \\\n",
       "0           0.0           0.0  ...           0.0           0.0           0.0   \n",
       "1           0.0           0.0  ...           0.0           0.0           0.0   \n",
       "2           0.0           0.0  ...           0.0           0.0           0.0   \n",
       "3           0.0           0.0  ...           0.0           0.0           0.0   \n",
       "4           0.0           0.0  ...           0.0           0.0           0.0   \n",
       "\n",
       "   feature_0993  feature_0994  feature_0995  feature_0996  feature_0997  \\\n",
       "0           0.0           0.0           0.0           0.0           0.0   \n",
       "1           0.0           0.0           0.0           0.0           0.0   \n",
       "2           0.0           0.0           0.0           0.0           0.0   \n",
       "3           0.0           0.0           0.0           0.0           0.0   \n",
       "4           0.0           0.0           0.0           0.0           0.0   \n",
       "\n",
       "   feature_0998  feature_0999  \n",
       "0           0.0           0.0  \n",
       "1           0.0           0.0  \n",
       "2           0.0           0.0  \n",
       "3           0.0           0.0  \n",
       "4           0.0           0.0  \n",
       "\n",
       "[5 rows x 1002 columns]"
      ]
     },
     "execution_count": 17,
     "metadata": {},
     "output_type": "execute_result"
    }
   ],
   "source": [
    "trainfeats_df = pd.read_csv(\"train_features.csv.zip\")\n",
    "trainfeats_df.head()\n"
   ]
  },
  {
   "cell_type": "code",
   "execution_count": 18,
   "metadata": {
    "pycharm": {
     "name": "#%%\n"
    }
   },
   "outputs": [
    {
     "data": {
      "text/plain": [
       "(100, 2)"
      ]
     },
     "execution_count": 18,
     "metadata": {},
     "output_type": "execute_result"
    }
   ],
   "source": [
    "trainlabs_df = pd.read_csv(\"train_labels.csv.zip\")\n",
    "trainlabs_df.head()\n",
    "trainlabs_df.shape"
   ]
  },
  {
   "cell_type": "code",
   "execution_count": 19,
   "metadata": {
    "pycharm": {
     "name": "#%%\n"
    }
   },
   "outputs": [],
   "source": [
    "train_x = trainfeats_df.drop(['Id', 'smiles'], axis=1).to_numpy()"
   ]
  },
  {
   "cell_type": "code",
   "execution_count": 20,
   "metadata": {
    "pycharm": {
     "name": "#%%\n"
    }
   },
   "outputs": [],
   "source": [
    "train_y = trainlabs_df.drop(['Id'], axis=1).to_numpy()"
   ]
  },
  {
   "cell_type": "code",
   "execution_count": 21,
   "metadata": {
    "pycharm": {
     "name": "#%%\n"
    }
   },
   "outputs": [],
   "source": [
    "x_train, x_test, y_train, y_test = train_test_split(\n",
    "    train_x, train_y, test_size=0.2\n",
    ")"
   ]
  },
  {
   "cell_type": "code",
   "execution_count": 26,
   "metadata": {},
   "outputs": [
    {
     "name": "stdout",
     "output_type": "stream",
     "text": [
      "Epoch 1/100\n",
      "3/3 - 0s - loss: 0.0688 - mean_absolute_error: 0.2004 - val_loss: 0.0349 - val_mean_absolute_error: 0.1580 - 32ms/epoch - 11ms/step\n",
      "Epoch 2/100\n",
      "3/3 - 0s - loss: 0.0639 - mean_absolute_error: 0.1936 - val_loss: 0.0502 - val_mean_absolute_error: 0.1768 - 16ms/epoch - 5ms/step\n",
      "Epoch 3/100\n",
      "3/3 - 0s - loss: 0.0670 - mean_absolute_error: 0.2026 - val_loss: 0.0361 - val_mean_absolute_error: 0.1591 - 18ms/epoch - 6ms/step\n",
      "Epoch 4/100\n",
      "3/3 - 0s - loss: 0.0650 - mean_absolute_error: 0.1950 - val_loss: 0.0336 - val_mean_absolute_error: 0.1550 - 17ms/epoch - 6ms/step\n",
      "Epoch 5/100\n",
      "3/3 - 0s - loss: 0.0665 - mean_absolute_error: 0.1987 - val_loss: 0.0395 - val_mean_absolute_error: 0.1618 - 18ms/epoch - 6ms/step\n",
      "Epoch 6/100\n",
      "3/3 - 0s - loss: 0.0656 - mean_absolute_error: 0.1990 - val_loss: 0.0450 - val_mean_absolute_error: 0.1673 - 18ms/epoch - 6ms/step\n",
      "Epoch 7/100\n",
      "3/3 - 0s - loss: 0.0696 - mean_absolute_error: 0.2018 - val_loss: 0.0335 - val_mean_absolute_error: 0.1550 - 18ms/epoch - 6ms/step\n",
      "Epoch 8/100\n",
      "3/3 - 0s - loss: 0.0636 - mean_absolute_error: 0.1948 - val_loss: 0.0431 - val_mean_absolute_error: 0.1646 - 18ms/epoch - 6ms/step\n",
      "Epoch 9/100\n",
      "3/3 - 0s - loss: 0.0648 - mean_absolute_error: 0.1979 - val_loss: 0.0410 - val_mean_absolute_error: 0.1620 - 18ms/epoch - 6ms/step\n",
      "Epoch 10/100\n",
      "3/3 - 0s - loss: 0.0636 - mean_absolute_error: 0.1962 - val_loss: 0.0346 - val_mean_absolute_error: 0.1563 - 17ms/epoch - 6ms/step\n",
      "Epoch 11/100\n",
      "3/3 - 0s - loss: 0.0660 - mean_absolute_error: 0.1955 - val_loss: 0.0331 - val_mean_absolute_error: 0.1532 - 18ms/epoch - 6ms/step\n",
      "Epoch 12/100\n",
      "3/3 - 0s - loss: 0.0667 - mean_absolute_error: 0.1962 - val_loss: 0.0443 - val_mean_absolute_error: 0.1661 - 18ms/epoch - 6ms/step\n",
      "Epoch 13/100\n",
      "3/3 - 0s - loss: 0.0657 - mean_absolute_error: 0.2008 - val_loss: 0.0351 - val_mean_absolute_error: 0.1563 - 17ms/epoch - 6ms/step\n",
      "Epoch 14/100\n",
      "3/3 - 0s - loss: 0.0637 - mean_absolute_error: 0.1937 - val_loss: 0.0365 - val_mean_absolute_error: 0.1576 - 17ms/epoch - 6ms/step\n",
      "Epoch 15/100\n",
      "3/3 - 0s - loss: 0.0657 - mean_absolute_error: 0.2006 - val_loss: 0.0426 - val_mean_absolute_error: 0.1636 - 17ms/epoch - 6ms/step\n",
      "Epoch 16/100\n",
      "3/3 - 0s - loss: 0.0642 - mean_absolute_error: 0.1973 - val_loss: 0.0339 - val_mean_absolute_error: 0.1541 - 18ms/epoch - 6ms/step\n",
      "Epoch 17/100\n",
      "3/3 - 0s - loss: 0.0632 - mean_absolute_error: 0.1928 - val_loss: 0.0338 - val_mean_absolute_error: 0.1539 - 19ms/epoch - 6ms/step\n",
      "Epoch 18/100\n",
      "3/3 - 0s - loss: 0.0634 - mean_absolute_error: 0.1960 - val_loss: 0.0385 - val_mean_absolute_error: 0.1585 - 20ms/epoch - 7ms/step\n",
      "Epoch 19/100\n",
      "3/3 - 0s - loss: 0.0625 - mean_absolute_error: 0.1944 - val_loss: 0.0341 - val_mean_absolute_error: 0.1540 - 17ms/epoch - 6ms/step\n",
      "Epoch 20/100\n",
      "3/3 - 0s - loss: 0.0655 - mean_absolute_error: 0.1957 - val_loss: 0.0342 - val_mean_absolute_error: 0.1541 - 17ms/epoch - 6ms/step\n",
      "Epoch 21/100\n",
      "3/3 - 0s - loss: 0.0662 - mean_absolute_error: 0.1988 - val_loss: 0.0453 - val_mean_absolute_error: 0.1673 - 17ms/epoch - 6ms/step\n",
      "Epoch 22/100\n",
      "3/3 - 0s - loss: 0.0634 - mean_absolute_error: 0.1943 - val_loss: 0.0327 - val_mean_absolute_error: 0.1506 - 17ms/epoch - 6ms/step\n",
      "Epoch 23/100\n",
      "3/3 - 0s - loss: 0.0642 - mean_absolute_error: 0.1941 - val_loss: 0.0334 - val_mean_absolute_error: 0.1524 - 18ms/epoch - 6ms/step\n",
      "Epoch 24/100\n",
      "3/3 - 0s - loss: 0.0620 - mean_absolute_error: 0.1920 - val_loss: 0.0445 - val_mean_absolute_error: 0.1660 - 18ms/epoch - 6ms/step\n",
      "Epoch 25/100\n",
      "3/3 - 0s - loss: 0.0664 - mean_absolute_error: 0.2037 - val_loss: 0.0480 - val_mean_absolute_error: 0.1705 - 18ms/epoch - 6ms/step\n",
      "Epoch 26/100\n",
      "3/3 - 0s - loss: 0.0645 - mean_absolute_error: 0.1961 - val_loss: 0.0327 - val_mean_absolute_error: 0.1504 - 16ms/epoch - 5ms/step\n",
      "Epoch 27/100\n",
      "3/3 - 0s - loss: 0.0659 - mean_absolute_error: 0.1962 - val_loss: 0.0339 - val_mean_absolute_error: 0.1529 - 19ms/epoch - 6ms/step\n",
      "Epoch 28/100\n",
      "3/3 - 0s - loss: 0.0621 - mean_absolute_error: 0.1896 - val_loss: 0.0485 - val_mean_absolute_error: 0.1712 - 16ms/epoch - 5ms/step\n",
      "Epoch 29/100\n",
      "3/3 - 0s - loss: 0.0649 - mean_absolute_error: 0.2005 - val_loss: 0.0337 - val_mean_absolute_error: 0.1525 - 18ms/epoch - 6ms/step\n",
      "Epoch 30/100\n",
      "3/3 - 0s - loss: 0.0639 - mean_absolute_error: 0.1934 - val_loss: 0.0329 - val_mean_absolute_error: 0.1507 - 17ms/epoch - 6ms/step\n",
      "Epoch 31/100\n",
      "3/3 - 0s - loss: 0.0631 - mean_absolute_error: 0.1942 - val_loss: 0.0409 - val_mean_absolute_error: 0.1604 - 18ms/epoch - 6ms/step\n",
      "Epoch 32/100\n",
      "3/3 - 0s - loss: 0.0698 - mean_absolute_error: 0.2068 - val_loss: 0.0397 - val_mean_absolute_error: 0.1585 - 17ms/epoch - 6ms/step\n",
      "Epoch 33/100\n",
      "3/3 - 0s - loss: 0.0642 - mean_absolute_error: 0.1963 - val_loss: 0.0360 - val_mean_absolute_error: 0.1580 - 17ms/epoch - 6ms/step\n",
      "Epoch 34/100\n",
      "3/3 - 0s - loss: 0.0685 - mean_absolute_error: 0.1988 - val_loss: 0.0383 - val_mean_absolute_error: 0.1575 - 17ms/epoch - 6ms/step\n",
      "Epoch 35/100\n",
      "3/3 - 0s - loss: 0.0621 - mean_absolute_error: 0.1946 - val_loss: 0.0482 - val_mean_absolute_error: 0.1711 - 18ms/epoch - 6ms/step\n",
      "Epoch 36/100\n",
      "3/3 - 0s - loss: 0.0676 - mean_absolute_error: 0.2059 - val_loss: 0.0410 - val_mean_absolute_error: 0.1613 - 18ms/epoch - 6ms/step\n",
      "Epoch 37/100\n",
      "3/3 - 0s - loss: 0.0635 - mean_absolute_error: 0.1945 - val_loss: 0.0336 - val_mean_absolute_error: 0.1535 - 19ms/epoch - 6ms/step\n",
      "Epoch 38/100\n",
      "3/3 - 0s - loss: 0.0639 - mean_absolute_error: 0.1952 - val_loss: 0.0362 - val_mean_absolute_error: 0.1571 - 20ms/epoch - 7ms/step\n",
      "Epoch 39/100\n",
      "3/3 - 0s - loss: 0.0622 - mean_absolute_error: 0.1946 - val_loss: 0.0342 - val_mean_absolute_error: 0.1546 - 17ms/epoch - 6ms/step\n",
      "Epoch 40/100\n",
      "3/3 - 0s - loss: 0.0623 - mean_absolute_error: 0.1924 - val_loss: 0.0336 - val_mean_absolute_error: 0.1530 - 20ms/epoch - 7ms/step\n",
      "Epoch 41/100\n",
      "3/3 - 0s - loss: 0.0619 - mean_absolute_error: 0.1926 - val_loss: 0.0387 - val_mean_absolute_error: 0.1577 - 19ms/epoch - 6ms/step\n",
      "Epoch 42/100\n",
      "3/3 - 0s - loss: 0.0626 - mean_absolute_error: 0.1956 - val_loss: 0.0376 - val_mean_absolute_error: 0.1567 - 19ms/epoch - 6ms/step\n",
      "Epoch 43/100\n",
      "3/3 - 0s - loss: 0.0610 - mean_absolute_error: 0.1926 - val_loss: 0.0333 - val_mean_absolute_error: 0.1517 - 20ms/epoch - 7ms/step\n",
      "Epoch 44/100\n",
      "3/3 - 0s - loss: 0.0643 - mean_absolute_error: 0.1935 - val_loss: 0.0334 - val_mean_absolute_error: 0.1520 - 19ms/epoch - 6ms/step\n",
      "Epoch 45/100\n",
      "3/3 - 0s - loss: 0.0623 - mean_absolute_error: 0.1952 - val_loss: 0.0396 - val_mean_absolute_error: 0.1582 - 18ms/epoch - 6ms/step\n",
      "Epoch 46/100\n",
      "3/3 - 0s - loss: 0.0629 - mean_absolute_error: 0.1964 - val_loss: 0.0355 - val_mean_absolute_error: 0.1548 - 18ms/epoch - 6ms/step\n",
      "Epoch 47/100\n",
      "3/3 - 0s - loss: 0.0629 - mean_absolute_error: 0.1939 - val_loss: 0.0338 - val_mean_absolute_error: 0.1527 - 19ms/epoch - 6ms/step\n",
      "Epoch 48/100\n",
      "3/3 - 0s - loss: 0.0638 - mean_absolute_error: 0.1944 - val_loss: 0.0391 - val_mean_absolute_error: 0.1576 - 17ms/epoch - 6ms/step\n",
      "Epoch 49/100\n",
      "3/3 - 0s - loss: 0.0649 - mean_absolute_error: 0.1969 - val_loss: 0.0337 - val_mean_absolute_error: 0.1522 - 17ms/epoch - 6ms/step\n",
      "Epoch 50/100\n",
      "3/3 - 0s - loss: 0.0618 - mean_absolute_error: 0.1957 - val_loss: 0.0405 - val_mean_absolute_error: 0.1595 - 17ms/epoch - 6ms/step\n",
      "Epoch 51/100\n",
      "3/3 - 0s - loss: 0.0627 - mean_absolute_error: 0.1959 - val_loss: 0.0354 - val_mean_absolute_error: 0.1541 - 17ms/epoch - 6ms/step\n",
      "Epoch 52/100\n",
      "3/3 - 0s - loss: 0.0615 - mean_absolute_error: 0.1932 - val_loss: 0.0343 - val_mean_absolute_error: 0.1525 - 17ms/epoch - 6ms/step\n",
      "Epoch 53/100\n",
      "3/3 - 0s - loss: 0.0627 - mean_absolute_error: 0.1951 - val_loss: 0.0361 - val_mean_absolute_error: 0.1540 - 17ms/epoch - 6ms/step\n",
      "Epoch 54/100\n",
      "3/3 - 0s - loss: 0.0614 - mean_absolute_error: 0.1932 - val_loss: 0.0357 - val_mean_absolute_error: 0.1536 - 18ms/epoch - 6ms/step\n",
      "Epoch 55/100\n",
      "3/3 - 0s - loss: 0.0615 - mean_absolute_error: 0.1933 - val_loss: 0.0343 - val_mean_absolute_error: 0.1522 - 17ms/epoch - 6ms/step\n",
      "Epoch 56/100\n",
      "3/3 - 0s - loss: 0.0617 - mean_absolute_error: 0.1930 - val_loss: 0.0359 - val_mean_absolute_error: 0.1538 - 16ms/epoch - 5ms/step\n",
      "Epoch 57/100\n",
      "3/3 - 0s - loss: 0.0614 - mean_absolute_error: 0.1933 - val_loss: 0.0352 - val_mean_absolute_error: 0.1530 - 19ms/epoch - 6ms/step\n"
     ]
    },
    {
     "name": "stdout",
     "output_type": "stream",
     "text": [
      "Epoch 58/100\n",
      "3/3 - 0s - loss: 0.0624 - mean_absolute_error: 0.1941 - val_loss: 0.0346 - val_mean_absolute_error: 0.1524 - 20ms/epoch - 7ms/step\n",
      "Epoch 59/100\n",
      "3/3 - 0s - loss: 0.0629 - mean_absolute_error: 0.1977 - val_loss: 0.0332 - val_mean_absolute_error: 0.1510 - 19ms/epoch - 6ms/step\n",
      "Epoch 60/100\n",
      "3/3 - 0s - loss: 0.0607 - mean_absolute_error: 0.1910 - val_loss: 0.0431 - val_mean_absolute_error: 0.1631 - 20ms/epoch - 7ms/step\n",
      "Epoch 61/100\n",
      "3/3 - 0s - loss: 0.0702 - mean_absolute_error: 0.2070 - val_loss: 0.0422 - val_mean_absolute_error: 0.1620 - 19ms/epoch - 6ms/step\n",
      "Epoch 62/100\n",
      "3/3 - 0s - loss: 0.0645 - mean_absolute_error: 0.2001 - val_loss: 0.0355 - val_mean_absolute_error: 0.1558 - 18ms/epoch - 6ms/step\n",
      "Epoch 63/100\n",
      "3/3 - 0s - loss: 0.0682 - mean_absolute_error: 0.1987 - val_loss: 0.0372 - val_mean_absolute_error: 0.1568 - 17ms/epoch - 6ms/step\n",
      "Epoch 64/100\n",
      "3/3 - 0s - loss: 0.0699 - mean_absolute_error: 0.2087 - val_loss: 0.0633 - val_mean_absolute_error: 0.2029 - 18ms/epoch - 6ms/step\n",
      "Epoch 65/100\n",
      "3/3 - 0s - loss: 0.0670 - mean_absolute_error: 0.2039 - val_loss: 0.0342 - val_mean_absolute_error: 0.1527 - 19ms/epoch - 6ms/step\n",
      "Epoch 66/100\n",
      "3/3 - 0s - loss: 0.0670 - mean_absolute_error: 0.1964 - val_loss: 0.0359 - val_mean_absolute_error: 0.1562 - 18ms/epoch - 6ms/step\n",
      "Epoch 67/100\n",
      "3/3 - 0s - loss: 0.0682 - mean_absolute_error: 0.1988 - val_loss: 0.0361 - val_mean_absolute_error: 0.1570 - 18ms/epoch - 6ms/step\n",
      "Epoch 68/100\n",
      "3/3 - 0s - loss: 0.0610 - mean_absolute_error: 0.1908 - val_loss: 0.0448 - val_mean_absolute_error: 0.1670 - 18ms/epoch - 6ms/step\n",
      "Epoch 69/100\n",
      "3/3 - 0s - loss: 0.0645 - mean_absolute_error: 0.1992 - val_loss: 0.0386 - val_mean_absolute_error: 0.1589 - 20ms/epoch - 7ms/step\n",
      "Epoch 70/100\n",
      "3/3 - 0s - loss: 0.0636 - mean_absolute_error: 0.1944 - val_loss: 0.0350 - val_mean_absolute_error: 0.1559 - 19ms/epoch - 6ms/step\n",
      "Epoch 71/100\n",
      "3/3 - 0s - loss: 0.0611 - mean_absolute_error: 0.1945 - val_loss: 0.0401 - val_mean_absolute_error: 0.1598 - 17ms/epoch - 6ms/step\n",
      "Epoch 72/100\n",
      "3/3 - 0s - loss: 0.0623 - mean_absolute_error: 0.1954 - val_loss: 0.0368 - val_mean_absolute_error: 0.1566 - 17ms/epoch - 6ms/step\n",
      "Epoch 73/100\n",
      "3/3 - 0s - loss: 0.0613 - mean_absolute_error: 0.1935 - val_loss: 0.0345 - val_mean_absolute_error: 0.1540 - 17ms/epoch - 6ms/step\n",
      "Epoch 74/100\n",
      "3/3 - 0s - loss: 0.0625 - mean_absolute_error: 0.1946 - val_loss: 0.0340 - val_mean_absolute_error: 0.1529 - 17ms/epoch - 6ms/step\n",
      "Epoch 75/100\n",
      "3/3 - 0s - loss: 0.0614 - mean_absolute_error: 0.1925 - val_loss: 0.0379 - val_mean_absolute_error: 0.1561 - 17ms/epoch - 6ms/step\n",
      "Epoch 76/100\n",
      "3/3 - 0s - loss: 0.0635 - mean_absolute_error: 0.1977 - val_loss: 0.0404 - val_mean_absolute_error: 0.1591 - 16ms/epoch - 5ms/step\n",
      "Epoch 77/100\n",
      "3/3 - 0s - loss: 0.0615 - mean_absolute_error: 0.1919 - val_loss: 0.0333 - val_mean_absolute_error: 0.1508 - 18ms/epoch - 6ms/step\n",
      "Epoch 78/100\n",
      "3/3 - 0s - loss: 0.0655 - mean_absolute_error: 0.1975 - val_loss: 0.0343 - val_mean_absolute_error: 0.1517 - 16ms/epoch - 5ms/step\n",
      "Epoch 79/100\n",
      "3/3 - 0s - loss: 0.0619 - mean_absolute_error: 0.1951 - val_loss: 0.0512 - val_mean_absolute_error: 0.1776 - 18ms/epoch - 6ms/step\n",
      "Epoch 80/100\n",
      "3/3 - 0s - loss: 0.0669 - mean_absolute_error: 0.2002 - val_loss: 0.0339 - val_mean_absolute_error: 0.1510 - 18ms/epoch - 6ms/step\n",
      "Epoch 81/100\n",
      "3/3 - 0s - loss: 0.0652 - mean_absolute_error: 0.1973 - val_loss: 0.0334 - val_mean_absolute_error: 0.1506 - 18ms/epoch - 6ms/step\n",
      "Epoch 82/100\n",
      "3/3 - 0s - loss: 0.0650 - mean_absolute_error: 0.1982 - val_loss: 0.0397 - val_mean_absolute_error: 0.1576 - 19ms/epoch - 6ms/step\n",
      "Epoch 83/100\n",
      "3/3 - 0s - loss: 0.0617 - mean_absolute_error: 0.1949 - val_loss: 0.0334 - val_mean_absolute_error: 0.1507 - 18ms/epoch - 6ms/step\n",
      "Epoch 84/100\n",
      "3/3 - 0s - loss: 0.0659 - mean_absolute_error: 0.1959 - val_loss: 0.0334 - val_mean_absolute_error: 0.1510 - 18ms/epoch - 6ms/step\n",
      "Epoch 85/100\n",
      "3/3 - 0s - loss: 0.0626 - mean_absolute_error: 0.1923 - val_loss: 0.0431 - val_mean_absolute_error: 0.1634 - 18ms/epoch - 6ms/step\n",
      "Epoch 86/100\n",
      "3/3 - 0s - loss: 0.0636 - mean_absolute_error: 0.1972 - val_loss: 0.0359 - val_mean_absolute_error: 0.1540 - 18ms/epoch - 6ms/step\n",
      "Epoch 87/100\n",
      "3/3 - 0s - loss: 0.0641 - mean_absolute_error: 0.2007 - val_loss: 0.0336 - val_mean_absolute_error: 0.1512 - 19ms/epoch - 6ms/step\n",
      "Epoch 88/100\n",
      "3/3 - 0s - loss: 0.0625 - mean_absolute_error: 0.1948 - val_loss: 0.0386 - val_mean_absolute_error: 0.1565 - 17ms/epoch - 6ms/step\n",
      "Epoch 89/100\n",
      "3/3 - 0s - loss: 0.0625 - mean_absolute_error: 0.1950 - val_loss: 0.0362 - val_mean_absolute_error: 0.1549 - 19ms/epoch - 6ms/step\n",
      "Epoch 90/100\n",
      "3/3 - 0s - loss: 0.0620 - mean_absolute_error: 0.1946 - val_loss: 0.0372 - val_mean_absolute_error: 0.1557 - 19ms/epoch - 6ms/step\n",
      "Epoch 91/100\n",
      "3/3 - 0s - loss: 0.0627 - mean_absolute_error: 0.1963 - val_loss: 0.0381 - val_mean_absolute_error: 0.1562 - 19ms/epoch - 6ms/step\n",
      "Epoch 92/100\n",
      "3/3 - 0s - loss: 0.0628 - mean_absolute_error: 0.1953 - val_loss: 0.0364 - val_mean_absolute_error: 0.1547 - 17ms/epoch - 6ms/step\n",
      "Epoch 93/100\n",
      "3/3 - 0s - loss: 0.0611 - mean_absolute_error: 0.1930 - val_loss: 0.0353 - val_mean_absolute_error: 0.1536 - 18ms/epoch - 6ms/step\n",
      "Epoch 94/100\n",
      "3/3 - 0s - loss: 0.0618 - mean_absolute_error: 0.1936 - val_loss: 0.0346 - val_mean_absolute_error: 0.1526 - 19ms/epoch - 6ms/step\n",
      "Epoch 95/100\n",
      "3/3 - 0s - loss: 0.0615 - mean_absolute_error: 0.1929 - val_loss: 0.0356 - val_mean_absolute_error: 0.1536 - 20ms/epoch - 7ms/step\n",
      "Epoch 96/100\n",
      "3/3 - 0s - loss: 0.0612 - mean_absolute_error: 0.1930 - val_loss: 0.0387 - val_mean_absolute_error: 0.1561 - 21ms/epoch - 7ms/step\n",
      "Epoch 97/100\n",
      "3/3 - 0s - loss: 0.0619 - mean_absolute_error: 0.1951 - val_loss: 0.0349 - val_mean_absolute_error: 0.1530 - 20ms/epoch - 7ms/step\n",
      "Epoch 98/100\n",
      "3/3 - 0s - loss: 0.0624 - mean_absolute_error: 0.1933 - val_loss: 0.0340 - val_mean_absolute_error: 0.1517 - 18ms/epoch - 6ms/step\n",
      "Epoch 99/100\n",
      "3/3 - 0s - loss: 0.0619 - mean_absolute_error: 0.1944 - val_loss: 0.0403 - val_mean_absolute_error: 0.1588 - 18ms/epoch - 6ms/step\n",
      "Epoch 100/100\n",
      "3/3 - 0s - loss: 0.0622 - mean_absolute_error: 0.1938 - val_loss: 0.0352 - val_mean_absolute_error: 0.1535 - 21ms/epoch - 7ms/step\n"
     ]
    }
   ],
   "source": [
    "history2 = History()\n",
    "history2 = model2.fit(train_x, train_y, validation_split=0.2, epochs=400, verbose=2)"
   ]
  },
  {
   "cell_type": "code",
   "execution_count": 27,
   "metadata": {},
   "outputs": [
    {
     "data": {
      "image/png": "[encoded data removed]",
      "text/plain": [
       "<Figure size 432x288 with 1 Axes>"
      ]
     },
     "metadata": {
      "needs_background": "light"
     },
     "output_type": "display_data"
    }
   ],
   "source": [
    "plt.plot(history2.history['val_loss'])\n",
    "plt.yscale('log')"
   ]
  },
  {
   "cell_type": "code",
   "execution_count": 28,
   "metadata": {
    "pycharm": {
     "name": "#%%\n"
    }
   },
   "outputs": [],
   "source": [
    "# Fit model on training data\n",
    "#model2.fit(x_train, y_train, epochs=1000)"
   ]
  },
  {
   "cell_type": "code",
   "execution_count": 29,
   "metadata": {
    "pycharm": {
     "name": "#%%\n"
    }
   },
   "outputs": [
    {
     "name": "stdout",
     "output_type": "stream",
     "text": [
      "1/1 - 0s - loss: 0.0825 - mean_absolute_error: 0.2086 - 10ms/epoch - 10ms/step\n"
     ]
    },
    {
     "data": {
      "text/plain": [
       "[0.08250995725393295, 0.2086392343044281]"
      ]
     },
     "execution_count": 29,
     "metadata": {},
     "output_type": "execute_result"
    }
   ],
   "source": [
    "# Evaluate neural network performance\n",
    "model2.evaluate(x_test,  y_test, verbose=2)\n"
   ]
  },
  {
   "cell_type": "code",
   "execution_count": 30,
   "metadata": {},
   "outputs": [
    {
     "name": "stdout",
     "output_type": "stream",
     "text": [
      "Epoch 1/40\n",
      "3/3 - 0s - loss: 0.2960 - mean_absolute_error: 0.4253 - val_loss: 0.0774 - val_mean_absolute_error: 0.2315 - 292ms/epoch - 97ms/step\n",
      "Epoch 2/40\n",
      "3/3 - 0s - loss: 0.1388 - mean_absolute_error: 0.3116 - val_loss: 0.1280 - val_mean_absolute_error: 0.3115 - 30ms/epoch - 10ms/step\n",
      "Epoch 3/40\n",
      "3/3 - 0s - loss: 0.0908 - mean_absolute_error: 0.2444 - val_loss: 0.0395 - val_mean_absolute_error: 0.1634 - 24ms/epoch - 8ms/step\n",
      "Epoch 4/40\n",
      "3/3 - 0s - loss: 0.0800 - mean_absolute_error: 0.2190 - val_loss: 0.0602 - val_mean_absolute_error: 0.1988 - 28ms/epoch - 9ms/step\n",
      "Epoch 5/40\n",
      "3/3 - 0s - loss: 0.0867 - mean_absolute_error: 0.2317 - val_loss: 0.0390 - val_mean_absolute_error: 0.1683 - 26ms/epoch - 9ms/step\n",
      "Epoch 6/40\n",
      "3/3 - 0s - loss: 0.0554 - mean_absolute_error: 0.1791 - val_loss: 0.0649 - val_mean_absolute_error: 0.2021 - 27ms/epoch - 9ms/step\n",
      "Epoch 7/40\n",
      "3/3 - 0s - loss: 0.0664 - mean_absolute_error: 0.2068 - val_loss: 0.0677 - val_mean_absolute_error: 0.2084 - 27ms/epoch - 9ms/step\n",
      "Epoch 8/40\n",
      "3/3 - 0s - loss: 0.0539 - mean_absolute_error: 0.1819 - val_loss: 0.0387 - val_mean_absolute_error: 0.1682 - 27ms/epoch - 9ms/step\n",
      "Epoch 9/40\n",
      "3/3 - 0s - loss: 0.0412 - mean_absolute_error: 0.1490 - val_loss: 0.0391 - val_mean_absolute_error: 0.1604 - 27ms/epoch - 9ms/step\n",
      "Epoch 10/40\n",
      "3/3 - 0s - loss: 0.0473 - mean_absolute_error: 0.1626 - val_loss: 0.0370 - val_mean_absolute_error: 0.1586 - 27ms/epoch - 9ms/step\n",
      "Epoch 11/40\n",
      "3/3 - 0s - loss: 0.0373 - mean_absolute_error: 0.1424 - val_loss: 0.0370 - val_mean_absolute_error: 0.1601 - 26ms/epoch - 9ms/step\n",
      "Epoch 12/40\n",
      "3/3 - 0s - loss: 0.0327 - mean_absolute_error: 0.1346 - val_loss: 0.0429 - val_mean_absolute_error: 0.1646 - 27ms/epoch - 9ms/step\n",
      "Epoch 13/40\n",
      "3/3 - 0s - loss: 0.0328 - mean_absolute_error: 0.1383 - val_loss: 0.0362 - val_mean_absolute_error: 0.1556 - 30ms/epoch - 10ms/step\n",
      "Epoch 14/40\n",
      "3/3 - 0s - loss: 0.0268 - mean_absolute_error: 0.1173 - val_loss: 0.0335 - val_mean_absolute_error: 0.1480 - 28ms/epoch - 9ms/step\n",
      "Epoch 15/40\n",
      "3/3 - 0s - loss: 0.0246 - mean_absolute_error: 0.1127 - val_loss: 0.0329 - val_mean_absolute_error: 0.1458 - 48ms/epoch - 16ms/step\n",
      "Epoch 16/40\n",
      "3/3 - 0s - loss: 0.0209 - mean_absolute_error: 0.1037 - val_loss: 0.0352 - val_mean_absolute_error: 0.1503 - 29ms/epoch - 10ms/step\n",
      "Epoch 17/40\n",
      "3/3 - 0s - loss: 0.0184 - mean_absolute_error: 0.0977 - val_loss: 0.0335 - val_mean_absolute_error: 0.1467 - 27ms/epoch - 9ms/step\n",
      "Epoch 18/40\n",
      "3/3 - 0s - loss: 0.0152 - mean_absolute_error: 0.0845 - val_loss: 0.0315 - val_mean_absolute_error: 0.1403 - 27ms/epoch - 9ms/step\n",
      "Epoch 19/40\n",
      "3/3 - 0s - loss: 0.0132 - mean_absolute_error: 0.0814 - val_loss: 0.0310 - val_mean_absolute_error: 0.1385 - 30ms/epoch - 10ms/step\n",
      "Epoch 20/40\n",
      "3/3 - 0s - loss: 0.0105 - mean_absolute_error: 0.0728 - val_loss: 0.0316 - val_mean_absolute_error: 0.1395 - 26ms/epoch - 9ms/step\n",
      "Epoch 21/40\n",
      "3/3 - 0s - loss: 0.0085 - mean_absolute_error: 0.0666 - val_loss: 0.0326 - val_mean_absolute_error: 0.1437 - 25ms/epoch - 8ms/step\n",
      "Epoch 22/40\n",
      "3/3 - 0s - loss: 0.0073 - mean_absolute_error: 0.0618 - val_loss: 0.0303 - val_mean_absolute_error: 0.1354 - 28ms/epoch - 9ms/step\n",
      "Epoch 23/40\n",
      "3/3 - 0s - loss: 0.0054 - mean_absolute_error: 0.0515 - val_loss: 0.0294 - val_mean_absolute_error: 0.1326 - 27ms/epoch - 9ms/step\n",
      "Epoch 24/40\n",
      "3/3 - 0s - loss: 0.0046 - mean_absolute_error: 0.0505 - val_loss: 0.0290 - val_mean_absolute_error: 0.1327 - 26ms/epoch - 9ms/step\n",
      "Epoch 25/40\n",
      "3/3 - 0s - loss: 0.0034 - mean_absolute_error: 0.0410 - val_loss: 0.0297 - val_mean_absolute_error: 0.1387 - 27ms/epoch - 9ms/step\n",
      "Epoch 26/40\n",
      "3/3 - 0s - loss: 0.0031 - mean_absolute_error: 0.0394 - val_loss: 0.0281 - val_mean_absolute_error: 0.1339 - 27ms/epoch - 9ms/step\n",
      "Epoch 27/40\n",
      "3/3 - 0s - loss: 0.0023 - mean_absolute_error: 0.0333 - val_loss: 0.0275 - val_mean_absolute_error: 0.1319 - 29ms/epoch - 10ms/step\n",
      "Epoch 28/40\n",
      "3/3 - 0s - loss: 0.0018 - mean_absolute_error: 0.0292 - val_loss: 0.0280 - val_mean_absolute_error: 0.1360 - 28ms/epoch - 9ms/step\n",
      "Epoch 29/40\n",
      "3/3 - 0s - loss: 0.0015 - mean_absolute_error: 0.0241 - val_loss: 0.0275 - val_mean_absolute_error: 0.1344 - 29ms/epoch - 10ms/step\n",
      "Epoch 30/40\n",
      "3/3 - 0s - loss: 0.0011 - mean_absolute_error: 0.0211 - val_loss: 0.0274 - val_mean_absolute_error: 0.1328 - 28ms/epoch - 9ms/step\n",
      "Epoch 31/40\n",
      "3/3 - 0s - loss: 8.4985e-04 - mean_absolute_error: 0.0165 - val_loss: 0.0279 - val_mean_absolute_error: 0.1347 - 26ms/epoch - 9ms/step\n",
      "Epoch 32/40\n",
      "3/3 - 0s - loss: 7.4159e-04 - mean_absolute_error: 0.0160 - val_loss: 0.0274 - val_mean_absolute_error: 0.1324 - 30ms/epoch - 10ms/step\n",
      "Epoch 33/40\n",
      "3/3 - 0s - loss: 5.6668e-04 - mean_absolute_error: 0.0152 - val_loss: 0.0274 - val_mean_absolute_error: 0.1328 - 28ms/epoch - 9ms/step\n",
      "Epoch 34/40\n",
      "3/3 - 0s - loss: 3.5606e-04 - mean_absolute_error: 0.0116 - val_loss: 0.0276 - val_mean_absolute_error: 0.1346 - 26ms/epoch - 9ms/step\n",
      "Epoch 35/40\n",
      "3/3 - 0s - loss: 3.1610e-04 - mean_absolute_error: 0.0105 - val_loss: 0.0271 - val_mean_absolute_error: 0.1329 - 27ms/epoch - 9ms/step\n",
      "Epoch 36/40\n",
      "3/3 - 0s - loss: 2.6134e-04 - mean_absolute_error: 0.0106 - val_loss: 0.0272 - val_mean_absolute_error: 0.1335 - 28ms/epoch - 9ms/step\n",
      "Epoch 37/40\n",
      "3/3 - 0s - loss: 1.9763e-04 - mean_absolute_error: 0.0074 - val_loss: 0.0274 - val_mean_absolute_error: 0.1342 - 29ms/epoch - 10ms/step\n",
      "Epoch 38/40\n",
      "3/3 - 0s - loss: 1.5893e-04 - mean_absolute_error: 0.0069 - val_loss: 0.0270 - val_mean_absolute_error: 0.1326 - 27ms/epoch - 9ms/step\n",
      "Epoch 39/40\n",
      "3/3 - 0s - loss: 1.4794e-04 - mean_absolute_error: 0.0074 - val_loss: 0.0272 - val_mean_absolute_error: 0.1336 - 28ms/epoch - 9ms/step\n",
      "Epoch 40/40\n",
      "3/3 - 0s - loss: 1.4871e-04 - mean_absolute_error: 0.0075 - val_loss: 0.0273 - val_mean_absolute_error: 0.1346 - 28ms/epoch - 9ms/step\n"
     ]
    },
    {
     "data": {
      "text/plain": [
       "<keras.callbacks.History at 0x7f76fb262040>"
      ]
     },
     "execution_count": 30,
     "metadata": {},
     "output_type": "execute_result"
    }
   ],
   "source": [
    "# Finetuning with low changes in ALL weights\n",
    "model2.trainable = True\n",
    "\n",
    "# It's important to recompile your model after you make any changes\n",
    "# to the `trainable` attribute of any inner layer, so that your changes\n",
    "# are take into account\n",
    "model2.compile(optimizer=tf.keras.optimizers.Adam(1e-3),  # Very low learning rate\n",
    "              loss=\"mean_squared_error\",\n",
    "                metrics=[\"mean_absolute_error\"])\n",
    "\n",
    "# Fit model on training data\n",
    "model2.fit(train_x, train_y, validation_split=0.2, epochs=40, verbose=2)"
   ]
  },
  {
   "cell_type": "code",
   "execution_count": 31,
   "metadata": {},
   "outputs": [
    {
     "name": "stdout",
     "output_type": "stream",
     "text": [
      "1/1 - 0s - loss: 0.0031 - mean_absolute_error: 0.0195 - 10ms/epoch - 10ms/step\n"
     ]
    },
    {
     "data": {
      "text/plain": [
       "[0.00305912340991199, 0.019499510526657104]"
      ]
     },
     "execution_count": 31,
     "metadata": {},
     "output_type": "execute_result"
    }
   ],
   "source": [
    "# Evaluate neural network performance\n",
    "model2.evaluate(x_test,  y_test, verbose=2)"
   ]
  },
  {
   "cell_type": "code",
   "execution_count": 32,
   "metadata": {},
   "outputs": [
    {
     "data": {
      "text/plain": [
       "0.0745910844477102"
      ]
     },
     "execution_count": 32,
     "metadata": {},
     "output_type": "execute_result"
    }
   ],
   "source": [
    "from sklearn.metrics import mean_squared_error\n",
    "y_predicted = model2.predict(train_x)\n",
    "y_true = train_y\n",
    "mean_squared_error(y_true, y_predicted, squared=False)"
   ]
  },
  {
   "cell_type": "code",
   "execution_count": 33,
   "metadata": {
    "pycharm": {
     "name": "#%%\n"
    }
   },
   "outputs": [
    {
     "data": {
      "text/plain": [
       "array([[1.8770813],\n",
       "       [2.1295996],\n",
       "       [1.7085761],\n",
       "       ...,\n",
       "       [1.514987 ],\n",
       "       [1.8876408],\n",
       "       [1.6134741]], dtype=float32)"
      ]
     },
     "execution_count": 33,
     "metadata": {},
     "output_type": "execute_result"
    }
   ],
   "source": [
    "test_df = pd.read_csv(\"test_features.csv.zip\")\n",
    "test_df.head()\n",
    "test_x = test_df.drop(['Id', 'smiles'], axis=1).to_numpy()\n",
    "results = model2.predict(test_x)\n",
    "results"
   ]
  },
  {
   "cell_type": "code",
   "execution_count": 63,
   "metadata": {
    "pycharm": {
     "name": "#%%\n"
    }
   },
   "outputs": [
    {
     "name": "stdout",
     "output_type": "stream",
     "text": [
      "Model: \"sequential_9\"\n",
      "_________________________________________________________________\n",
      " Layer (type)                Output Shape              Param #   \n",
      "=================================================================\n",
      " dense_15 (Dense)            (None, 1000)              1001000   \n",
      "                                                                 \n",
      " dense_16 (Dense)            (None, 100)               100100    \n",
      "                                                                 \n",
      " dense_17 (Dense)            (None, 1000)              101000    \n",
      "                                                                 \n",
      " dense_24 (Dense)            (None, 100)               100100    \n",
      "                                                                 \n",
      " dense_25 (Dense)            (None, 1)                 101       \n",
      "                                                                 \n",
      "=================================================================\n",
      "Total params: 1,302,301\n",
      "Trainable params: 1,302,301\n",
      "Non-trainable params: 0\n",
      "_________________________________________________________________\n"
     ]
    }
   ],
   "source": [
    "model2.summary()"
   ]
  },
  {
   "cell_type": "code",
   "execution_count": 34,
   "metadata": {
    "pycharm": {
     "name": "#%%\n"
    }
   },
   "outputs": [],
   "source": [
    "results_df = pd.read_csv(\"sample.csv\")\n",
    "results_df['y'] = results\n",
    "results_df.to_csv('results.csv', index=False)\n",
    "\n"
   ]
  },
  {
   "cell_type": "code",
   "execution_count": 22,
   "metadata": {
    "pycharm": {
     "name": "#%%\n"
    }
   },
   "outputs": [],
   "source": []
  },
  {
   "cell_type": "code",
   "execution_count": 23,
   "metadata": {},
   "outputs": [],
   "source": [
    "# model = LinearRegression().fit(x, y)"
   ]
  },
  {
   "cell_type": "code",
   "execution_count": 24,
   "metadata": {},
   "outputs": [],
   "source": [
    "# Obtain the coefficient of determination by calling the model with the score() function, then print the coefficient:\n",
    "# r_sq = model.score(x, y)\n",
    "# r_sq"
   ]
  },
  {
   "cell_type": "code",
   "execution_count": 25,
   "metadata": {},
   "outputs": [],
   "source": [
    "# Predict a Response and print it:\n",
    "# y_pred = model.predict(x)\n",
    "# print('Predicted response:', y_pred, sep='\\n')"
   ]
  },
  {
   "cell_type": "code",
   "execution_count": 26,
   "metadata": {},
   "outputs": [],
   "source": [
    "import numpy as np"
   ]
  }
 ],
 "metadata": {
  "kernelspec": {
   "display_name": "Python 3 (ipykernel)",
   "language": "python",
   "name": "python3"
  },
  "language_info": {
   "codemirror_mode": {
    "name": "ipython",
    "version": 3
   },
   "file_extension": ".py",
   "mimetype": "text/x-python",
   "name": "python",
   "nbconvert_exporter": "python",
   "pygments_lexer": "ipython3",
   "version": "3.8.10"
  }
 },
 "nbformat": 4,
 "nbformat_minor": 4
}
