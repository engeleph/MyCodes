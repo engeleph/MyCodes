{
 "cells": [
  {
   "cell_type": "markdown",
   "id": "99b35845",
   "metadata": {},
   "source": [
    "Loading Data"
   ]
  },
  {
   "cell_type": "code",
   "execution_count": 1,
   "id": "5307a29b",
   "metadata": {},
   "outputs": [],
   "source": [
    "# labels=[\"LABEL_RRate\", \"LABEL_ABPm\", \"LABEL_SpO2\", \"LABEL_Heartrate\"]\n",
    "\n",
    "# for lab in labels:\n",
    "#     count = (y_train[lab] >= 90).sum()\n",
    "#     print(count)\n",
    "\n",
    "\n",
    "\n",
    "# print(count)"
   ]
  },
  {
   "cell_type": "code",
   "execution_count": 20,
   "id": "bdfd9fdc",
   "metadata": {},
   "outputs": [],
   "source": [
    "from sklearn.pipeline import Pipeline \n",
    "from sklearn.preprocessing import PolynomialFeatures, StandardScaler\n",
    "from matplotlib import pyplot as plt\n",
    "from sklearn.metrics import classification_report, confusion_matrix \n",
    "import pandas as pd\n",
    "import numpy as np\n",
    "from sklearn.impute import KNNImputer\n",
    "from sklearn.linear_model import LogisticRegression, LinearRegression, SGDClassifier,Ridge,RidgeCV\n",
    "from sklearn.model_selection import cross_val_score ,GridSearchCV,RepeatedKFold,train_test_split\n",
    "from sklearn.svm import SVC, SVR\n",
    "from sklearn.ensemble import RandomForestRegressor,RandomForestClassifier\n",
    "import sklearn.metrics as metrics\n",
    "from sklearn.ensemble import HistGradientBoostingClassifier\n"
   ]
  },
  {
   "cell_type": "code",
   "execution_count": 21,
   "id": "a4275df3",
   "metadata": {},
   "outputs": [],
   "source": [
    "\n",
    "X_train = pd.read_csv(\"train_features.csv\")\n",
    "#X_train = X_train.set_index(\"pid\")\n",
    "\n",
    "y_train = pd.read_csv(\"train_labels.csv\")\n",
    "#y_train = y_train.set_index(\"pid\")\n",
    "\n",
    "X_test = pd.read_csv(\"test_features.csv\")\n",
    "#X_test = X_test.set_index(\"pid\")\n",
    "#display(X_train)\n",
    "#display(y_train)\n",
    "#display(X_test)"
   ]
  },
  {
   "cell_type": "code",
   "execution_count": 22,
   "id": "35815434",
   "metadata": {},
   "outputs": [],
   "source": [
    "##set average value for different measurements\n",
    "X_train = X_train.drop(\"Time\", axis=1)\n",
    "X_train = X_train.groupby('pid',as_index=False,sort=False).mean()\n",
    "\n",
    "X_test = X_test.drop(\"Time\", axis=1)\n",
    "X_test = X_test.groupby('pid',as_index=False,sort=False).mean()\n",
    "\n",
    "#use knn to find appropriate value for missing entries\n",
    "imputer = KNNImputer(n_neighbors=7)\n",
    "X_train = imputer.fit_transform(X_train)\n",
    "#use knn to find appropriate value for missing entries\n",
    "#print(X_train.iloc[0])\n",
    "imputer = KNNImputer(n_neighbors=7)\n",
    "X_test = imputer.fit_transform(X_test)\n",
    "\n",
    "\n",
    "\n",
    "# set dummy variable (-100) for missing values\n",
    "#ind_train = X_train.isnull()\n",
    "#X_train[ind_train] = -100\n",
    "\n",
    "#ind_test = X_test.isnull()\n",
    "#X_test[ind_test] = -100"
   ]
  },
  {
   "cell_type": "code",
   "execution_count": 23,
   "id": "e99969c8",
   "metadata": {},
   "outputs": [],
   "source": [
    "#remove id column \n",
    "\n",
    "\n",
    "X_train = X_train[:,1:]\n",
    "pid = X_test[:,0]\n",
    "X_test = X_test[:,1:]"
   ]
  },
  {
   "cell_type": "code",
   "execution_count": 24,
   "id": "371e2289",
   "metadata": {},
   "outputs": [],
   "source": [
    "y_train[\"LABEL_Sepsis\"]\n",
    "pid = {\"pid\" : pid}\n",
    "pid = pd.DataFrame(pid)"
   ]
  },
  {
   "cell_type": "markdown",
   "id": "ef0c9789",
   "metadata": {},
   "source": [
    "# Task 2A classification multiple variables"
   ]
  },
  {
   "cell_type": "code",
   "execution_count": 25,
   "id": "cbadc4af",
   "metadata": {},
   "outputs": [
    {
     "name": "stdout",
     "output_type": "stream",
     "text": [
      "LABEL_BaseExcess\n",
      "LABEL_Fibrinogen\n",
      "LABEL_AST\n",
      "LABEL_Alkalinephos\n",
      "LABEL_Bilirubin_total\n",
      "LABEL_Lactate\n",
      "LABEL_TroponinI\n",
      "LABEL_SaO2\n",
      "LABEL_Bilirubin_direct\n",
      "LABEL_EtCO2\n"
     ]
    }
   ],
   "source": [
    "# use logistic regression for prediction\n",
    "#X_train.to_numpy()\n",
    "#y_train.to_numpy()\n",
    "#X_test.to_numpy()\n",
    "i=0\n",
    "\n",
    "l2_regularization=np.array((1, 100 ,100, 1 ,200, 200 ,100 ,100, 1, 1))\n",
    "\n",
    "\n",
    "\n",
    "labels=[\"LABEL_BaseExcess\", \"LABEL_Fibrinogen\", \"LABEL_AST\", \"LABEL_Alkalinephos\", \"LABEL_Bilirubin_total\", \"LABEL_Lactate\", \"LABEL_TroponinI\", \"LABEL_SaO2\", \"LABEL_Bilirubin_direct\", \"LABEL_EtCO2\"]\n",
    "predicted_labels = {}\n",
    "for lab in labels:\n",
    "    print(lab)\n",
    "#     model = LogisticRegression(random_state=0).fit(X_train, y_train[lab])\n",
    "#     modelsgd=SGDClassifier(random_state=0,loss=\"modified_huber\").fit(X_train, y_train[lab])\n",
    "\n",
    "\n",
    "    model=HistGradientBoostingClassifier(random_state=42,l2_regularization=l2_regularization[i],max_leaf_nodes=30).fit(X_train, y_train[lab])\n",
    "#     param_grid = {\n",
    "#         'learning_rate': (0.01, 0.1, 1, 10),\n",
    "#         'max_leaf_nodes': (3, 10, 30),\n",
    "#         'l2_regularization':(0.0 ,1.0 ,100.0, 200.0)\n",
    "#     }\n",
    "#     grid = GridSearchCV(model, param_grid=param_grid,\n",
    "#                                      n_jobs=-1, cv=5, verbose = 3,scoring='roc_auc')\n",
    "#     grid.fit(X_train, y_train[lab])\n",
    "\n",
    "    \n",
    "    \n",
    "#     max_depth=[2, 8, 16]\n",
    "#     n_estimators = [64, 128]\n",
    "#     param_grid = dict(max_depth=max_depth, n_estimators=n_estimators)\n",
    "#     model = RandomForestClassifier(random_state=20,n_estimators=64, max_depth=2).fit(X_train, y_train[lab])\n",
    "#     grid = GridSearchCV(estimator=dfrst, param_grid=param_grid, cv = 5,verbose = 2)\n",
    "#     grid_results = grid.fit(X_train, y_train[\"LABEL_Sepsis\"])\n",
    "#     print(\"Best: {0}, using {1}\".format(grid_results.cv_results_['mean_test_score'], grid_results.best_params_))\n",
    "\n",
    "\n",
    "#     print(grid.best_params_)\n",
    "#     print(grid.best_estimator_)\n",
    "    i=i+1\n",
    "#   predicted_labels[lab] = np.around(model.predict_proba(X_test)[:,1], 5)\n",
    "    predicted_labels[lab]= np.around(model.predict_proba(X_test)[:,1], 5)\n",
    "# \n",
    "\n"
   ]
  },
  {
   "cell_type": "code",
   "execution_count": null,
   "id": "4d4a914a",
   "metadata": {},
   "outputs": [],
   "source": [
    "# labels=[\"LABEL_BaseExcess\", \"LABEL_Fibrinogen\", \"LABEL_AST\", \"LABEL_Alkalinephos\", \"LABEL_Bilirubin_total\", \"LABEL_Lactate\", \"LABEL_TroponinI\", \"LABEL_SaO2\", \"LABEL_Bilirubin_direct\", \"LABEL_EtCO2\"]\n",
    "# predicted_labels = {}\n",
    "# i=0\n",
    "# for lab in labels:\n",
    "#     print(i)\n",
    "#     i=i+1\n"
   ]
  },
  {
   "cell_type": "markdown",
   "id": "8db7b477",
   "metadata": {},
   "source": [
    "# Task 2B classification 1 variable"
   ]
  },
  {
   "cell_type": "code",
   "execution_count": 26,
   "id": "dc6c479c",
   "metadata": {},
   "outputs": [],
   "source": [
    "#predict sepsis event\n",
    "scaler = StandardScaler()\n",
    "\n",
    "# X_scaled=scaler.transform(X_train)\n",
    "# y_scaled=scaler.transform(y_train)\n",
    "\n",
    "\n",
    "\n",
    "\n",
    "# max_depth=[2, 8, 16]\n",
    "# n_estimators = [64, 128]\n",
    "# param_grid = dict(max_depth=max_depth, n_estimators=n_estimators)\n",
    "model = RandomForestClassifier(random_state=20,n_estimators=64, max_depth=2).fit(X_train, y_train[\"LABEL_Sepsis\"])\n",
    "# grid = GridSearchCV(estimator=dfrst, param_grid=param_grid, cv = 5,verbose = 2)\n",
    "# grid_results = grid.fit(X_train, y_train[\"LABEL_Sepsis\"])\n",
    "# print(\"Best: {0}, using {1}\".format(grid_results.cv_results_['mean_test_score'], grid_results.best_params_))\n",
    "\n",
    "\n",
    "# param_grid = {\"model__C\": [ 1.0, 10.0, 100.0],\n",
    "#               'model__gamma': [1, 0.1, 0.01, 0.001],\n",
    "#               'model__coef0':[0.0 ,5.0 ,10.0 ,50.0],\n",
    "#               'model__kernel': ['sigmoid','rbf']}\n",
    "# model =  SVC(random_state=20, probability=True)\n",
    "# pipe = Pipeline(steps=[(\"scaler\", scaler), (\"model\", model)])\n",
    "# print(pipe.get_params().keys())\n",
    "# grid = GridSearchCV(pipe, param_grid, refit = True, verbose = 2,n_jobs=-1,cv=5).fit(X_train, y_train[\"LABEL_Sepsis\"])\n",
    "\n",
    "\n",
    "# model.fit(X_train, y_train[\"LABEL_Sepsis\"])\n",
    "# print(grid.best_params_)\n",
    "# print(grid.best_estimator_)\n",
    "\n",
    "# model = LogisticRegression(random_state=0).fit(X_train, y_train[\"LABEL_Sepsis\"])\n",
    "predicted_labels[\"LABEL_Sepsis\"] = np.around(model.predict_proba(X_test)[:,1],5)#_proba"
   ]
  },
  {
   "cell_type": "code",
   "execution_count": 27,
   "id": "a9380585",
   "metadata": {},
   "outputs": [
    {
     "data": {
      "image/png": "[encoded data removed]",
      "text/plain": [
       "<Figure size 432x288 with 1 Axes>"
      ]
     },
     "metadata": {
      "needs_background": "light"
     },
     "output_type": "display_data"
    }
   ],
   "source": [
    "x = np.arange(1,11) \n",
    "y = 2 * x + 5 \n",
    "plt.title(\"Matplotlib demo\") \n",
    "plt.xlabel(\"x axis caption\") \n",
    "plt.ylabel(\"y axis caption\") \n",
    "plt.plot(y_train[\"LABEL_Sepsis\"]) \n",
    "plt.show()\n",
    "\n"
   ]
  },
  {
   "cell_type": "markdown",
   "id": "fecb7ca3",
   "metadata": {},
   "source": [
    "# Task 2C Regression multiple variables"
   ]
  },
  {
   "cell_type": "code",
   "execution_count": 28,
   "id": "cce25965",
   "metadata": {},
   "outputs": [
    {
     "name": "stdout",
     "output_type": "stream",
     "text": [
      "mean  18.795959655719553\n",
      "std  3.511241475344605\n",
      "mean  82.51117094000381\n",
      "std  12.745110346239075\n",
      "mean  96.94731096288041\n",
      "std  2.110956571268135\n",
      "mean  84.11971626206534\n",
      "std  14.718396461244058\n"
     ]
    },
    {
     "data": {
      "text/plain": [
       "[<matplotlib.lines.Line2D at 0x7f8b8fdabe80>]"
      ]
     },
     "execution_count": 28,
     "metadata": {},
     "output_type": "execute_result"
    },
    {
     "data": {
      "image/png": "[encoded data removed]",
      "text/plain": [
       "<Figure size 432x288 with 1 Axes>"
      ]
     },
     "metadata": {
      "needs_background": "light"
     },
     "output_type": "display_data"
    }
   ],
   "source": [
    "\n",
    "labels=[\"LABEL_RRate\", \"LABEL_ABPm\", \"LABEL_SpO2\", \"LABEL_Heartrate\"]\n",
    "\n",
    "\n",
    "for lab in labels:\n",
    "    print(\"mean \",y_train[lab].mean())\n",
    "    print(\"std \" ,y_train[lab].std())\n",
    "plt.plot(y_train[labels[1]] )\n"
   ]
  },
  {
   "cell_type": "code",
   "execution_count": 29,
   "id": "a9f4d9a9",
   "metadata": {},
   "outputs": [],
   "source": [
    "#predicted vital rates\n",
    "# param_grid = [{'alpha': [0.1, 1 ,10 ,100, 200 ,500]} ]\n",
    "    \n",
    "# sc_X = StandardScaler()\n",
    "# sc_y = StandardScaler()\n",
    "# X_trainsc = sc_X.fit_transform(X_train)\n",
    "# y_trainsc = sc_y.fit_transform(y_train[labels])\n",
    "\n",
    "# param_grid = {\"model__C\": [ 1.0, 10.0, 100.0],\n",
    "#               'model__gamma': [1, 0.01, 0.001],\n",
    "#               'model__coef0':[0.0  ,10.0 ,50.0],\n",
    "#               'model__kernel': ['sigmoid','rbf']}\n",
    "# pipe = Pipeline(steps=[(\"scaler\", scaler), (\"model\", model)])\n",
    "# print(pipe.get_params().keys())\n",
    "\n",
    "\n",
    "\n",
    "\n",
    "for lab in labels:\n",
    "        model = Ridge(random_state=88,alpha=500).fit(X_train, y_train[lab])\n",
    "#         grid = GridSearchCV(model, param_grid, refit = True, verbose = 3,n_jobs=-1).fit(X_train, y_train[lab])\n",
    "# model=SVR(random_state=20, probability=True)\n",
    "#         grid = GridSearchCV(pipe, param_grid, refit = True, verbose = 2,n_jobs=-1,cv=5).fit(X_train, y_train[\"LABEL_Sepsis\"])\n",
    "#         print(grid.best_params_) \n",
    "\n",
    "#         scores = cross_val_score(model, x, y, scoring='neg_root_mean_squared_error', cv=10 ) # use negative RMS as metric\n",
    "#         score_avgd=abs(np.mean(scores))\n",
    "#         print('Mean MSE: %f (%f)' % (score_avgd, np.std(scores)))  \n",
    "\n",
    "        predicted_labels[lab] = np.around(model.predict(X_test),1)\n",
    "\n",
    "\n",
    "\n",
    "# print(predicted_labels)\n"
   ]
  },
  {
   "cell_type": "code",
   "execution_count": 30,
   "id": "f6e09882",
   "metadata": {},
   "outputs": [
    {
     "name": "stdout",
     "output_type": "stream",
     "text": [
      "(12664, 15)\n"
     ]
    }
   ],
   "source": [
    "#export data frame\n",
    "predicted_labels=pd.DataFrame(predicted_labels)\n",
    "print(predicted_labels.shape)\n",
    "predicted_labels = pd.concat([pid, predicted_labels], axis=1)\n",
    "# predicted_labels.to_csv(\"prediction.csv\", sep=\",\", index=False)\n",
    "# predicted_labels.to_csv('prediction.zip',sep=\",\", index=False, compression='zip')\n"
   ]
  },
  {
   "cell_type": "code",
   "execution_count": 31,
   "id": "59c6f519",
   "metadata": {},
   "outputs": [],
   "source": [
    "predicted_labels.to_csv('prediction.zip', index=False, float_format='%.3f', compression='zip')\n",
    "\n"
   ]
  },
  {
   "cell_type": "code",
   "execution_count": 32,
   "id": "62b43416",
   "metadata": {},
   "outputs": [
    {
     "name": "stdout",
     "output_type": "stream",
     "text": [
      "(18995, 16)\n"
     ]
    }
   ],
   "source": [
    "print(y_train.shape)\n",
    "\n"
   ]
  },
  {
   "cell_type": "markdown",
   "id": "1459d2be",
   "metadata": {},
   "source": [
    "# Evaluate"
   ]
  },
  {
   "cell_type": "code",
   "execution_count": 33,
   "id": "846af1d5",
   "metadata": {},
   "outputs": [],
   "source": [
    "VITALS = ['LABEL_RRate', 'LABEL_ABPm', 'LABEL_SpO2', 'LABEL_Heartrate']\n",
    "TESTS = ['LABEL_BaseExcess', 'LABEL_Fibrinogen', 'LABEL_AST', 'LABEL_Alkalinephos', 'LABEL_Bilirubin_total',\n",
    "         'LABEL_Lactate', 'LABEL_TroponinI', 'LABEL_SaO2',\n",
    "         'LABEL_Bilirubin_direct', 'LABEL_EtCO2']\n",
    "\n",
    "\n",
    "def get_score(df_true, df_submission):\n",
    "    df_submission = df_submission.sort_values('pid')\n",
    "    df_true = df_true.sort_values('pid')\n",
    "    task1 = np.mean([metrics.roc_auc_score(df_true[entry], df_submission[entry]) for entry in TESTS])\n",
    "    task2 = metrics.roc_auc_score(df_true['LABEL_Sepsis'], df_submission['LABEL_Sepsis'])\n",
    "    task3 = np.mean([0.5 + 0.5 * np.maximum(0, metrics.r2_score(df_true[entry], df_submission[entry])) for entry in VITALS])\n",
    "    score = np.mean([task1, task2, task3])\n",
    "    print(task1, task2, task3)\n",
    "    return score\n"
   ]
  },
  {
   "cell_type": "code",
   "execution_count": null,
   "id": "38bffdc1",
   "metadata": {},
   "outputs": [],
   "source": []
  },
  {
   "cell_type": "code",
   "execution_count": 19,
   "id": "e84420c4",
   "metadata": {},
   "outputs": [
    {
     "name": "stdout",
     "output_type": "stream",
     "text": [
      "           pid  LABEL_BaseExcess  LABEL_Fibrinogen  LABEL_AST  \\\n",
      "0          0.0           0.59862           0.16088    0.60498   \n",
      "1      10001.0           0.12497           0.08057    0.41767   \n",
      "2      10003.0           0.02310           0.09551    0.27466   \n",
      "3      10004.0           0.05420           0.05067    0.25194   \n",
      "4      10005.0           0.03999           0.02109    0.20495   \n",
      "...        ...               ...               ...        ...   \n",
      "12659   9989.0           0.06410           0.03748    0.22246   \n",
      "12660   9991.0           0.26569           0.11669    0.17215   \n",
      "12661   9992.0           0.42697           0.01994    0.16329   \n",
      "12662   9994.0           0.60028           0.11642    0.39549   \n",
      "12663   9997.0           0.76563           0.02634    0.16650   \n",
      "\n",
      "       LABEL_Alkalinephos  LABEL_Bilirubin_total  LABEL_Lactate  \\\n",
      "0                 0.62502                0.55315        0.44354   \n",
      "1                 0.40004                0.40296        0.16986   \n",
      "2                 0.21126                0.26515        0.43070   \n",
      "3                 0.22427                0.29161        0.06554   \n",
      "4                 0.16680                0.21238        0.06658   \n",
      "...                   ...                    ...            ...   \n",
      "12659             0.18213                0.20296        0.10122   \n",
      "12660             0.22409                0.24224        0.20368   \n",
      "12661             0.20398                0.22300        0.18145   \n",
      "12662             0.43790                0.36008        0.52579   \n",
      "12663             0.09041                0.16611        0.37441   \n",
      "\n",
      "       LABEL_TroponinI  LABEL_SaO2  LABEL_Bilirubin_direct  LABEL_EtCO2  \\\n",
      "0              0.05216     0.14993                 0.07043      0.01050   \n",
      "1              0.15827     0.14821                 0.03159      0.02061   \n",
      "2              0.10877     0.33104                 0.04019      0.21937   \n",
      "3              0.07096     0.08072                 0.01330      0.02051   \n",
      "4              0.19617     0.06556                 0.01527      0.01333   \n",
      "...                ...         ...                     ...          ...   \n",
      "12659          0.06192     0.05143                 0.01282      0.00774   \n",
      "12660          0.05293     0.08828                 0.01909      0.02357   \n",
      "12661          0.03661     0.35248                 0.01565      0.01457   \n",
      "12662          0.04234     0.39147                 0.05460      0.01822   \n",
      "12663          0.06303     0.25550                 0.03211      0.01009   \n",
      "\n",
      "       LABEL_Sepsis  LABEL_RRate  LABEL_ABPm  LABEL_SpO2  LABEL_Heartrate  \n",
      "0           0.07600         14.0        83.3        98.9             85.2  \n",
      "1           0.06030         18.2        88.2        95.0            103.0  \n",
      "2           0.05852         18.7        81.3        97.9             92.0  \n",
      "3           0.05103         16.5        72.2        95.9             87.8  \n",
      "4           0.05230         19.2        75.1        96.0             61.4  \n",
      "...             ...          ...         ...         ...              ...  \n",
      "12659       0.05106         19.7        80.5        95.7            103.0  \n",
      "12660       0.06191         18.4        95.3        98.7             74.9  \n",
      "12661       0.05670         18.8        69.4        97.2             84.2  \n",
      "12662       0.07187         15.8        87.8        98.6             95.8  \n",
      "12663       0.06630         18.1        78.2        98.2             86.1  \n",
      "\n",
      "[12664 rows x 16 columns]\n"
     ]
    }
   ],
   "source": [
    "print(predicted_labels)"
   ]
  },
  {
   "cell_type": "code",
   "execution_count": null,
   "id": "9d4afec1",
   "metadata": {},
   "outputs": [],
   "source": []
  }
 ],
 "metadata": {
  "kernelspec": {
   "display_name": "Python 3 (ipykernel)",
   "language": "python",
   "name": "python3"
  },
  "language_info": {
   "codemirror_mode": {
    "name": "ipython",
    "version": 3
   },
   "file_extension": ".py",
   "mimetype": "text/x-python",
   "name": "python",
   "nbconvert_exporter": "python",
   "pygments_lexer": "ipython3",
   "version": "3.8.10"
  }
 },
 "nbformat": 4,
 "nbformat_minor": 5
}
